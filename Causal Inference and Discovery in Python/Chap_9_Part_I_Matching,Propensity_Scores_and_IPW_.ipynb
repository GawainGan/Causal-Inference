{
  "nbformat": 4,
  "nbformat_minor": 0,
  "metadata": {
    "colab": {
      "provenance": [],
      "collapsed_sections": [
        "KZGw9au_Whia",
        "drPG3QxGWkTS",
        "j0rQxvOfTbb_"
      ],
      "mount_file_id": "1m79ltGiTOSqXb1vhaGWviYEly3RBkgym",
      "authorship_tag": "ABX9TyNpKx+kHeipwN2PkWbe0BJb",
      "include_colab_link": true
    },
    "kernelspec": {
      "name": "python3",
      "display_name": "Python 3"
    },
    "language_info": {
      "name": "python"
    }
  },
  "cells": [
    {
      "cell_type": "markdown",
      "metadata": {
        "id": "view-in-github",
        "colab_type": "text"
      },
      "source": [
        "<a href=\"https://colab.research.google.com/github/GawainGan/Causal-Inference/blob/main/Causal%20Inference%20and%20Discovery%20in%20Python/Chap_9_Part_I_Matching%2CPropensity_Scores_and_IPW_.ipynb\" target=\"_parent\"><img src=\"https://colab.research.google.com/assets/colab-badge.svg\" alt=\"Open In Colab\"/></a>"
      ]
    },
    {
      "cell_type": "markdown",
      "source": [
        "### Package"
      ],
      "metadata": {
        "id": "KZGw9au_Whia"
      }
    },
    {
      "cell_type": "code",
      "source": [
        "!pip install react"
      ],
      "metadata": {
        "colab": {
          "base_uri": "https://localhost:8080/"
        },
        "id": "VBpBGBpkT-aJ",
        "outputId": "32ab2b00-d424-4f85-8ab3-32c5c19a16e8"
      },
      "execution_count": null,
      "outputs": [
        {
          "output_type": "stream",
          "name": "stdout",
          "text": [
            "Collecting react\n",
            "  Downloading react-4.3.0.tar.gz (10 kB)\n",
            "  Preparing metadata (setup.py) ... \u001b[?25l\u001b[?25hdone\n",
            "Requirement already satisfied: requests>=2.5.0 in /usr/local/lib/python3.10/dist-packages (from react) (2.32.3)\n",
            "Collecting optional-django==0.3.0 (from react)\n",
            "  Downloading optional-django-0.3.0.tar.gz (9.8 kB)\n",
            "  Preparing metadata (setup.py) ... \u001b[?25l\u001b[?25hdone\n",
            "Requirement already satisfied: charset-normalizer<4,>=2 in /usr/local/lib/python3.10/dist-packages (from requests>=2.5.0->react) (3.3.2)\n",
            "Requirement already satisfied: idna<4,>=2.5 in /usr/local/lib/python3.10/dist-packages (from requests>=2.5.0->react) (3.8)\n",
            "Requirement already satisfied: urllib3<3,>=1.21.1 in /usr/local/lib/python3.10/dist-packages (from requests>=2.5.0->react) (2.0.7)\n",
            "Requirement already satisfied: certifi>=2017.4.17 in /usr/local/lib/python3.10/dist-packages (from requests>=2.5.0->react) (2024.8.30)\n",
            "Building wheels for collected packages: react, optional-django\n",
            "  Building wheel for react (setup.py) ... \u001b[?25l\u001b[?25hdone\n",
            "  Created wheel for react: filename=react-4.3.0-py3-none-any.whl size=4839 sha256=27eb8fc1482eac63aa3e1048e630b71d80092a0bc9023f9d7726feaedb2a38ec\n",
            "  Stored in directory: /root/.cache/pip/wheels/7c/95/2c/984564ad0d89a8dfbb16952e144462b0c1268e2ecf6d4f9efc\n",
            "  Building wheel for optional-django (setup.py) ... \u001b[?25l\u001b[?25hdone\n",
            "  Created wheel for optional-django: filename=optional_django-0.3.0-py3-none-any.whl size=10538 sha256=76edc6db85725cca9f884d3d5919378d090b437c200f15b71ec49307c68603d4\n",
            "  Stored in directory: /root/.cache/pip/wheels/7b/e2/96/a5db3b3a3f504fd0b8871aba165002426d293ecde2391ec60a\n",
            "Successfully built react optional-django\n",
            "Installing collected packages: optional-django, react\n",
            "Successfully installed optional-django-0.3.0 react-4.3.0\n"
          ]
        }
      ]
    },
    {
      "cell_type": "code",
      "source": [
        "!pip install dowhy==0.8 # fix the error: https://github.com/py-why/dowhy/issues/1028\n",
        "!pip install econml"
      ],
      "metadata": {
        "colab": {
          "base_uri": "https://localhost:8080/"
        },
        "id": "9EHpn3GvWGFl",
        "outputId": "25087bb9-36e8-4adb-84d4-e979dda28453"
      },
      "execution_count": null,
      "outputs": [
        {
          "output_type": "stream",
          "name": "stdout",
          "text": [
            "Collecting dowhy==0.8\n",
            "  Downloading dowhy-0.8-py3-none-any.whl.metadata (30 kB)\n",
            "Requirement already satisfied: numpy>=1.15 in /usr/local/lib/python3.10/dist-packages (from dowhy==0.8) (1.26.4)\n",
            "Requirement already satisfied: scipy in /usr/local/lib/python3.10/dist-packages (from dowhy==0.8) (1.13.1)\n",
            "Requirement already satisfied: statsmodels in /usr/local/lib/python3.10/dist-packages (from dowhy==0.8) (0.14.2)\n",
            "Requirement already satisfied: pandas>=0.24 in /usr/local/lib/python3.10/dist-packages (from dowhy==0.8) (2.1.4)\n",
            "Requirement already satisfied: networkx>=2.0 in /usr/local/lib/python3.10/dist-packages (from dowhy==0.8) (3.3)\n",
            "Requirement already satisfied: sympy>=1.4 in /usr/local/lib/python3.10/dist-packages (from dowhy==0.8) (1.13.2)\n",
            "Requirement already satisfied: scikit-learn in /usr/local/lib/python3.10/dist-packages (from dowhy==0.8) (1.3.2)\n",
            "Requirement already satisfied: pydot>=1.4 in /usr/local/lib/python3.10/dist-packages (from dowhy==0.8) (1.4.2)\n",
            "Requirement already satisfied: python-dateutil>=2.8.2 in /usr/local/lib/python3.10/dist-packages (from pandas>=0.24->dowhy==0.8) (2.8.2)\n",
            "Requirement already satisfied: pytz>=2020.1 in /usr/local/lib/python3.10/dist-packages (from pandas>=0.24->dowhy==0.8) (2024.2)\n",
            "Requirement already satisfied: tzdata>=2022.1 in /usr/local/lib/python3.10/dist-packages (from pandas>=0.24->dowhy==0.8) (2024.1)\n",
            "Requirement already satisfied: pyparsing>=2.1.4 in /usr/local/lib/python3.10/dist-packages (from pydot>=1.4->dowhy==0.8) (3.1.4)\n",
            "Requirement already satisfied: mpmath<1.4,>=1.1.0 in /usr/local/lib/python3.10/dist-packages (from sympy>=1.4->dowhy==0.8) (1.3.0)\n",
            "Requirement already satisfied: joblib>=1.1.1 in /usr/local/lib/python3.10/dist-packages (from scikit-learn->dowhy==0.8) (1.4.2)\n",
            "Requirement already satisfied: threadpoolctl>=2.0.0 in /usr/local/lib/python3.10/dist-packages (from scikit-learn->dowhy==0.8) (3.5.0)\n",
            "Requirement already satisfied: patsy>=0.5.6 in /usr/local/lib/python3.10/dist-packages (from statsmodels->dowhy==0.8) (0.5.6)\n",
            "Requirement already satisfied: packaging>=21.3 in /usr/local/lib/python3.10/dist-packages (from statsmodels->dowhy==0.8) (24.1)\n",
            "Requirement already satisfied: six in /usr/local/lib/python3.10/dist-packages (from patsy>=0.5.6->statsmodels->dowhy==0.8) (1.16.0)\n",
            "Downloading dowhy-0.8-py3-none-any.whl (287 kB)\n",
            "\u001b[2K   \u001b[90m━━━━━━━━━━━━━━━━━━━━━━━━━━━━━━━━━━━━━━━━\u001b[0m \u001b[32m287.3/287.3 kB\u001b[0m \u001b[31m6.1 MB/s\u001b[0m eta \u001b[36m0:00:00\u001b[0m\n",
            "\u001b[?25hInstalling collected packages: dowhy\n",
            "Successfully installed dowhy-0.8\n",
            "Collecting econml\n",
            "  Downloading econml-0.15.1-cp310-cp310-manylinux_2_17_x86_64.manylinux2014_x86_64.whl.metadata (38 kB)\n",
            "Requirement already satisfied: numpy<2 in /usr/local/lib/python3.10/dist-packages (from econml) (1.26.4)\n",
            "Requirement already satisfied: scipy>1.4.0 in /usr/local/lib/python3.10/dist-packages (from econml) (1.13.1)\n",
            "Requirement already satisfied: scikit-learn<1.6,>=1.0 in /usr/local/lib/python3.10/dist-packages (from econml) (1.3.2)\n",
            "Collecting sparse (from econml)\n",
            "  Downloading sparse-0.15.4-py2.py3-none-any.whl.metadata (4.5 kB)\n",
            "Requirement already satisfied: joblib>=0.13.0 in /usr/local/lib/python3.10/dist-packages (from econml) (1.4.2)\n",
            "Requirement already satisfied: statsmodels>=0.10 in /usr/local/lib/python3.10/dist-packages (from econml) (0.14.2)\n",
            "Requirement already satisfied: pandas>1.0 in /usr/local/lib/python3.10/dist-packages (from econml) (2.1.4)\n",
            "Collecting shap<0.44.0,>=0.38.1 (from econml)\n",
            "  Downloading shap-0.43.0-cp310-cp310-manylinux_2_12_x86_64.manylinux2010_x86_64.manylinux_2_17_x86_64.manylinux2014_x86_64.whl.metadata (24 kB)\n",
            "Requirement already satisfied: lightgbm in /usr/local/lib/python3.10/dist-packages (from econml) (4.4.0)\n",
            "Requirement already satisfied: packaging in /usr/local/lib/python3.10/dist-packages (from econml) (24.1)\n",
            "Requirement already satisfied: python-dateutil>=2.8.2 in /usr/local/lib/python3.10/dist-packages (from pandas>1.0->econml) (2.8.2)\n",
            "Requirement already satisfied: pytz>=2020.1 in /usr/local/lib/python3.10/dist-packages (from pandas>1.0->econml) (2024.2)\n",
            "Requirement already satisfied: tzdata>=2022.1 in /usr/local/lib/python3.10/dist-packages (from pandas>1.0->econml) (2024.1)\n",
            "Requirement already satisfied: threadpoolctl>=2.0.0 in /usr/local/lib/python3.10/dist-packages (from scikit-learn<1.6,>=1.0->econml) (3.5.0)\n",
            "Requirement already satisfied: tqdm>=4.27.0 in /usr/local/lib/python3.10/dist-packages (from shap<0.44.0,>=0.38.1->econml) (4.66.5)\n",
            "Collecting slicer==0.0.7 (from shap<0.44.0,>=0.38.1->econml)\n",
            "  Downloading slicer-0.0.7-py3-none-any.whl.metadata (3.7 kB)\n",
            "Requirement already satisfied: numba in /usr/local/lib/python3.10/dist-packages (from shap<0.44.0,>=0.38.1->econml) (0.60.0)\n",
            "Requirement already satisfied: cloudpickle in /usr/local/lib/python3.10/dist-packages (from shap<0.44.0,>=0.38.1->econml) (2.2.1)\n",
            "Requirement already satisfied: patsy>=0.5.6 in /usr/local/lib/python3.10/dist-packages (from statsmodels>=0.10->econml) (0.5.6)\n",
            "Requirement already satisfied: llvmlite<0.44,>=0.43.0dev0 in /usr/local/lib/python3.10/dist-packages (from numba->shap<0.44.0,>=0.38.1->econml) (0.43.0)\n",
            "Requirement already satisfied: six in /usr/local/lib/python3.10/dist-packages (from patsy>=0.5.6->statsmodels>=0.10->econml) (1.16.0)\n",
            "Downloading econml-0.15.1-cp310-cp310-manylinux_2_17_x86_64.manylinux2014_x86_64.whl (4.5 MB)\n",
            "\u001b[2K   \u001b[90m━━━━━━━━━━━━━━━━━━━━━━━━━━━━━━━━━━━━━━━━\u001b[0m \u001b[32m4.5/4.5 MB\u001b[0m \u001b[31m17.3 MB/s\u001b[0m eta \u001b[36m0:00:00\u001b[0m\n",
            "\u001b[?25hDownloading shap-0.43.0-cp310-cp310-manylinux_2_12_x86_64.manylinux2010_x86_64.manylinux_2_17_x86_64.manylinux2014_x86_64.whl (532 kB)\n",
            "\u001b[2K   \u001b[90m━━━━━━━━━━━━━━━━━━━━━━━━━━━━━━━━━━━━━━━━\u001b[0m \u001b[32m532.9/532.9 kB\u001b[0m \u001b[31m19.0 MB/s\u001b[0m eta \u001b[36m0:00:00\u001b[0m\n",
            "\u001b[?25hDownloading slicer-0.0.7-py3-none-any.whl (14 kB)\n",
            "Downloading sparse-0.15.4-py2.py3-none-any.whl (237 kB)\n",
            "\u001b[2K   \u001b[90m━━━━━━━━━━━━━━━━━━━━━━━━━━━━━━━━━━━━━━━━\u001b[0m \u001b[32m237.3/237.3 kB\u001b[0m \u001b[31m7.3 MB/s\u001b[0m eta \u001b[36m0:00:00\u001b[0m\n",
            "\u001b[?25hInstalling collected packages: slicer, sparse, shap, econml\n",
            "Successfully installed econml-0.15.1 shap-0.43.0 slicer-0.0.7 sparse-0.15.4\n"
          ]
        }
      ]
    },
    {
      "cell_type": "code",
      "source": [
        "import sys\n",
        "print(sys.version)"
      ],
      "metadata": {
        "colab": {
          "base_uri": "https://localhost:8080/"
        },
        "id": "gPrbLPy3iuA9",
        "outputId": "d480b602-79e9-4ca9-e765-39d04f80eeff"
      },
      "execution_count": null,
      "outputs": [
        {
          "output_type": "stream",
          "name": "stdout",
          "text": [
            "3.10.12 (main, Jul 29 2024, 16:56:48) [GCC 11.4.0]\n"
          ]
        }
      ]
    },
    {
      "cell_type": "code",
      "execution_count": null,
      "metadata": {
        "id": "WLhODcfZ32qA"
      },
      "outputs": [],
      "source": [
        "from copy import deepcopy\n",
        "\n",
        "import numpy as np\n",
        "import pandas as pd\n",
        "from scipy import stats\n",
        "\n",
        "from sklearn.metrics import mean_absolute_percentage_error\n",
        "\n",
        "import dowhy\n",
        "from dowhy import CausalModel\n",
        "\n",
        "from sklearn.linear_model import LinearRegression, LogisticRegression, LassoCV\n",
        "from sklearn.ensemble import RandomForestRegressor, GradientBoostingRegressor\n",
        "\n",
        "from lightgbm import LGBMRegressor, LGBMClassifier\n",
        "\n",
        "import networkx as nx\n",
        "\n",
        "from tqdm import tqdm\n",
        "\n",
        "import matplotlib.pyplot as plt\n",
        "plt.style.use('fivethirtyeight')\n",
        "\n",
        "import graphviz\n",
        "\n",
        "import warnings\n",
        "warnings.filterwarnings('ignore')"
      ]
    },
    {
      "cell_type": "code",
      "source": [
        "dowhy.__version__\n",
        "\n",
        "COLORS = [\n",
        "    '#00B0F0',\n",
        "    '#FF0000',\n",
        "    '#B0F000'\n",
        "]"
      ],
      "metadata": {
        "id": "PBW2GvxFWep-"
      },
      "execution_count": null,
      "outputs": []
    },
    {
      "cell_type": "markdown",
      "source": [
        "# Part 1 - Matching\n"
      ],
      "metadata": {
        "id": "drPG3QxGWkTS"
      }
    },
    {
      "cell_type": "markdown",
      "source": [
        "Data Description:\n",
        "\n",
        "  - A binary indicator of a training program participation\n",
        "  - The subject’s age\n",
        "  - The subject’s yearly earnings 18 months after the training took place (in United States Dollar (USD))"
      ],
      "metadata": {
        "id": "_99cXpCKXPvL"
      }
    },
    {
      "cell_type": "code",
      "source": [
        "df_path = '/content/drive/MyDrive/Colab Notebooks/Causal Inference and Discovery in Python/data/ml_earnings.csv'"
      ],
      "metadata": {
        "id": "up61MpIRWnCA"
      },
      "execution_count": null,
      "outputs": []
    },
    {
      "cell_type": "code",
      "source": [
        "df = pd.read_csv(df_path)\n",
        "df.head()"
      ],
      "metadata": {
        "colab": {
          "base_uri": "https://localhost:8080/",
          "height": 206
        },
        "id": "B_yIMGItWm-N",
        "outputId": "f964e913-8b11-4525-9e0b-5d096428e409"
      },
      "execution_count": null,
      "outputs": [
        {
          "output_type": "execute_result",
          "data": {
            "text/plain": [
              "   age  took_a_course  earnings\n",
              "0   19          False  110579.0\n",
              "1   28          False  142577.0\n",
              "2   22           True  130520.0\n",
              "3   25           True  142687.0\n",
              "4   24          False  127832.0"
            ],
            "text/html": [
              "\n",
              "  <div id=\"df-36c8f582-cbee-45ce-9b75-1498419365eb\" class=\"colab-df-container\">\n",
              "    <div>\n",
              "<style scoped>\n",
              "    .dataframe tbody tr th:only-of-type {\n",
              "        vertical-align: middle;\n",
              "    }\n",
              "\n",
              "    .dataframe tbody tr th {\n",
              "        vertical-align: top;\n",
              "    }\n",
              "\n",
              "    .dataframe thead th {\n",
              "        text-align: right;\n",
              "    }\n",
              "</style>\n",
              "<table border=\"1\" class=\"dataframe\">\n",
              "  <thead>\n",
              "    <tr style=\"text-align: right;\">\n",
              "      <th></th>\n",
              "      <th>age</th>\n",
              "      <th>took_a_course</th>\n",
              "      <th>earnings</th>\n",
              "    </tr>\n",
              "  </thead>\n",
              "  <tbody>\n",
              "    <tr>\n",
              "      <th>0</th>\n",
              "      <td>19</td>\n",
              "      <td>False</td>\n",
              "      <td>110579.0</td>\n",
              "    </tr>\n",
              "    <tr>\n",
              "      <th>1</th>\n",
              "      <td>28</td>\n",
              "      <td>False</td>\n",
              "      <td>142577.0</td>\n",
              "    </tr>\n",
              "    <tr>\n",
              "      <th>2</th>\n",
              "      <td>22</td>\n",
              "      <td>True</td>\n",
              "      <td>130520.0</td>\n",
              "    </tr>\n",
              "    <tr>\n",
              "      <th>3</th>\n",
              "      <td>25</td>\n",
              "      <td>True</td>\n",
              "      <td>142687.0</td>\n",
              "    </tr>\n",
              "    <tr>\n",
              "      <th>4</th>\n",
              "      <td>24</td>\n",
              "      <td>False</td>\n",
              "      <td>127832.0</td>\n",
              "    </tr>\n",
              "  </tbody>\n",
              "</table>\n",
              "</div>\n",
              "    <div class=\"colab-df-buttons\">\n",
              "\n",
              "  <div class=\"colab-df-container\">\n",
              "    <button class=\"colab-df-convert\" onclick=\"convertToInteractive('df-36c8f582-cbee-45ce-9b75-1498419365eb')\"\n",
              "            title=\"Convert this dataframe to an interactive table.\"\n",
              "            style=\"display:none;\">\n",
              "\n",
              "  <svg xmlns=\"http://www.w3.org/2000/svg\" height=\"24px\" viewBox=\"0 -960 960 960\">\n",
              "    <path d=\"M120-120v-720h720v720H120Zm60-500h600v-160H180v160Zm220 220h160v-160H400v160Zm0 220h160v-160H400v160ZM180-400h160v-160H180v160Zm440 0h160v-160H620v160ZM180-180h160v-160H180v160Zm440 0h160v-160H620v160Z\"/>\n",
              "  </svg>\n",
              "    </button>\n",
              "\n",
              "  <style>\n",
              "    .colab-df-container {\n",
              "      display:flex;\n",
              "      gap: 12px;\n",
              "    }\n",
              "\n",
              "    .colab-df-convert {\n",
              "      background-color: #E8F0FE;\n",
              "      border: none;\n",
              "      border-radius: 50%;\n",
              "      cursor: pointer;\n",
              "      display: none;\n",
              "      fill: #1967D2;\n",
              "      height: 32px;\n",
              "      padding: 0 0 0 0;\n",
              "      width: 32px;\n",
              "    }\n",
              "\n",
              "    .colab-df-convert:hover {\n",
              "      background-color: #E2EBFA;\n",
              "      box-shadow: 0px 1px 2px rgba(60, 64, 67, 0.3), 0px 1px 3px 1px rgba(60, 64, 67, 0.15);\n",
              "      fill: #174EA6;\n",
              "    }\n",
              "\n",
              "    .colab-df-buttons div {\n",
              "      margin-bottom: 4px;\n",
              "    }\n",
              "\n",
              "    [theme=dark] .colab-df-convert {\n",
              "      background-color: #3B4455;\n",
              "      fill: #D2E3FC;\n",
              "    }\n",
              "\n",
              "    [theme=dark] .colab-df-convert:hover {\n",
              "      background-color: #434B5C;\n",
              "      box-shadow: 0px 1px 3px 1px rgba(0, 0, 0, 0.15);\n",
              "      filter: drop-shadow(0px 1px 2px rgba(0, 0, 0, 0.3));\n",
              "      fill: #FFFFFF;\n",
              "    }\n",
              "  </style>\n",
              "\n",
              "    <script>\n",
              "      const buttonEl =\n",
              "        document.querySelector('#df-36c8f582-cbee-45ce-9b75-1498419365eb button.colab-df-convert');\n",
              "      buttonEl.style.display =\n",
              "        google.colab.kernel.accessAllowed ? 'block' : 'none';\n",
              "\n",
              "      async function convertToInteractive(key) {\n",
              "        const element = document.querySelector('#df-36c8f582-cbee-45ce-9b75-1498419365eb');\n",
              "        const dataTable =\n",
              "          await google.colab.kernel.invokeFunction('convertToInteractive',\n",
              "                                                    [key], {});\n",
              "        if (!dataTable) return;\n",
              "\n",
              "        const docLinkHtml = 'Like what you see? Visit the ' +\n",
              "          '<a target=\"_blank\" href=https://colab.research.google.com/notebooks/data_table.ipynb>data table notebook</a>'\n",
              "          + ' to learn more about interactive tables.';\n",
              "        element.innerHTML = '';\n",
              "        dataTable['output_type'] = 'display_data';\n",
              "        await google.colab.output.renderOutput(dataTable, element);\n",
              "        const docLink = document.createElement('div');\n",
              "        docLink.innerHTML = docLinkHtml;\n",
              "        element.appendChild(docLink);\n",
              "      }\n",
              "    </script>\n",
              "  </div>\n",
              "\n",
              "\n",
              "<div id=\"df-58f6c41c-beed-4b80-86e4-93b5118e6651\">\n",
              "  <button class=\"colab-df-quickchart\" onclick=\"quickchart('df-58f6c41c-beed-4b80-86e4-93b5118e6651')\"\n",
              "            title=\"Suggest charts\"\n",
              "            style=\"display:none;\">\n",
              "\n",
              "<svg xmlns=\"http://www.w3.org/2000/svg\" height=\"24px\"viewBox=\"0 0 24 24\"\n",
              "     width=\"24px\">\n",
              "    <g>\n",
              "        <path d=\"M19 3H5c-1.1 0-2 .9-2 2v14c0 1.1.9 2 2 2h14c1.1 0 2-.9 2-2V5c0-1.1-.9-2-2-2zM9 17H7v-7h2v7zm4 0h-2V7h2v10zm4 0h-2v-4h2v4z\"/>\n",
              "    </g>\n",
              "</svg>\n",
              "  </button>\n",
              "\n",
              "<style>\n",
              "  .colab-df-quickchart {\n",
              "      --bg-color: #E8F0FE;\n",
              "      --fill-color: #1967D2;\n",
              "      --hover-bg-color: #E2EBFA;\n",
              "      --hover-fill-color: #174EA6;\n",
              "      --disabled-fill-color: #AAA;\n",
              "      --disabled-bg-color: #DDD;\n",
              "  }\n",
              "\n",
              "  [theme=dark] .colab-df-quickchart {\n",
              "      --bg-color: #3B4455;\n",
              "      --fill-color: #D2E3FC;\n",
              "      --hover-bg-color: #434B5C;\n",
              "      --hover-fill-color: #FFFFFF;\n",
              "      --disabled-bg-color: #3B4455;\n",
              "      --disabled-fill-color: #666;\n",
              "  }\n",
              "\n",
              "  .colab-df-quickchart {\n",
              "    background-color: var(--bg-color);\n",
              "    border: none;\n",
              "    border-radius: 50%;\n",
              "    cursor: pointer;\n",
              "    display: none;\n",
              "    fill: var(--fill-color);\n",
              "    height: 32px;\n",
              "    padding: 0;\n",
              "    width: 32px;\n",
              "  }\n",
              "\n",
              "  .colab-df-quickchart:hover {\n",
              "    background-color: var(--hover-bg-color);\n",
              "    box-shadow: 0 1px 2px rgba(60, 64, 67, 0.3), 0 1px 3px 1px rgba(60, 64, 67, 0.15);\n",
              "    fill: var(--button-hover-fill-color);\n",
              "  }\n",
              "\n",
              "  .colab-df-quickchart-complete:disabled,\n",
              "  .colab-df-quickchart-complete:disabled:hover {\n",
              "    background-color: var(--disabled-bg-color);\n",
              "    fill: var(--disabled-fill-color);\n",
              "    box-shadow: none;\n",
              "  }\n",
              "\n",
              "  .colab-df-spinner {\n",
              "    border: 2px solid var(--fill-color);\n",
              "    border-color: transparent;\n",
              "    border-bottom-color: var(--fill-color);\n",
              "    animation:\n",
              "      spin 1s steps(1) infinite;\n",
              "  }\n",
              "\n",
              "  @keyframes spin {\n",
              "    0% {\n",
              "      border-color: transparent;\n",
              "      border-bottom-color: var(--fill-color);\n",
              "      border-left-color: var(--fill-color);\n",
              "    }\n",
              "    20% {\n",
              "      border-color: transparent;\n",
              "      border-left-color: var(--fill-color);\n",
              "      border-top-color: var(--fill-color);\n",
              "    }\n",
              "    30% {\n",
              "      border-color: transparent;\n",
              "      border-left-color: var(--fill-color);\n",
              "      border-top-color: var(--fill-color);\n",
              "      border-right-color: var(--fill-color);\n",
              "    }\n",
              "    40% {\n",
              "      border-color: transparent;\n",
              "      border-right-color: var(--fill-color);\n",
              "      border-top-color: var(--fill-color);\n",
              "    }\n",
              "    60% {\n",
              "      border-color: transparent;\n",
              "      border-right-color: var(--fill-color);\n",
              "    }\n",
              "    80% {\n",
              "      border-color: transparent;\n",
              "      border-right-color: var(--fill-color);\n",
              "      border-bottom-color: var(--fill-color);\n",
              "    }\n",
              "    90% {\n",
              "      border-color: transparent;\n",
              "      border-bottom-color: var(--fill-color);\n",
              "    }\n",
              "  }\n",
              "</style>\n",
              "\n",
              "  <script>\n",
              "    async function quickchart(key) {\n",
              "      const quickchartButtonEl =\n",
              "        document.querySelector('#' + key + ' button');\n",
              "      quickchartButtonEl.disabled = true;  // To prevent multiple clicks.\n",
              "      quickchartButtonEl.classList.add('colab-df-spinner');\n",
              "      try {\n",
              "        const charts = await google.colab.kernel.invokeFunction(\n",
              "            'suggestCharts', [key], {});\n",
              "      } catch (error) {\n",
              "        console.error('Error during call to suggestCharts:', error);\n",
              "      }\n",
              "      quickchartButtonEl.classList.remove('colab-df-spinner');\n",
              "      quickchartButtonEl.classList.add('colab-df-quickchart-complete');\n",
              "    }\n",
              "    (() => {\n",
              "      let quickchartButtonEl =\n",
              "        document.querySelector('#df-58f6c41c-beed-4b80-86e4-93b5118e6651 button');\n",
              "      quickchartButtonEl.style.display =\n",
              "        google.colab.kernel.accessAllowed ? 'block' : 'none';\n",
              "    })();\n",
              "  </script>\n",
              "</div>\n",
              "\n",
              "    </div>\n",
              "  </div>\n"
            ],
            "application/vnd.google.colaboratory.intrinsic+json": {
              "type": "dataframe",
              "variable_name": "df",
              "summary": "{\n  \"name\": \"df\",\n  \"rows\": 200,\n  \"fields\": [\n    {\n      \"column\": \"age\",\n      \"properties\": {\n        \"dtype\": \"number\",\n        \"std\": 6,\n        \"min\": 19,\n        \"max\": 48,\n        \"num_unique_values\": 26,\n        \"samples\": [\n          35,\n          21,\n          19\n        ],\n        \"semantic_type\": \"\",\n        \"description\": \"\"\n      }\n    },\n    {\n      \"column\": \"took_a_course\",\n      \"properties\": {\n        \"dtype\": \"boolean\",\n        \"num_unique_values\": 2,\n        \"samples\": [\n          true,\n          false\n        ],\n        \"semantic_type\": \"\",\n        \"description\": \"\"\n      }\n    },\n    {\n      \"column\": \"earnings\",\n      \"properties\": {\n        \"dtype\": \"number\",\n        \"std\": 24794.601992656513,\n        \"min\": 108433.0,\n        \"max\": 239510.0,\n        \"num_unique_values\": 200,\n        \"samples\": [\n          165055.0,\n          132110.0\n        ],\n        \"semantic_type\": \"\",\n        \"description\": \"\"\n      }\n    }\n  ]\n}"
            }
          },
          "metadata": {},
          "execution_count": 13
        }
      ]
    },
    {
      "cell_type": "code",
      "source": [
        "df.groupby(['age', 'took_a_course']).mean()"
      ],
      "metadata": {
        "colab": {
          "base_uri": "https://localhost:8080/",
          "height": 1000
        },
        "id": "XJuHelQtWm9R",
        "outputId": "80d093cb-1b14-45f6-92e5-19af6d95d872"
      },
      "execution_count": null,
      "outputs": [
        {
          "output_type": "execute_result",
          "data": {
            "text/plain": [
              "                        earnings\n",
              "age took_a_course               \n",
              "19  False          111110.875000\n",
              "    True           123488.000000\n",
              "20  False          115227.142857\n",
              "    True           125633.285714\n",
              "21  False          117114.900000\n",
              "    True           130155.000000\n",
              "22  False          120226.363636\n",
              "    True           131437.222222\n",
              "23  False          124460.900000\n",
              "    True           134654.333333\n",
              "24  False          126878.583333\n",
              "    True           137564.250000\n",
              "25  False          130812.800000\n",
              "    True           142715.000000\n",
              "26  False          134004.250000\n",
              "    True           144552.800000\n",
              "27  False          139035.600000\n",
              "    True           148744.333333\n",
              "28  False          141580.000000\n",
              "    True           152485.333333\n",
              "29  False          145248.600000\n",
              "    True           152694.000000\n",
              "30  False          150333.750000\n",
              "    True           159586.400000\n",
              "31  False          152532.000000\n",
              "    True           163592.000000\n",
              "32  False          157515.200000\n",
              "    True           169854.000000\n",
              "33  False          162453.500000\n",
              "    True           170020.000000\n",
              "34  False          165694.200000\n",
              "    True           178922.000000\n",
              "35  False          172134.250000\n",
              "    True           180404.500000\n",
              "36  False          175240.666667\n",
              "37  False          181514.000000\n",
              "    True           187627.000000\n",
              "38  False          185546.333333\n",
              "39  False          187253.666667\n",
              "41  False          201729.000000\n",
              "    True           207676.000000\n",
              "42  False          203029.000000\n",
              "    True           214445.000000\n",
              "43  False          210243.000000\n",
              "45  True           233035.000000\n",
              "48  False          239510.000000"
            ],
            "text/html": [
              "\n",
              "  <div id=\"df-7ac87f8f-8b66-440c-9026-c6056dbcd258\" class=\"colab-df-container\">\n",
              "    <div>\n",
              "<style scoped>\n",
              "    .dataframe tbody tr th:only-of-type {\n",
              "        vertical-align: middle;\n",
              "    }\n",
              "\n",
              "    .dataframe tbody tr th {\n",
              "        vertical-align: top;\n",
              "    }\n",
              "\n",
              "    .dataframe thead th {\n",
              "        text-align: right;\n",
              "    }\n",
              "</style>\n",
              "<table border=\"1\" class=\"dataframe\">\n",
              "  <thead>\n",
              "    <tr style=\"text-align: right;\">\n",
              "      <th></th>\n",
              "      <th></th>\n",
              "      <th>earnings</th>\n",
              "    </tr>\n",
              "    <tr>\n",
              "      <th>age</th>\n",
              "      <th>took_a_course</th>\n",
              "      <th></th>\n",
              "    </tr>\n",
              "  </thead>\n",
              "  <tbody>\n",
              "    <tr>\n",
              "      <th rowspan=\"2\" valign=\"top\">19</th>\n",
              "      <th>False</th>\n",
              "      <td>111110.875000</td>\n",
              "    </tr>\n",
              "    <tr>\n",
              "      <th>True</th>\n",
              "      <td>123488.000000</td>\n",
              "    </tr>\n",
              "    <tr>\n",
              "      <th rowspan=\"2\" valign=\"top\">20</th>\n",
              "      <th>False</th>\n",
              "      <td>115227.142857</td>\n",
              "    </tr>\n",
              "    <tr>\n",
              "      <th>True</th>\n",
              "      <td>125633.285714</td>\n",
              "    </tr>\n",
              "    <tr>\n",
              "      <th rowspan=\"2\" valign=\"top\">21</th>\n",
              "      <th>False</th>\n",
              "      <td>117114.900000</td>\n",
              "    </tr>\n",
              "    <tr>\n",
              "      <th>True</th>\n",
              "      <td>130155.000000</td>\n",
              "    </tr>\n",
              "    <tr>\n",
              "      <th rowspan=\"2\" valign=\"top\">22</th>\n",
              "      <th>False</th>\n",
              "      <td>120226.363636</td>\n",
              "    </tr>\n",
              "    <tr>\n",
              "      <th>True</th>\n",
              "      <td>131437.222222</td>\n",
              "    </tr>\n",
              "    <tr>\n",
              "      <th rowspan=\"2\" valign=\"top\">23</th>\n",
              "      <th>False</th>\n",
              "      <td>124460.900000</td>\n",
              "    </tr>\n",
              "    <tr>\n",
              "      <th>True</th>\n",
              "      <td>134654.333333</td>\n",
              "    </tr>\n",
              "    <tr>\n",
              "      <th rowspan=\"2\" valign=\"top\">24</th>\n",
              "      <th>False</th>\n",
              "      <td>126878.583333</td>\n",
              "    </tr>\n",
              "    <tr>\n",
              "      <th>True</th>\n",
              "      <td>137564.250000</td>\n",
              "    </tr>\n",
              "    <tr>\n",
              "      <th rowspan=\"2\" valign=\"top\">25</th>\n",
              "      <th>False</th>\n",
              "      <td>130812.800000</td>\n",
              "    </tr>\n",
              "    <tr>\n",
              "      <th>True</th>\n",
              "      <td>142715.000000</td>\n",
              "    </tr>\n",
              "    <tr>\n",
              "      <th rowspan=\"2\" valign=\"top\">26</th>\n",
              "      <th>False</th>\n",
              "      <td>134004.250000</td>\n",
              "    </tr>\n",
              "    <tr>\n",
              "      <th>True</th>\n",
              "      <td>144552.800000</td>\n",
              "    </tr>\n",
              "    <tr>\n",
              "      <th rowspan=\"2\" valign=\"top\">27</th>\n",
              "      <th>False</th>\n",
              "      <td>139035.600000</td>\n",
              "    </tr>\n",
              "    <tr>\n",
              "      <th>True</th>\n",
              "      <td>148744.333333</td>\n",
              "    </tr>\n",
              "    <tr>\n",
              "      <th rowspan=\"2\" valign=\"top\">28</th>\n",
              "      <th>False</th>\n",
              "      <td>141580.000000</td>\n",
              "    </tr>\n",
              "    <tr>\n",
              "      <th>True</th>\n",
              "      <td>152485.333333</td>\n",
              "    </tr>\n",
              "    <tr>\n",
              "      <th rowspan=\"2\" valign=\"top\">29</th>\n",
              "      <th>False</th>\n",
              "      <td>145248.600000</td>\n",
              "    </tr>\n",
              "    <tr>\n",
              "      <th>True</th>\n",
              "      <td>152694.000000</td>\n",
              "    </tr>\n",
              "    <tr>\n",
              "      <th rowspan=\"2\" valign=\"top\">30</th>\n",
              "      <th>False</th>\n",
              "      <td>150333.750000</td>\n",
              "    </tr>\n",
              "    <tr>\n",
              "      <th>True</th>\n",
              "      <td>159586.400000</td>\n",
              "    </tr>\n",
              "    <tr>\n",
              "      <th rowspan=\"2\" valign=\"top\">31</th>\n",
              "      <th>False</th>\n",
              "      <td>152532.000000</td>\n",
              "    </tr>\n",
              "    <tr>\n",
              "      <th>True</th>\n",
              "      <td>163592.000000</td>\n",
              "    </tr>\n",
              "    <tr>\n",
              "      <th rowspan=\"2\" valign=\"top\">32</th>\n",
              "      <th>False</th>\n",
              "      <td>157515.200000</td>\n",
              "    </tr>\n",
              "    <tr>\n",
              "      <th>True</th>\n",
              "      <td>169854.000000</td>\n",
              "    </tr>\n",
              "    <tr>\n",
              "      <th rowspan=\"2\" valign=\"top\">33</th>\n",
              "      <th>False</th>\n",
              "      <td>162453.500000</td>\n",
              "    </tr>\n",
              "    <tr>\n",
              "      <th>True</th>\n",
              "      <td>170020.000000</td>\n",
              "    </tr>\n",
              "    <tr>\n",
              "      <th rowspan=\"2\" valign=\"top\">34</th>\n",
              "      <th>False</th>\n",
              "      <td>165694.200000</td>\n",
              "    </tr>\n",
              "    <tr>\n",
              "      <th>True</th>\n",
              "      <td>178922.000000</td>\n",
              "    </tr>\n",
              "    <tr>\n",
              "      <th rowspan=\"2\" valign=\"top\">35</th>\n",
              "      <th>False</th>\n",
              "      <td>172134.250000</td>\n",
              "    </tr>\n",
              "    <tr>\n",
              "      <th>True</th>\n",
              "      <td>180404.500000</td>\n",
              "    </tr>\n",
              "    <tr>\n",
              "      <th>36</th>\n",
              "      <th>False</th>\n",
              "      <td>175240.666667</td>\n",
              "    </tr>\n",
              "    <tr>\n",
              "      <th rowspan=\"2\" valign=\"top\">37</th>\n",
              "      <th>False</th>\n",
              "      <td>181514.000000</td>\n",
              "    </tr>\n",
              "    <tr>\n",
              "      <th>True</th>\n",
              "      <td>187627.000000</td>\n",
              "    </tr>\n",
              "    <tr>\n",
              "      <th>38</th>\n",
              "      <th>False</th>\n",
              "      <td>185546.333333</td>\n",
              "    </tr>\n",
              "    <tr>\n",
              "      <th>39</th>\n",
              "      <th>False</th>\n",
              "      <td>187253.666667</td>\n",
              "    </tr>\n",
              "    <tr>\n",
              "      <th rowspan=\"2\" valign=\"top\">41</th>\n",
              "      <th>False</th>\n",
              "      <td>201729.000000</td>\n",
              "    </tr>\n",
              "    <tr>\n",
              "      <th>True</th>\n",
              "      <td>207676.000000</td>\n",
              "    </tr>\n",
              "    <tr>\n",
              "      <th rowspan=\"2\" valign=\"top\">42</th>\n",
              "      <th>False</th>\n",
              "      <td>203029.000000</td>\n",
              "    </tr>\n",
              "    <tr>\n",
              "      <th>True</th>\n",
              "      <td>214445.000000</td>\n",
              "    </tr>\n",
              "    <tr>\n",
              "      <th>43</th>\n",
              "      <th>False</th>\n",
              "      <td>210243.000000</td>\n",
              "    </tr>\n",
              "    <tr>\n",
              "      <th>45</th>\n",
              "      <th>True</th>\n",
              "      <td>233035.000000</td>\n",
              "    </tr>\n",
              "    <tr>\n",
              "      <th>48</th>\n",
              "      <th>False</th>\n",
              "      <td>239510.000000</td>\n",
              "    </tr>\n",
              "  </tbody>\n",
              "</table>\n",
              "</div>\n",
              "    <div class=\"colab-df-buttons\">\n",
              "\n",
              "  <div class=\"colab-df-container\">\n",
              "    <button class=\"colab-df-convert\" onclick=\"convertToInteractive('df-7ac87f8f-8b66-440c-9026-c6056dbcd258')\"\n",
              "            title=\"Convert this dataframe to an interactive table.\"\n",
              "            style=\"display:none;\">\n",
              "\n",
              "  <svg xmlns=\"http://www.w3.org/2000/svg\" height=\"24px\" viewBox=\"0 -960 960 960\">\n",
              "    <path d=\"M120-120v-720h720v720H120Zm60-500h600v-160H180v160Zm220 220h160v-160H400v160Zm0 220h160v-160H400v160ZM180-400h160v-160H180v160Zm440 0h160v-160H620v160ZM180-180h160v-160H180v160Zm440 0h160v-160H620v160Z\"/>\n",
              "  </svg>\n",
              "    </button>\n",
              "\n",
              "  <style>\n",
              "    .colab-df-container {\n",
              "      display:flex;\n",
              "      gap: 12px;\n",
              "    }\n",
              "\n",
              "    .colab-df-convert {\n",
              "      background-color: #E8F0FE;\n",
              "      border: none;\n",
              "      border-radius: 50%;\n",
              "      cursor: pointer;\n",
              "      display: none;\n",
              "      fill: #1967D2;\n",
              "      height: 32px;\n",
              "      padding: 0 0 0 0;\n",
              "      width: 32px;\n",
              "    }\n",
              "\n",
              "    .colab-df-convert:hover {\n",
              "      background-color: #E2EBFA;\n",
              "      box-shadow: 0px 1px 2px rgba(60, 64, 67, 0.3), 0px 1px 3px 1px rgba(60, 64, 67, 0.15);\n",
              "      fill: #174EA6;\n",
              "    }\n",
              "\n",
              "    .colab-df-buttons div {\n",
              "      margin-bottom: 4px;\n",
              "    }\n",
              "\n",
              "    [theme=dark] .colab-df-convert {\n",
              "      background-color: #3B4455;\n",
              "      fill: #D2E3FC;\n",
              "    }\n",
              "\n",
              "    [theme=dark] .colab-df-convert:hover {\n",
              "      background-color: #434B5C;\n",
              "      box-shadow: 0px 1px 3px 1px rgba(0, 0, 0, 0.15);\n",
              "      filter: drop-shadow(0px 1px 2px rgba(0, 0, 0, 0.3));\n",
              "      fill: #FFFFFF;\n",
              "    }\n",
              "  </style>\n",
              "\n",
              "    <script>\n",
              "      const buttonEl =\n",
              "        document.querySelector('#df-7ac87f8f-8b66-440c-9026-c6056dbcd258 button.colab-df-convert');\n",
              "      buttonEl.style.display =\n",
              "        google.colab.kernel.accessAllowed ? 'block' : 'none';\n",
              "\n",
              "      async function convertToInteractive(key) {\n",
              "        const element = document.querySelector('#df-7ac87f8f-8b66-440c-9026-c6056dbcd258');\n",
              "        const dataTable =\n",
              "          await google.colab.kernel.invokeFunction('convertToInteractive',\n",
              "                                                    [key], {});\n",
              "        if (!dataTable) return;\n",
              "\n",
              "        const docLinkHtml = 'Like what you see? Visit the ' +\n",
              "          '<a target=\"_blank\" href=https://colab.research.google.com/notebooks/data_table.ipynb>data table notebook</a>'\n",
              "          + ' to learn more about interactive tables.';\n",
              "        element.innerHTML = '';\n",
              "        dataTable['output_type'] = 'display_data';\n",
              "        await google.colab.output.renderOutput(dataTable, element);\n",
              "        const docLink = document.createElement('div');\n",
              "        docLink.innerHTML = docLinkHtml;\n",
              "        element.appendChild(docLink);\n",
              "      }\n",
              "    </script>\n",
              "  </div>\n",
              "\n",
              "\n",
              "<div id=\"df-1128f0e2-671e-443b-8405-6327da410d59\">\n",
              "  <button class=\"colab-df-quickchart\" onclick=\"quickchart('df-1128f0e2-671e-443b-8405-6327da410d59')\"\n",
              "            title=\"Suggest charts\"\n",
              "            style=\"display:none;\">\n",
              "\n",
              "<svg xmlns=\"http://www.w3.org/2000/svg\" height=\"24px\"viewBox=\"0 0 24 24\"\n",
              "     width=\"24px\">\n",
              "    <g>\n",
              "        <path d=\"M19 3H5c-1.1 0-2 .9-2 2v14c0 1.1.9 2 2 2h14c1.1 0 2-.9 2-2V5c0-1.1-.9-2-2-2zM9 17H7v-7h2v7zm4 0h-2V7h2v10zm4 0h-2v-4h2v4z\"/>\n",
              "    </g>\n",
              "</svg>\n",
              "  </button>\n",
              "\n",
              "<style>\n",
              "  .colab-df-quickchart {\n",
              "      --bg-color: #E8F0FE;\n",
              "      --fill-color: #1967D2;\n",
              "      --hover-bg-color: #E2EBFA;\n",
              "      --hover-fill-color: #174EA6;\n",
              "      --disabled-fill-color: #AAA;\n",
              "      --disabled-bg-color: #DDD;\n",
              "  }\n",
              "\n",
              "  [theme=dark] .colab-df-quickchart {\n",
              "      --bg-color: #3B4455;\n",
              "      --fill-color: #D2E3FC;\n",
              "      --hover-bg-color: #434B5C;\n",
              "      --hover-fill-color: #FFFFFF;\n",
              "      --disabled-bg-color: #3B4455;\n",
              "      --disabled-fill-color: #666;\n",
              "  }\n",
              "\n",
              "  .colab-df-quickchart {\n",
              "    background-color: var(--bg-color);\n",
              "    border: none;\n",
              "    border-radius: 50%;\n",
              "    cursor: pointer;\n",
              "    display: none;\n",
              "    fill: var(--fill-color);\n",
              "    height: 32px;\n",
              "    padding: 0;\n",
              "    width: 32px;\n",
              "  }\n",
              "\n",
              "  .colab-df-quickchart:hover {\n",
              "    background-color: var(--hover-bg-color);\n",
              "    box-shadow: 0 1px 2px rgba(60, 64, 67, 0.3), 0 1px 3px 1px rgba(60, 64, 67, 0.15);\n",
              "    fill: var(--button-hover-fill-color);\n",
              "  }\n",
              "\n",
              "  .colab-df-quickchart-complete:disabled,\n",
              "  .colab-df-quickchart-complete:disabled:hover {\n",
              "    background-color: var(--disabled-bg-color);\n",
              "    fill: var(--disabled-fill-color);\n",
              "    box-shadow: none;\n",
              "  }\n",
              "\n",
              "  .colab-df-spinner {\n",
              "    border: 2px solid var(--fill-color);\n",
              "    border-color: transparent;\n",
              "    border-bottom-color: var(--fill-color);\n",
              "    animation:\n",
              "      spin 1s steps(1) infinite;\n",
              "  }\n",
              "\n",
              "  @keyframes spin {\n",
              "    0% {\n",
              "      border-color: transparent;\n",
              "      border-bottom-color: var(--fill-color);\n",
              "      border-left-color: var(--fill-color);\n",
              "    }\n",
              "    20% {\n",
              "      border-color: transparent;\n",
              "      border-left-color: var(--fill-color);\n",
              "      border-top-color: var(--fill-color);\n",
              "    }\n",
              "    30% {\n",
              "      border-color: transparent;\n",
              "      border-left-color: var(--fill-color);\n",
              "      border-top-color: var(--fill-color);\n",
              "      border-right-color: var(--fill-color);\n",
              "    }\n",
              "    40% {\n",
              "      border-color: transparent;\n",
              "      border-right-color: var(--fill-color);\n",
              "      border-top-color: var(--fill-color);\n",
              "    }\n",
              "    60% {\n",
              "      border-color: transparent;\n",
              "      border-right-color: var(--fill-color);\n",
              "    }\n",
              "    80% {\n",
              "      border-color: transparent;\n",
              "      border-right-color: var(--fill-color);\n",
              "      border-bottom-color: var(--fill-color);\n",
              "    }\n",
              "    90% {\n",
              "      border-color: transparent;\n",
              "      border-bottom-color: var(--fill-color);\n",
              "    }\n",
              "  }\n",
              "</style>\n",
              "\n",
              "  <script>\n",
              "    async function quickchart(key) {\n",
              "      const quickchartButtonEl =\n",
              "        document.querySelector('#' + key + ' button');\n",
              "      quickchartButtonEl.disabled = true;  // To prevent multiple clicks.\n",
              "      quickchartButtonEl.classList.add('colab-df-spinner');\n",
              "      try {\n",
              "        const charts = await google.colab.kernel.invokeFunction(\n",
              "            'suggestCharts', [key], {});\n",
              "      } catch (error) {\n",
              "        console.error('Error during call to suggestCharts:', error);\n",
              "      }\n",
              "      quickchartButtonEl.classList.remove('colab-df-spinner');\n",
              "      quickchartButtonEl.classList.add('colab-df-quickchart-complete');\n",
              "    }\n",
              "    (() => {\n",
              "      let quickchartButtonEl =\n",
              "        document.querySelector('#df-1128f0e2-671e-443b-8405-6327da410d59 button');\n",
              "      quickchartButtonEl.style.display =\n",
              "        google.colab.kernel.accessAllowed ? 'block' : 'none';\n",
              "    })();\n",
              "  </script>\n",
              "</div>\n",
              "\n",
              "    </div>\n",
              "  </div>\n"
            ],
            "application/vnd.google.colaboratory.intrinsic+json": {
              "type": "dataframe",
              "summary": "{\n  \"name\": \"df\",\n  \"rows\": 46,\n  \"fields\": [\n    {\n      \"column\": \"earnings\",\n      \"properties\": {\n        \"dtype\": \"number\",\n        \"std\": 31979.72267886147,\n        \"min\": 111110.875,\n        \"max\": 239510.0,\n        \"num_unique_values\": 46,\n        \"samples\": [\n          201729.0,\n          163592.0,\n          157515.2\n        ],\n        \"semantic_type\": \"\",\n        \"description\": \"\"\n      }\n    }\n  ]\n}"
            }
          },
          "metadata": {},
          "execution_count": 14
        }
      ]
    },
    {
      "cell_type": "code",
      "source": [
        "# Compute naive estimate\n",
        "treatment_avg = df.query('took_a_course==1')['earnings'].mean()\n",
        "cntrl_avg = df.query('took_a_course==0')['earnings'].mean()\n",
        "\n",
        "treatment_avg - cntrl_avg"
      ],
      "metadata": {
        "colab": {
          "base_uri": "https://localhost:8080/",
          "height": 37
        },
        "id": "dZPCpqkvWm7B",
        "outputId": "5258cf67-51aa-4516-c2f6-4c4092d98bad"
      },
      "execution_count": null,
      "outputs": [
        {
          "output_type": "execute_result",
          "data": {
            "text/plain": [
              "6695.570882852306"
            ],
            "text/latex": "$\\displaystyle 6695.57088285231$"
          },
          "metadata": {},
          "execution_count": 15
        }
      ]
    },
    {
      "cell_type": "markdown",
      "source": [],
      "metadata": {
        "id": "2lKXmtl5kJKK"
      }
    },
    {
      "cell_type": "markdown",
      "source": [
        "## Causal Effect Estimate\n"
      ],
      "metadata": {
        "id": "9H3pCX1caXgV"
      }
    },
    {
      "cell_type": "markdown",
      "source": [
        "### 1. Define the Graph"
      ],
      "metadata": {
        "id": "HvqHhkX4aaMG"
      }
    },
    {
      "cell_type": "code",
      "source": [
        "# Construct the graph (the graph is constant for all iterations)\n",
        "nodes = ['took_a_course', 'earnings', 'age']\n",
        "edges = [\n",
        "    ('took_a_course', 'earnings'),\n",
        "    ('age', 'took_a_course'),\n",
        "    ('age', 'earnings')\n",
        "]\n",
        "\n",
        "# Generate the GML graph\n",
        "gml_string = 'graph [directed 1\\n'\n",
        "\n",
        "for node in nodes:\n",
        "    gml_string += f'\\tnode [id \"{node}\" label \"{node}\"]\\n'\n",
        "\n",
        "for edge in edges:\n",
        "    gml_string += f'\\tedge [source \"{edge[0]}\" target \"{edge[1]}\"]\\n'\n",
        "\n",
        "gml_string += ']'"
      ],
      "metadata": {
        "id": "dnwdX8SmWm4X"
      },
      "execution_count": null,
      "outputs": []
    },
    {
      "cell_type": "code",
      "source": [
        "# Instantiate the CausalModel\n",
        "model = CausalModel(\n",
        "    data=df,\n",
        "    treatment='took_a_course',\n",
        "    outcome='earnings',\n",
        "    graph=gml_string\n",
        ")\n",
        "\n",
        "model.view_model()"
      ],
      "metadata": {
        "colab": {
          "base_uri": "https://localhost:8080/",
          "height": 541
        },
        "id": "EydlKeYdagzO",
        "outputId": "bc278aba-7aae-43b5-800a-9e849701d0a9"
      },
      "execution_count": null,
      "outputs": [
        {
          "output_type": "stream",
          "name": "stderr",
          "text": [
            "WARNING:dowhy.causal_graph:Warning: Pygraphviz cannot be loaded. Check that graphviz and pygraphviz are installed.\n"
          ]
        },
        {
          "output_type": "display_data",
          "data": {
            "text/plain": [
              "<Figure size 800x600 with 1 Axes>"
            ],
            "image/png": "[encoded data removed]"
          },
          "metadata": {}
        }
      ]
    },
    {
      "cell_type": "markdown",
      "source": [
        "### 2. Get the Estimand(估计量)"
      ],
      "metadata": {
        "id": "3UxmQAR3alQp"
      }
    },
    {
      "cell_type": "code",
      "source": [
        "# Get the estimand\n",
        "estimand = model.identify_effect(proceed_when_unidentifiable=True)\n",
        "\n",
        "print(estimand)"
      ],
      "metadata": {
        "colab": {
          "base_uri": "https://localhost:8080/"
        },
        "id": "stKEX3D8a5uS",
        "outputId": "5c632612-ebc5-4cd6-a2be-72a278cf6930"
      },
      "execution_count": null,
      "outputs": [
        {
          "output_type": "stream",
          "name": "stdout",
          "text": [
            "Estimand type: nonparametric-ate\n",
            "\n",
            "### Estimand : 1\n",
            "Estimand name: backdoor\n",
            "Estimand expression:\n",
            "       d                         \n",
            "────────────────(E[earnings|age])\n",
            "d[took_a_course]                 \n",
            "Estimand assumption 1, Unconfoundedness: If U→{took_a_course} and U→earnings then P(earnings|took_a_course,age,U) = P(earnings|took_a_course,age)\n",
            "\n",
            "### Estimand : 2\n",
            "Estimand name: iv\n",
            "No such variable(s) found!\n",
            "\n",
            "### Estimand : 3\n",
            "Estimand name: frontdoor\n",
            "No such variable(s) found!\n",
            "\n"
          ]
        }
      ]
    },
    {
      "cell_type": "markdown",
      "source": [
        "### 3. Compute the Causal Efect"
      ],
      "metadata": {
        "id": "QUFjhGoMa9zl"
      }
    },
    {
      "cell_type": "code",
      "source": [
        "# Get estimate (Matching)\n",
        "estimate = model.estimate_effect(\n",
        "    identified_estimand=estimand,\n",
        "    method_name='backdoor.distance_matching',\n",
        "    target_units='ate',\n",
        "    method_params={'distance_metric': 'minkowski', 'p': 2})\n",
        "\n",
        "estimate.value"
      ],
      "metadata": {
        "colab": {
          "base_uri": "https://localhost:8080/",
          "height": 55
        },
        "id": "tSQ0kjr2a6Bk",
        "outputId": "68f743dc-935c-4345-8588-8344d1468721"
      },
      "execution_count": null,
      "outputs": [
        {
          "output_type": "stream",
          "name": "stdout",
          "text": [
            "distance_matching\n"
          ]
        },
        {
          "output_type": "execute_result",
          "data": {
            "text/plain": [
              "10464.5"
            ],
            "text/latex": "$\\displaystyle 10464.5$"
          },
          "metadata": {},
          "execution_count": 19
        }
      ]
    },
    {
      "cell_type": "markdown",
      "source": [
        "The true effect size for our data is 10,000 USD\n",
        "\n",
        "The absolute percentage error is 4.6%, which is a great\n",
        "improvement over the naïve estimate that resulted in 33% of absolute percentage error!"
      ],
      "metadata": {
        "id": "3nV7s2V_kPTp"
      }
    },
    {
      "cell_type": "code",
      "source": [
        "refutation = model.refute_estimate(\n",
        "    estimand=estimand,\n",
        "    estimate=estimate,\n",
        "    method_name='random_common_cause',\n",
        "    show_progress_bar=True\n",
        "    )"
      ],
      "metadata": {
        "id": "JY0bYSkLje24"
      },
      "execution_count": null,
      "outputs": []
    },
    {
      "cell_type": "code",
      "source": [
        "print(refutation)"
      ],
      "metadata": {
        "colab": {
          "base_uri": "https://localhost:8080/"
        },
        "id": "gJSbAIRkjnQj",
        "outputId": "02b0be8e-9388-4552-ab42-63255922fb61"
      },
      "execution_count": null,
      "outputs": [
        {
          "output_type": "stream",
          "name": "stdout",
          "text": [
            "Refute: Add a random common cause\n",
            "Estimated effect:10464.5\n",
            "New effect:10326.3363\n",
            "p value:0.48\n",
            "\n"
          ]
        }
      ]
    },
    {
      "cell_type": "markdown",
      "source": [
        "- The new effect is slightly lower than the estimated one, which means the original model might not cover some potential confounders (原始模型可能忽略了一些潜在的混杂因素，导致轻微高估了Treatment的效应)\n",
        "- High p value indicates that **the change is not statistically significant**\n",
        "\n",
        "Outcome:\n",
        "- P-value说明原始估计有良好的稳健性\n",
        "- Estimated effect和New effect区别不大，但New effect更小：即估计效应相对接近真实效应\n",
        "- 添加随机共同原因略微改善了估计，使其更接近真实值，单这种改变在统计上不显著\n",
        "\n",
        "后续：\n",
        "- 可能存在其他混杂因子需要探索\n",
        "- 使用其他refutation测试来进一步验证估计的稳健性"
      ],
      "metadata": {
        "id": "uvrpvDIFj7Lg"
      }
    },
    {
      "cell_type": "code",
      "source": [
        "refutation_subset = model.refute_estimate(\n",
        "    estimand=estimand,\n",
        "    estimate=estimate,\n",
        "    method_name='data_subset_refuter',\n",
        "    show_progress_bar=True\n",
        "    )\n",
        "print(refutation_subset)"
      ],
      "metadata": {
        "colab": {
          "base_uri": "https://localhost:8080/"
        },
        "id": "Q0AFb-golnQx",
        "outputId": "e936f962-75bf-434e-9441-d7fee45ed303"
      },
      "execution_count": null,
      "outputs": [
        {
          "output_type": "stream",
          "name": "stdout",
          "text": [
            "Refute: Use a subset of data\n",
            "Estimated effect:10464.5\n",
            "New effect:10408.874125\n",
            "p value:0.8999999999999999\n",
            "\n"
          ]
        }
      ]
    },
    {
      "cell_type": "markdown",
      "source": [
        "#  Part 2 – propensity scores"
      ],
      "metadata": {
        "id": "AqYXtJ3KOrEd"
      }
    },
    {
      "cell_type": "markdown",
      "source": [
        "## Inverse Probability Weighting (IPW)\n"
      ],
      "metadata": {
        "id": "x4gdj1O_NxnQ"
      }
    },
    {
      "cell_type": "markdown",
      "source": [
        "### IPW Definition\n",
        "\n",
        "IPW是一种用于控制混杂因素、估计因果效应的方法。\n",
        "\n",
        "IPW的核心思想是通过调整样本权重来创建一个\"平衡\"的数据集,使得处理组和对照组在各个协变量上的分布更加相似。这种方法试图模拟随机对照试验中的随机分配过程\n",
        "\n",
        "原理:\n",
        "- 对样本进行加权,提高代表性不足的群体的权重,降低过度代表的群体的权重。\n",
        "- 使用倾向性得分(接受治疗的概率)的倒数作为权重"
      ],
      "metadata": {
        "id": "j0rQxvOfTbb_"
      }
    },
    {
      "cell_type": "code",
      "source": [
        "import matplotlib.pyplot as plt\n",
        "import numpy as np\n",
        "\n",
        "# 数据\n",
        "categories = ['Original', 'Estimated by IPW']\n",
        "treatment = [20, 50]\n",
        "control = [80, 50]\n",
        "\n",
        "# 创建柱状图\n",
        "x = np.arange(len(categories))\n",
        "width = 0.35\n",
        "\n",
        "fig, ax = plt.subplots(figsize=(10, 6))\n",
        "rects1 = ax.bar(x - width/2, treatment, width, label='Treatment', color='#8884d8')\n",
        "rects2 = ax.bar(x + width/2, control, width, label='Control', color='#82ca9d')\n",
        "\n",
        "# 添加一些文本元素\n",
        "ax.set_ylabel('Percentage')\n",
        "ax.set_title('IPW Example: Gender Balancing')\n",
        "ax.set_xticks(x)\n",
        "ax.set_xticklabels(categories)\n",
        "ax.legend()\n",
        "\n",
        "# 在柱子上添加数值标签\n",
        "def autolabel(rects):\n",
        "    for rect in rects:\n",
        "        height = rect.get_height()\n",
        "        ax.annotate(f'{height}%',\n",
        "                    xy=(rect.get_x() + rect.get_width() / 2, height),\n",
        "                    xytext=(0, 3),  # 3 points vertical offset\n",
        "                    textcoords=\"offset points\",\n",
        "                    ha='center', va='bottom')\n",
        "\n",
        "autolabel(rects1)\n",
        "autolabel(rects2)\n",
        "\n",
        "plt.tight_layout()\n",
        "plt.show();"
      ],
      "metadata": {
        "colab": {
          "base_uri": "https://localhost:8080/",
          "height": 595
        },
        "id": "gNdBobzATzsU",
        "outputId": "02c1507c-7940-4324-8854-e081ab049c65"
      },
      "execution_count": null,
      "outputs": [
        {
          "output_type": "display_data",
          "data": {
            "text/plain": [
              "<Figure size 1000x600 with 1 Axes>"
            ],
            "image/png": "[encoded data removed]"
          },
          "metadata": {}
        }
      ]
    },
    {
      "cell_type": "markdown",
      "source": [
        "假设我们的原始数据中,处理组只有20%是女性,而对照组有80%是女性。通过IPW,我们可以调整权重,使得两组的性别比例都接近50%,从而减少性别作为混杂因素的影响"
      ],
      "metadata": {
        "id": "sRNlDMOkU3uF"
      }
    },
    {
      "cell_type": "markdown",
      "source": [
        "在实践中,IPW常用于观察性研究,特别是在无法进行随机对照试验的情况下。例如:\n",
        "\n",
        "- 医疗研究:评估某种药物治疗的效果,但不能随机分配患者到治疗组和对照组。\n",
        "- 经济学:评估某项政策对经济指标的影响。\n",
        "- 教育研究:评估某种教学方法对学生成绩的影响。\n",
        "\n",
        "IPW的优势和局限性:\n",
        "\n",
        "优势:\n",
        "- 可以处理高维数据\n",
        "- 不需要对结果模型进行假设\n",
        "- 可以估计不同类型的因果效应(如ATE, ATT, ATC)\n",
        "\n",
        "局限性:\n",
        "- 对极端倾向性得分敏感\n",
        "- 如果倾向性模型指定错误,可能导致偏差\n",
        "- 在小样本情况下可能表现不佳"
      ],
      "metadata": {
        "id": "NAd8a3MXU-ck"
      }
    },
    {
      "cell_type": "markdown",
      "source": [
        "### 1.Build Model"
      ],
      "metadata": {
        "id": "oZ14VGd0QMTJ"
      }
    },
    {
      "cell_type": "code",
      "source": [
        "pd.read_csv('/content/drive/MyDrive/Colab Notebooks/Causal Inference and Discovery in Python/data/ch_01_drug_data.csv')\n",
        "\n",
        "gender = [1] * (24 + 56 + 17 + 25) + [0] * (3 + 39 + 6 +74)\n",
        "clot = [1] * 24 + [0] * 56 + [1] * 17 + [0] * 25 + [1] * 3 + [0] * 39 + [1] * 6 + [0] * 74\n",
        "drug = [0] * (24 + 56) + [1] * (17 + 25) + [0] * 42 + [1] * 80\n",
        "\n",
        "drug_data = pd.DataFrame(dict(\n",
        "    gender=gender,\n",
        "    clot=clot,\n",
        "    drug=drug\n",
        "))\n",
        "\n",
        "# Construct the graph (the graph is constant for all iterations)\n",
        "nodes_drug = ['drug', 'clot', 'gender']\n",
        "edges_drug = [\n",
        "    ('drug', 'clot'),\n",
        "    ('gender', 'drug'),\n",
        "    ('gender', 'clot')\n",
        "]\n",
        "\n",
        "# Generate the GML graph\n",
        "gml_string_drug = 'graph [directed 1\\n'\n",
        "\n",
        "for node in nodes_drug:\n",
        "    gml_string_drug += f'\\tnode [id \"{node}\" label \"{node}\"]\\n'\n",
        "\n",
        "for edge in edges_drug:\n",
        "    gml_string_drug += f'\\tedge [source \"{edge[0]}\" target \"{edge[1]}\"]\\n'\n",
        "\n",
        "gml_string_drug += ']'\n",
        "\n",
        "# Instantiate the CausalModel\n",
        "model_drug = CausalModel(\n",
        "    data=drug_data,\n",
        "    treatment='drug',\n",
        "    outcome='clot',\n",
        "    graph=gml_string_drug\n",
        ")\n",
        "\n",
        "model_drug.view_model()"
      ],
      "metadata": {
        "colab": {
          "base_uri": "https://localhost:8080/",
          "height": 541
        },
        "id": "N21XKDpsOZno",
        "outputId": "60ee75bc-fcf9-4e0b-a741-c9c6b5496d10"
      },
      "execution_count": null,
      "outputs": [
        {
          "output_type": "stream",
          "name": "stderr",
          "text": [
            "WARNING:dowhy.causal_graph:Warning: Pygraphviz cannot be loaded. Check that graphviz and pygraphviz are installed.\n"
          ]
        },
        {
          "output_type": "display_data",
          "data": {
            "text/plain": [
              "<Figure size 800x600 with 1 Axes>"
            ],
            "image/png": "[encoded data removed]"
          },
          "metadata": {}
        }
      ]
    },
    {
      "cell_type": "markdown",
      "source": [
        "### 2.Estimate Effect (Drug dataset)"
      ],
      "metadata": {
        "id": "rwFagFURQEPj"
      }
    },
    {
      "cell_type": "code",
      "source": [
        "# Identify effect\n",
        "estimand_drug = model_drug.identify_effect()\n",
        "\n",
        "# Get estimate (IPW weighting)\n",
        "estimate_drug = model_drug.estimate_effect(\n",
        "    identified_estimand=estimand_drug,\n",
        "    method_name='backdoor.propensity_score_weighting', # 模型假设处理变量和结果变量之间存在可能的混杂因素,而这些因素可以通过观察到的协变量来控制\n",
        "    target_units='ate'\n",
        ")\n",
        "\n",
        "print(estimate_drug.value)"
      ],
      "metadata": {
        "colab": {
          "base_uri": "https://localhost:8080/"
        },
        "id": "A8OnMqIfO3dX",
        "outputId": "81bda218-8090-4e35-c55f-ca3643bad7b7"
      },
      "execution_count": null,
      "outputs": [
        {
          "output_type": "stream",
          "name": "stdout",
          "text": [
            "propensity_score_weighting\n",
            "0.04811580602068774\n"
          ]
        },
        {
          "output_type": "stream",
          "name": "stderr",
          "text": [
            "/usr/local/lib/python3.10/dist-packages/sklearn/utils/validation.py:1183: DataConversionWarning: A column-vector y was passed when a 1d array was expected. Please change the shape of y to (n_samples, ), for example using ravel().\n",
            "  y = column_or_1d(y, warn=True)\n"
          ]
        }
      ]
    },
    {
      "cell_type": "markdown",
      "source": [
        "### 2.2 Estimate Effect (ml_earnings dataset in part 1)"
      ],
      "metadata": {
        "id": "aZd794boQW0B"
      }
    },
    {
      "cell_type": "code",
      "source": [
        "# Get estimate (IPW weighting)\n",
        "estimate_PIW = model.estimate_effect(\n",
        "    identified_estimand=estimand,\n",
        "    method_name='backdoor.propensity_score_weighting',\n",
        "    target_units='ate' # 估计平均处理效应。我们关心的是在整个人群中,接受处理与不接受处理之间的平均差异\n",
        ")"
      ],
      "metadata": {
        "colab": {
          "base_uri": "https://localhost:8080/"
        },
        "id": "H3qkEwV4PGAE",
        "outputId": "5ed58acf-472d-4470-bb43-7f960df044a2"
      },
      "execution_count": null,
      "outputs": [
        {
          "output_type": "stream",
          "name": "stdout",
          "text": [
            "propensity_score_weighting\n"
          ]
        },
        {
          "output_type": "stream",
          "name": "stderr",
          "text": [
            "/usr/local/lib/python3.10/dist-packages/sklearn/utils/validation.py:1183: DataConversionWarning: A column-vector y was passed when a 1d array was expected. Please change the shape of y to (n_samples, ), for example using ravel().\n",
            "  y = column_or_1d(y, warn=True)\n"
          ]
        }
      ]
    },
    {
      "cell_type": "code",
      "source": [
        "estimate_PIW.value"
      ],
      "metadata": {
        "colab": {
          "base_uri": "https://localhost:8080/",
          "height": 37
        },
        "id": "poPKtFwsPZTz",
        "outputId": "a7196b97-5b35-4b6d-e980-e541bfd545c8"
      },
      "execution_count": null,
      "outputs": [
        {
          "output_type": "execute_result",
          "data": {
            "text/plain": [
              "10313.566831120319"
            ],
            "text/latex": "$\\displaystyle 10313.5668311203$"
          },
          "metadata": {},
          "execution_count": 24
        }
      ]
    },
    {
      "cell_type": "code",
      "source": [
        "(estimate.value - 10e3) / 10e3"
      ],
      "metadata": {
        "colab": {
          "base_uri": "https://localhost:8080/",
          "height": 37
        },
        "id": "45TrHVJfPaSv",
        "outputId": "cda455c2-94c8-4ac0-c0c2-d91c0bf95dd6"
      },
      "execution_count": null,
      "outputs": [
        {
          "output_type": "execute_result",
          "data": {
            "text/plain": [
              "0.04645"
            ],
            "text/latex": "$\\displaystyle 0.04645$"
          },
          "metadata": {},
          "execution_count": 25
        }
      ]
    },
    {
      "cell_type": "markdown",
      "source": [
        "- The true effect size for our data is 10,000 USD\n",
        "- Distance Matching: 10464.5, the absolute percentage error is 4.6%\n",
        "- Inverse Probability Weighting: 10313.57, the absolute percentage error is 3.1%\n",
        "\n"
      ],
      "metadata": {
        "id": "wLGbyDfiQmHP"
      }
    },
    {
      "cell_type": "markdown",
      "source": [
        "- 效果不错:在给出的结果中中,IPW的误差率(3.1%)比距离匹配法(4.6%)更低。可能是因为IPW能更好地处理样本中的异质性\n",
        "- 灵活性强:可以与不同的估计技术(如加权最小二乘法)结合使用。\n",
        "\n",
        "估计的稳健性:\n",
        "\n",
        "虽然IPW表现良好,但3.1%的误差仍然存在。这可能来自几个源头:\n",
        "- 倾向性得分模型的潜在误特定化\n",
        "- 样本中可能存在的极端权重\n",
        "- 未观察到的混杂因素的影响\n",
        "\n",
        "实际意义:\n",
        "估计结果表明,处理(可能是某种干预或政策)平均增加了个人收入约10,313美元。这个效应不仅在统计上显著,而且在经济上也很重要。"
      ],
      "metadata": {
        "id": "L6vyTT8CTgT4"
      }
    }
  ]
}