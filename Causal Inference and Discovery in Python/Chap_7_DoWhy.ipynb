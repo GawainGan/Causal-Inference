{
  "nbformat": 4,
  "nbformat_minor": 0,
  "metadata": {
    "colab": {
      "provenance": [],
      "collapsed_sections": [
        "Xh65zMhgNIor",
        "4Mql5ILjz5Ut",
        "QpqGPI-HM2nr",
        "_A6_70zBNDOO",
        "cCD2VEERSl3G",
        "3rp9tox-UjDd",
        "YiGvlHxmXfxE",
        "UatFnAGTz7wj",
        "u0SHTyBu4zM3",
        "PtxNYVKp4H_Q"
      ],
      "authorship_tag": "ABX9TyOGhGGVW/KXaL916okzx78p",
      "include_colab_link": true
    },
    "kernelspec": {
      "name": "python3",
      "display_name": "Python 3"
    },
    "language_info": {
      "name": "python"
    }
  },
  "cells": [
    {
      "cell_type": "markdown",
      "metadata": {
        "id": "view-in-github",
        "colab_type": "text"
      },
      "source": [
        "<a href=\"https://colab.research.google.com/github/GawainGan/Causal-Inference/blob/main/Causal%20Inference%20and%20Discovery%20in%20Python/Chap_7_DoWhy.ipynb\" target=\"_parent\"><img src=\"https://colab.research.google.com/assets/colab-badge.svg\" alt=\"Open In Colab\"/></a>"
      ]
    },
    {
      "cell_type": "markdown",
      "source": [
        "### packages"
      ],
      "metadata": {
        "id": "Xh65zMhgNIor"
      }
    },
    {
      "cell_type": "code",
      "source": [
        "# pip install econml"
      ],
      "metadata": {
        "id": "UyAyvm-I4jAF"
      },
      "execution_count": null,
      "outputs": []
    },
    {
      "cell_type": "code",
      "execution_count": 2,
      "metadata": {
        "colab": {
          "base_uri": "https://localhost:8080/"
        },
        "id": "LL28ypFYMNfx",
        "outputId": "6c32ed77-cb60-481f-c1a5-3a4ff2acacb0"
      },
      "outputs": [
        {
          "output_type": "stream",
          "name": "stdout",
          "text": [
            "Collecting dowhy\n",
            "  Downloading dowhy-0.11.1-py3-none-any.whl.metadata (17 kB)\n",
            "Collecting causal-learn>=0.1.3.0 (from dowhy)\n",
            "  Downloading causal_learn-0.1.3.8-py3-none-any.whl.metadata (4.2 kB)\n",
            "Requirement already satisfied: cvxpy<2.0.0,>=1.2.2 in /usr/local/lib/python3.10/dist-packages (from dowhy) (1.5.3)\n",
            "Requirement already satisfied: cython>=0.29.32 in /usr/local/lib/python3.10/dist-packages (from dowhy) (3.0.11)\n",
            "Requirement already satisfied: joblib>=1.1.0 in /usr/local/lib/python3.10/dist-packages (from dowhy) (1.4.2)\n",
            "Requirement already satisfied: networkx>=2.8.5 in /usr/local/lib/python3.10/dist-packages (from dowhy) (3.3)\n",
            "Requirement already satisfied: numpy>=1.20 in /usr/local/lib/python3.10/dist-packages (from dowhy) (1.26.4)\n",
            "Requirement already satisfied: pandas>=1.4.3 in /usr/local/lib/python3.10/dist-packages (from dowhy) (2.1.4)\n",
            "Requirement already satisfied: scikit-learn>1.0 in /usr/local/lib/python3.10/dist-packages (from dowhy) (1.3.2)\n",
            "Requirement already satisfied: scipy>=1.4.1 in /usr/local/lib/python3.10/dist-packages (from dowhy) (1.13.1)\n",
            "Requirement already satisfied: statsmodels>=0.13.5 in /usr/local/lib/python3.10/dist-packages (from dowhy) (0.14.2)\n",
            "Requirement already satisfied: sympy>=1.10.1 in /usr/local/lib/python3.10/dist-packages (from dowhy) (1.13.2)\n",
            "Requirement already satisfied: tqdm>=4.64.0 in /usr/local/lib/python3.10/dist-packages (from dowhy) (4.66.5)\n",
            "Requirement already satisfied: graphviz in /usr/local/lib/python3.10/dist-packages (from causal-learn>=0.1.3.0->dowhy) (0.20.3)\n",
            "Requirement already satisfied: matplotlib in /usr/local/lib/python3.10/dist-packages (from causal-learn>=0.1.3.0->dowhy) (3.7.1)\n",
            "Requirement already satisfied: pydot in /usr/local/lib/python3.10/dist-packages (from causal-learn>=0.1.3.0->dowhy) (1.4.2)\n",
            "Requirement already satisfied: osqp>=0.6.2 in /usr/local/lib/python3.10/dist-packages (from cvxpy<2.0.0,>=1.2.2->dowhy) (0.6.7.post0)\n",
            "Requirement already satisfied: ecos>=2 in /usr/local/lib/python3.10/dist-packages (from cvxpy<2.0.0,>=1.2.2->dowhy) (2.0.14)\n",
            "Requirement already satisfied: clarabel>=0.5.0 in /usr/local/lib/python3.10/dist-packages (from cvxpy<2.0.0,>=1.2.2->dowhy) (0.9.0)\n",
            "Requirement already satisfied: scs>=3.2.4.post1 in /usr/local/lib/python3.10/dist-packages (from cvxpy<2.0.0,>=1.2.2->dowhy) (3.2.7)\n",
            "Requirement already satisfied: python-dateutil>=2.8.2 in /usr/local/lib/python3.10/dist-packages (from pandas>=1.4.3->dowhy) (2.8.2)\n",
            "Requirement already satisfied: pytz>=2020.1 in /usr/local/lib/python3.10/dist-packages (from pandas>=1.4.3->dowhy) (2024.1)\n",
            "Requirement already satisfied: tzdata>=2022.1 in /usr/local/lib/python3.10/dist-packages (from pandas>=1.4.3->dowhy) (2024.1)\n",
            "Requirement already satisfied: threadpoolctl>=2.0.0 in /usr/local/lib/python3.10/dist-packages (from scikit-learn>1.0->dowhy) (3.5.0)\n",
            "Requirement already satisfied: patsy>=0.5.6 in /usr/local/lib/python3.10/dist-packages (from statsmodels>=0.13.5->dowhy) (0.5.6)\n",
            "Requirement already satisfied: packaging>=21.3 in /usr/local/lib/python3.10/dist-packages (from statsmodels>=0.13.5->dowhy) (24.1)\n",
            "Requirement already satisfied: mpmath<1.4,>=1.1.0 in /usr/local/lib/python3.10/dist-packages (from sympy>=1.10.1->dowhy) (1.3.0)\n",
            "Requirement already satisfied: qdldl in /usr/local/lib/python3.10/dist-packages (from osqp>=0.6.2->cvxpy<2.0.0,>=1.2.2->dowhy) (0.1.7.post4)\n",
            "Requirement already satisfied: six in /usr/local/lib/python3.10/dist-packages (from patsy>=0.5.6->statsmodels>=0.13.5->dowhy) (1.16.0)\n",
            "Requirement already satisfied: contourpy>=1.0.1 in /usr/local/lib/python3.10/dist-packages (from matplotlib->causal-learn>=0.1.3.0->dowhy) (1.2.1)\n",
            "Requirement already satisfied: cycler>=0.10 in /usr/local/lib/python3.10/dist-packages (from matplotlib->causal-learn>=0.1.3.0->dowhy) (0.12.1)\n",
            "Requirement already satisfied: fonttools>=4.22.0 in /usr/local/lib/python3.10/dist-packages (from matplotlib->causal-learn>=0.1.3.0->dowhy) (4.53.1)\n",
            "Requirement already satisfied: kiwisolver>=1.0.1 in /usr/local/lib/python3.10/dist-packages (from matplotlib->causal-learn>=0.1.3.0->dowhy) (1.4.5)\n",
            "Requirement already satisfied: pillow>=6.2.0 in /usr/local/lib/python3.10/dist-packages (from matplotlib->causal-learn>=0.1.3.0->dowhy) (9.4.0)\n",
            "Requirement already satisfied: pyparsing>=2.3.1 in /usr/local/lib/python3.10/dist-packages (from matplotlib->causal-learn>=0.1.3.0->dowhy) (3.1.4)\n",
            "Downloading dowhy-0.11.1-py3-none-any.whl (383 kB)\n",
            "\u001b[2K   \u001b[90m━━━━━━━━━━━━━━━━━━━━━━━━━━━━━━━━━━━━━━━━\u001b[0m \u001b[32m383.4/383.4 kB\u001b[0m \u001b[31m15.2 MB/s\u001b[0m eta \u001b[36m0:00:00\u001b[0m\n",
            "\u001b[?25hDownloading causal_learn-0.1.3.8-py3-none-any.whl (174 kB)\n",
            "\u001b[2K   \u001b[90m━━━━━━━━━━━━━━━━━━━━━━━━━━━━━━━━━━━━━━━━\u001b[0m \u001b[32m174.5/174.5 kB\u001b[0m \u001b[31m12.9 MB/s\u001b[0m eta \u001b[36m0:00:00\u001b[0m\n",
            "\u001b[?25hInstalling collected packages: causal-learn, dowhy\n",
            "Successfully installed causal-learn-0.1.3.8 dowhy-0.11.1\n"
          ]
        }
      ],
      "source": [
        "pip install dowhy"
      ]
    },
    {
      "cell_type": "code",
      "source": [
        "import numpy as np\n",
        "import pandas as pd\n",
        "from scipy import stats\n",
        "\n",
        "import dowhy\n",
        "from dowhy import CausalModel\n",
        "\n",
        "from sklearn.linear_model import LassoCV\n",
        "from sklearn.ensemble import GradientBoostingRegressor\n",
        "\n",
        "import matplotlib.pyplot as plt\n",
        "plt.style.use('fivethirtyeight')\n",
        "\n",
        "import graphviz"
      ],
      "metadata": {
        "id": "CSBswdbQMV3E"
      },
      "execution_count": 5,
      "outputs": []
    },
    {
      "cell_type": "code",
      "source": [
        "dowhy.__version__"
      ],
      "metadata": {
        "colab": {
          "base_uri": "https://localhost:8080/",
          "height": 35
        },
        "id": "y3t3bt7UMonx",
        "outputId": "b8e521c2-9e87-4c1a-d0db-12a08aa932dd"
      },
      "execution_count": 3,
      "outputs": [
        {
          "output_type": "execute_result",
          "data": {
            "text/plain": [
              "'0.11.1'"
            ],
            "application/vnd.google.colaboratory.intrinsic+json": {
              "type": "string"
            }
          },
          "metadata": {},
          "execution_count": 3
        }
      ]
    },
    {
      "cell_type": "code",
      "source": [
        "COLORS = [\n",
        "    '#00B0F0',\n",
        "    '#FF0000'\n",
        "]"
      ],
      "metadata": {
        "id": "iT7HCr7GMktx"
      },
      "execution_count": 9,
      "outputs": []
    },
    {
      "cell_type": "markdown",
      "source": [
        "# Example 1"
      ],
      "metadata": {
        "id": "4Mql5ILjz5Ut"
      }
    },
    {
      "cell_type": "markdown",
      "source": [
        "### Generate the data"
      ],
      "metadata": {
        "id": "QpqGPI-HM2nr"
      }
    },
    {
      "cell_type": "code",
      "source": [
        "# First, we'll build a structural causal model (SCM)\n",
        "class GPSMemorySCM:\n",
        "\n",
        "    def __init__(self, random_seed=None):\n",
        "        self.random_seed = random_seed\n",
        "        self.u_x = stats.truncnorm(0, np.infty, scale=5)\n",
        "        self.u_y = stats.norm(scale=2)\n",
        "        self.u_z = stats.norm(scale=2)\n",
        "        self.u = stats.truncnorm(0, np.infty, scale=4)\n",
        "\n",
        "    def sample(self, sample_size=100, treatment_value=None):\n",
        "        \"\"\"Samples from the SCM\"\"\"\n",
        "        if self.random_seed:\n",
        "            np.random.seed(self.random_seed)\n",
        "\n",
        "        u_x = self.u_x.rvs(sample_size)\n",
        "        u_y = self.u_y.rvs(sample_size)\n",
        "        u_z = self.u_z.rvs(sample_size)\n",
        "        u = self.u.rvs(sample_size)\n",
        "\n",
        "        if treatment_value:\n",
        "            gps = np.array([treatment_value]*sample_size)\n",
        "        else:\n",
        "            gps = u_x + 0.7*u\n",
        "\n",
        "        hippocampus = -0.6*gps + 0.25*u_z\n",
        "        memory = 0.7*hippocampus + 0.25*u\n",
        "\n",
        "        return gps, hippocampus, memory\n",
        "\n",
        "    def intervene(self, treatment_value, sample_size=100):\n",
        "        \"\"\"Intervenes on the SCM\"\"\"\n",
        "        return self.sample(treatment_value=treatment_value, sample_size=sample_size)"
      ],
      "metadata": {
        "id": "TLQpHQSFMqyE"
      },
      "execution_count": 5,
      "outputs": []
    },
    {
      "cell_type": "code",
      "source": [
        "# Instantiate the SCM\n",
        "scm = GPSMemorySCM()\n",
        "\n",
        "# Generate observational data\n",
        "gps_obs, hippocampus_obs, memory_obs = scm.sample(1000)\n",
        "\n",
        "# Encode as a pandas df\n",
        "df = pd.DataFrame(np.vstack([gps_obs, hippocampus_obs, memory_obs]).T, columns=['X', 'Z', 'Y'])"
      ],
      "metadata": {
        "id": "vyPuh_3eMqu4"
      },
      "execution_count": 6,
      "outputs": []
    },
    {
      "cell_type": "code",
      "source": [
        "df.head()"
      ],
      "metadata": {
        "colab": {
          "base_uri": "https://localhost:8080/",
          "height": 206
        },
        "id": "JReYKDFLM6OI",
        "outputId": "e5e0347f-9925-4498-f716-445ad89855ad"
      },
      "execution_count": 7,
      "outputs": [
        {
          "output_type": "execute_result",
          "data": {
            "text/plain": [
              "           X         Z         Y\n",
              "0   3.401110 -1.819536 -1.176714\n",
              "1   2.003995 -0.939901 -0.465969\n",
              "2  12.675572 -8.188005 -5.555301\n",
              "3  11.312860 -6.871732 -4.291241\n",
              "4   9.060915 -5.547674 -3.118411"
            ],
            "text/html": [
              "\n",
              "  <div id=\"df-e63bb7f3-e2d4-4df9-b2ee-f1889e477864\" class=\"colab-df-container\">\n",
              "    <div>\n",
              "<style scoped>\n",
              "    .dataframe tbody tr th:only-of-type {\n",
              "        vertical-align: middle;\n",
              "    }\n",
              "\n",
              "    .dataframe tbody tr th {\n",
              "        vertical-align: top;\n",
              "    }\n",
              "\n",
              "    .dataframe thead th {\n",
              "        text-align: right;\n",
              "    }\n",
              "</style>\n",
              "<table border=\"1\" class=\"dataframe\">\n",
              "  <thead>\n",
              "    <tr style=\"text-align: right;\">\n",
              "      <th></th>\n",
              "      <th>X</th>\n",
              "      <th>Z</th>\n",
              "      <th>Y</th>\n",
              "    </tr>\n",
              "  </thead>\n",
              "  <tbody>\n",
              "    <tr>\n",
              "      <th>0</th>\n",
              "      <td>3.401110</td>\n",
              "      <td>-1.819536</td>\n",
              "      <td>-1.176714</td>\n",
              "    </tr>\n",
              "    <tr>\n",
              "      <th>1</th>\n",
              "      <td>2.003995</td>\n",
              "      <td>-0.939901</td>\n",
              "      <td>-0.465969</td>\n",
              "    </tr>\n",
              "    <tr>\n",
              "      <th>2</th>\n",
              "      <td>12.675572</td>\n",
              "      <td>-8.188005</td>\n",
              "      <td>-5.555301</td>\n",
              "    </tr>\n",
              "    <tr>\n",
              "      <th>3</th>\n",
              "      <td>11.312860</td>\n",
              "      <td>-6.871732</td>\n",
              "      <td>-4.291241</td>\n",
              "    </tr>\n",
              "    <tr>\n",
              "      <th>4</th>\n",
              "      <td>9.060915</td>\n",
              "      <td>-5.547674</td>\n",
              "      <td>-3.118411</td>\n",
              "    </tr>\n",
              "  </tbody>\n",
              "</table>\n",
              "</div>\n",
              "    <div class=\"colab-df-buttons\">\n",
              "\n",
              "  <div class=\"colab-df-container\">\n",
              "    <button class=\"colab-df-convert\" onclick=\"convertToInteractive('df-e63bb7f3-e2d4-4df9-b2ee-f1889e477864')\"\n",
              "            title=\"Convert this dataframe to an interactive table.\"\n",
              "            style=\"display:none;\">\n",
              "\n",
              "  <svg xmlns=\"http://www.w3.org/2000/svg\" height=\"24px\" viewBox=\"0 -960 960 960\">\n",
              "    <path d=\"M120-120v-720h720v720H120Zm60-500h600v-160H180v160Zm220 220h160v-160H400v160Zm0 220h160v-160H400v160ZM180-400h160v-160H180v160Zm440 0h160v-160H620v160ZM180-180h160v-160H180v160Zm440 0h160v-160H620v160Z\"/>\n",
              "  </svg>\n",
              "    </button>\n",
              "\n",
              "  <style>\n",
              "    .colab-df-container {\n",
              "      display:flex;\n",
              "      gap: 12px;\n",
              "    }\n",
              "\n",
              "    .colab-df-convert {\n",
              "      background-color: #E8F0FE;\n",
              "      border: none;\n",
              "      border-radius: 50%;\n",
              "      cursor: pointer;\n",
              "      display: none;\n",
              "      fill: #1967D2;\n",
              "      height: 32px;\n",
              "      padding: 0 0 0 0;\n",
              "      width: 32px;\n",
              "    }\n",
              "\n",
              "    .colab-df-convert:hover {\n",
              "      background-color: #E2EBFA;\n",
              "      box-shadow: 0px 1px 2px rgba(60, 64, 67, 0.3), 0px 1px 3px 1px rgba(60, 64, 67, 0.15);\n",
              "      fill: #174EA6;\n",
              "    }\n",
              "\n",
              "    .colab-df-buttons div {\n",
              "      margin-bottom: 4px;\n",
              "    }\n",
              "\n",
              "    [theme=dark] .colab-df-convert {\n",
              "      background-color: #3B4455;\n",
              "      fill: #D2E3FC;\n",
              "    }\n",
              "\n",
              "    [theme=dark] .colab-df-convert:hover {\n",
              "      background-color: #434B5C;\n",
              "      box-shadow: 0px 1px 3px 1px rgba(0, 0, 0, 0.15);\n",
              "      filter: drop-shadow(0px 1px 2px rgba(0, 0, 0, 0.3));\n",
              "      fill: #FFFFFF;\n",
              "    }\n",
              "  </style>\n",
              "\n",
              "    <script>\n",
              "      const buttonEl =\n",
              "        document.querySelector('#df-e63bb7f3-e2d4-4df9-b2ee-f1889e477864 button.colab-df-convert');\n",
              "      buttonEl.style.display =\n",
              "        google.colab.kernel.accessAllowed ? 'block' : 'none';\n",
              "\n",
              "      async function convertToInteractive(key) {\n",
              "        const element = document.querySelector('#df-e63bb7f3-e2d4-4df9-b2ee-f1889e477864');\n",
              "        const dataTable =\n",
              "          await google.colab.kernel.invokeFunction('convertToInteractive',\n",
              "                                                    [key], {});\n",
              "        if (!dataTable) return;\n",
              "\n",
              "        const docLinkHtml = 'Like what you see? Visit the ' +\n",
              "          '<a target=\"_blank\" href=https://colab.research.google.com/notebooks/data_table.ipynb>data table notebook</a>'\n",
              "          + ' to learn more about interactive tables.';\n",
              "        element.innerHTML = '';\n",
              "        dataTable['output_type'] = 'display_data';\n",
              "        await google.colab.output.renderOutput(dataTable, element);\n",
              "        const docLink = document.createElement('div');\n",
              "        docLink.innerHTML = docLinkHtml;\n",
              "        element.appendChild(docLink);\n",
              "      }\n",
              "    </script>\n",
              "  </div>\n",
              "\n",
              "\n",
              "<div id=\"df-4a3dc9ce-0860-4e45-8538-ac9f13873ed5\">\n",
              "  <button class=\"colab-df-quickchart\" onclick=\"quickchart('df-4a3dc9ce-0860-4e45-8538-ac9f13873ed5')\"\n",
              "            title=\"Suggest charts\"\n",
              "            style=\"display:none;\">\n",
              "\n",
              "<svg xmlns=\"http://www.w3.org/2000/svg\" height=\"24px\"viewBox=\"0 0 24 24\"\n",
              "     width=\"24px\">\n",
              "    <g>\n",
              "        <path d=\"M19 3H5c-1.1 0-2 .9-2 2v14c0 1.1.9 2 2 2h14c1.1 0 2-.9 2-2V5c0-1.1-.9-2-2-2zM9 17H7v-7h2v7zm4 0h-2V7h2v10zm4 0h-2v-4h2v4z\"/>\n",
              "    </g>\n",
              "</svg>\n",
              "  </button>\n",
              "\n",
              "<style>\n",
              "  .colab-df-quickchart {\n",
              "      --bg-color: #E8F0FE;\n",
              "      --fill-color: #1967D2;\n",
              "      --hover-bg-color: #E2EBFA;\n",
              "      --hover-fill-color: #174EA6;\n",
              "      --disabled-fill-color: #AAA;\n",
              "      --disabled-bg-color: #DDD;\n",
              "  }\n",
              "\n",
              "  [theme=dark] .colab-df-quickchart {\n",
              "      --bg-color: #3B4455;\n",
              "      --fill-color: #D2E3FC;\n",
              "      --hover-bg-color: #434B5C;\n",
              "      --hover-fill-color: #FFFFFF;\n",
              "      --disabled-bg-color: #3B4455;\n",
              "      --disabled-fill-color: #666;\n",
              "  }\n",
              "\n",
              "  .colab-df-quickchart {\n",
              "    background-color: var(--bg-color);\n",
              "    border: none;\n",
              "    border-radius: 50%;\n",
              "    cursor: pointer;\n",
              "    display: none;\n",
              "    fill: var(--fill-color);\n",
              "    height: 32px;\n",
              "    padding: 0;\n",
              "    width: 32px;\n",
              "  }\n",
              "\n",
              "  .colab-df-quickchart:hover {\n",
              "    background-color: var(--hover-bg-color);\n",
              "    box-shadow: 0 1px 2px rgba(60, 64, 67, 0.3), 0 1px 3px 1px rgba(60, 64, 67, 0.15);\n",
              "    fill: var(--button-hover-fill-color);\n",
              "  }\n",
              "\n",
              "  .colab-df-quickchart-complete:disabled,\n",
              "  .colab-df-quickchart-complete:disabled:hover {\n",
              "    background-color: var(--disabled-bg-color);\n",
              "    fill: var(--disabled-fill-color);\n",
              "    box-shadow: none;\n",
              "  }\n",
              "\n",
              "  .colab-df-spinner {\n",
              "    border: 2px solid var(--fill-color);\n",
              "    border-color: transparent;\n",
              "    border-bottom-color: var(--fill-color);\n",
              "    animation:\n",
              "      spin 1s steps(1) infinite;\n",
              "  }\n",
              "\n",
              "  @keyframes spin {\n",
              "    0% {\n",
              "      border-color: transparent;\n",
              "      border-bottom-color: var(--fill-color);\n",
              "      border-left-color: var(--fill-color);\n",
              "    }\n",
              "    20% {\n",
              "      border-color: transparent;\n",
              "      border-left-color: var(--fill-color);\n",
              "      border-top-color: var(--fill-color);\n",
              "    }\n",
              "    30% {\n",
              "      border-color: transparent;\n",
              "      border-left-color: var(--fill-color);\n",
              "      border-top-color: var(--fill-color);\n",
              "      border-right-color: var(--fill-color);\n",
              "    }\n",
              "    40% {\n",
              "      border-color: transparent;\n",
              "      border-right-color: var(--fill-color);\n",
              "      border-top-color: var(--fill-color);\n",
              "    }\n",
              "    60% {\n",
              "      border-color: transparent;\n",
              "      border-right-color: var(--fill-color);\n",
              "    }\n",
              "    80% {\n",
              "      border-color: transparent;\n",
              "      border-right-color: var(--fill-color);\n",
              "      border-bottom-color: var(--fill-color);\n",
              "    }\n",
              "    90% {\n",
              "      border-color: transparent;\n",
              "      border-bottom-color: var(--fill-color);\n",
              "    }\n",
              "  }\n",
              "</style>\n",
              "\n",
              "  <script>\n",
              "    async function quickchart(key) {\n",
              "      const quickchartButtonEl =\n",
              "        document.querySelector('#' + key + ' button');\n",
              "      quickchartButtonEl.disabled = true;  // To prevent multiple clicks.\n",
              "      quickchartButtonEl.classList.add('colab-df-spinner');\n",
              "      try {\n",
              "        const charts = await google.colab.kernel.invokeFunction(\n",
              "            'suggestCharts', [key], {});\n",
              "      } catch (error) {\n",
              "        console.error('Error during call to suggestCharts:', error);\n",
              "      }\n",
              "      quickchartButtonEl.classList.remove('colab-df-spinner');\n",
              "      quickchartButtonEl.classList.add('colab-df-quickchart-complete');\n",
              "    }\n",
              "    (() => {\n",
              "      let quickchartButtonEl =\n",
              "        document.querySelector('#df-4a3dc9ce-0860-4e45-8538-ac9f13873ed5 button');\n",
              "      quickchartButtonEl.style.display =\n",
              "        google.colab.kernel.accessAllowed ? 'block' : 'none';\n",
              "    })();\n",
              "  </script>\n",
              "</div>\n",
              "\n",
              "    </div>\n",
              "  </div>\n"
            ],
            "application/vnd.google.colaboratory.intrinsic+json": {
              "type": "dataframe",
              "variable_name": "df",
              "summary": "{\n  \"name\": \"df\",\n  \"rows\": 1000,\n  \"fields\": [\n    {\n      \"column\": \"X\",\n      \"properties\": {\n        \"dtype\": \"number\",\n        \"std\": 3.5280282204313638,\n        \"min\": 0.11116484108812244,\n        \"max\": 19.852225445231436,\n        \"num_unique_values\": 1000,\n        \"samples\": [\n          3.712974572054981,\n          4.863443011451946,\n          2.8524187721160086\n        ],\n        \"semantic_type\": \"\",\n        \"description\": \"\"\n      }\n    },\n    {\n      \"column\": \"Z\",\n      \"properties\": {\n        \"dtype\": \"number\",\n        \"std\": 2.1714488239812564,\n        \"min\": -11.846697785189258,\n        \"max\": 0.6539912986418954,\n        \"num_unique_values\": 1000,\n        \"samples\": [\n          -1.9655132654435616,\n          -3.388547989625919,\n          -1.4582171383560232\n        ],\n        \"semantic_type\": \"\",\n        \"description\": \"\"\n      }\n    },\n    {\n      \"column\": \"Y\",\n      \"properties\": {\n        \"dtype\": \"number\",\n        \"std\": 1.3274240395574064,\n        \"min\": -6.601364793587879,\n        \"max\": 0.5902248165830295,\n        \"num_unique_values\": 1000,\n        \"samples\": [\n          -0.803719909030889,\n          -1.8289217486068465,\n          -0.4298450379149402\n        ],\n        \"semantic_type\": \"\",\n        \"description\": \"\"\n      }\n    }\n  ]\n}"
            }
          },
          "metadata": {},
          "execution_count": 7
        }
      ]
    },
    {
      "cell_type": "markdown",
      "source": [
        "## Step 1 – modeling the problem\n",
        "\n",
        "1. Creating a graph representing our problem\n",
        "2. Instantiating DoWhy’s CausalModel object using this graph\n",
        "\n",
        "DAG for the generated data:\n",
        "    \n",
        "    U: Confounder, Motivation\n",
        "    X: GPS Usage\n",
        "    Z: Hippocampus\n",
        "    Y: Spatical Memory\n",
        "\n",
        "    +----- U -------+\n",
        "    |               |\n",
        "    |               |\n",
        "    +-> X --> Z --> Y  "
      ],
      "metadata": {
        "id": "_A6_70zBNDOO"
      }
    },
    {
      "cell_type": "markdown",
      "source": [
        "###1.1 Creating the graph\n",
        "\n",
        "We did not include the confounding variable in our dataset (it’s unobserved!), but we’ll include it in the graph.\n",
        "\n",
        "This will allow DoWhy to recognize that **there’s an unobserved confounder in the graph** and **find a relevant estimand** for us automatically."
      ],
      "metadata": {
        "id": "B4frAplNOgUO"
      }
    },
    {
      "cell_type": "code",
      "source": [
        "# Create the graph describing the causal structure\n",
        "gml_graph = \"\"\"\n",
        "graph [\n",
        "    directed 1\n",
        "\n",
        "    node [\n",
        "        id \"X\"\n",
        "        label \"X\"\n",
        "    ]\n",
        "    node [\n",
        "        id \"Z\"\n",
        "        label \"Z\"\n",
        "    ]\n",
        "    node [\n",
        "        id \"Y\"\n",
        "        label \"Y\"\n",
        "    ]\n",
        "    node [\n",
        "        id \"U\"\n",
        "        label \"U\"\n",
        "    ]\n",
        "\n",
        "    edge [\n",
        "        source \"X\"\n",
        "        target \"Z\"\n",
        "    ]\n",
        "    edge [\n",
        "        source \"Z\"\n",
        "        target \"Y\"\n",
        "    ]\n",
        "    edge [\n",
        "        source \"U\"\n",
        "        target \"X\"\n",
        "    ]\n",
        "    edge [\n",
        "        source \"U\"\n",
        "        target \"Y\"\n",
        "    ]\n",
        "]\n",
        "\"\"\""
      ],
      "metadata": {
        "id": "ko3_d_fQM-Al"
      },
      "execution_count": 8,
      "outputs": []
    },
    {
      "cell_type": "markdown",
      "source": [
        "### Step 1.2 - define the DoWhy model"
      ],
      "metadata": {
        "id": "AMqUFMQYPNPY"
      }
    },
    {
      "cell_type": "code",
      "source": [
        "# import logging\n",
        "\n",
        "# # Configure the logging level to `logging.WARNING` or higher for additional details.\n",
        "# logging.basicConfig(level=logging.DEBUG, format='%(message)s')\n",
        "\n",
        "import warnings\n",
        "warnings.filterwarnings('ignore')"
      ],
      "metadata": {
        "id": "zqug_gS-Poy6"
      },
      "execution_count": 9,
      "outputs": []
    },
    {
      "cell_type": "code",
      "source": [
        "# With graph\n",
        "model = CausalModel(\n",
        "    data=df,\n",
        "    treatment='X',\n",
        "    outcome='Y',\n",
        "    graph=gml_graph\n",
        ")"
      ],
      "metadata": {
        "colab": {
          "base_uri": "https://localhost:8080/"
        },
        "id": "ZRTwu-k0PGtI",
        "outputId": "ae78480e-1b21-41df-f044-1a15bde82b6f"
      },
      "execution_count": 10,
      "outputs": [
        {
          "output_type": "stream",
          "name": "stderr",
          "text": [
            "WARNING:dowhy.causal_model:The graph defines 4 variables. 3 were found in the dataset and will be analyzed as observed variables. 1 were not found in the dataset and will be analyzed as unobserved variables. The observed variables are: '['X', 'Y', 'Z']'. The unobserved variables are: '['U']'. If this matches your expectations for observations, please continue. If you expected any of the unobserved variables to be in the dataframe, please check for typos.\n"
          ]
        }
      ]
    },
    {
      "cell_type": "markdown",
      "source": [
        "logging result from the fitted Causal Model:\n",
        "1. The graph defines 4 variables. 3 were found in the dataset and will be analyzed as observed variables.\n",
        "2. 1 were not found in the dataset and will be analyzed as unobserved variables.\n",
        "3. The observed variables are: '['X', 'Y', 'Z']'.\n",
        "4. The unobserved variables are: '['U']'. If this matches your expectations for observations, please continue.\n",
        "\n",
        "If you expected any of the unobserved variables to be in the dataframe, please check for typos.\n",
        "\n"
      ],
      "metadata": {
        "id": "zd4y2jj9Qyf9"
      }
    },
    {
      "cell_type": "code",
      "source": [
        "model.view_model(size=(8,6))"
      ],
      "metadata": {
        "colab": {
          "base_uri": "https://localhost:8080/",
          "height": 523
        },
        "id": "IOZ1izy8PGq1",
        "outputId": "ef2a0a99-d28d-46be-b481-fc50585a1683"
      },
      "execution_count": 11,
      "outputs": [
        {
          "output_type": "display_data",
          "data": {
            "text/plain": [
              "<Figure size 800x600 with 1 Axes>"
            ],
            "image/png": "[encoded data removed]"
          },
          "metadata": {}
        }
      ]
    },
    {
      "cell_type": "markdown",
      "source": [
        "## Step 2 – identifying the estimand(s)"
      ],
      "metadata": {
        "id": "cCD2VEERSl3G"
      }
    },
    {
      "cell_type": "code",
      "source": [
        "estimand = model.identify_effect()\n",
        "print(estimand)"
      ],
      "metadata": {
        "colab": {
          "base_uri": "https://localhost:8080/"
        },
        "id": "QmhhuUWKPGoJ",
        "outputId": "7bb8fc2d-2fb4-425e-dbbc-944f79b88d59"
      },
      "execution_count": 12,
      "outputs": [
        {
          "output_type": "stream",
          "name": "stderr",
          "text": [
            "WARNING:dowhy.causal_identifier.auto_identifier:Backdoor identification failed.\n"
          ]
        },
        {
          "output_type": "stream",
          "name": "stdout",
          "text": [
            "Estimand type: EstimandType.NONPARAMETRIC_ATE\n",
            "\n",
            "### Estimand : 1\n",
            "Estimand name: backdoor\n",
            "No such variable(s) found!\n",
            "\n",
            "### Estimand : 2\n",
            "Estimand name: iv\n",
            "No such variable(s) found!\n",
            "\n",
            "### Estimand : 3\n",
            "Estimand name: frontdoor\n",
            "Estimand expression:\n",
            " ⎡ d       d       ⎤\n",
            "E⎢────(Y)⋅────([Z])⎥\n",
            " ⎣d[Z]    d[X]     ⎦\n",
            "Estimand assumption 1, Full-mediation: Z intercepts (blocks) all directed paths from X to Y.\n",
            "Estimand assumption 2, First-stage-unconfoundedness: If U→{X} and U→{Z} then P(Z|X,U) = P(Z|X)\n",
            "Estimand assumption 3, Second-stage-unconfoundedness: If U→{Z} and U→Y then P(Y|Z, X, U) = P(Y|Z, X)\n",
            "\n"
          ]
        }
      ]
    },
    {
      "cell_type": "markdown",
      "source": [
        "DoWhy has found only one estimand for our graph: frontdoor\n",
        "\n",
        "it will only be able to find estimands for us if our model is identifiable using one of the three supported methods\n",
        "\n",
        "Reference for more advanced identification strategies: [grapl-causal](https://github.com/max-little/GRAPL)"
      ],
      "metadata": {
        "id": "n4Pvoa_8Vr6W"
      }
    },
    {
      "cell_type": "markdown",
      "source": [
        "## Step 3: Estimate the causal effect"
      ],
      "metadata": {
        "id": "3rp9tox-UjDd"
      }
    },
    {
      "cell_type": "markdown",
      "source": [
        "### Example 1 - Linear Regression"
      ],
      "metadata": {
        "id": "YiGvlHxmXfxE"
      }
    },
    {
      "cell_type": "markdown",
      "source": [
        "for the general methods to estimate effect, here are some example:\n",
        "\n",
        "    - Propensity Score Matching: \"backdoor.propensity_score_matching\"\n",
        "    - Propensity Score Stratification: \"backdoor.propensity_score_stratification\"\n",
        "    - Propensity Score-based Inverse Weighting: \"backdoor.propensity_score_weighting\"\n",
        "    - Linear Regression: \"backdoor.linear_regression\"\n",
        "    - Generalized Linear Models (e.g., logistic regression): \"backdoor.generalized_linear_model\"\n",
        "    - Instrumental Variables: \"iv.instrumental_variable\"\n",
        "    - Regression Discontinuity: \"iv.regression_discontinuity\"\n",
        "    - Two Stage Regression: \"frontdoor.two_stage_regression\""
      ],
      "metadata": {
        "id": "sb7dxwWrYKIR"
      }
    },
    {
      "cell_type": "code",
      "source": [
        "estimate = model.estimate_effect(\n",
        "    identified_estimand=estimand,\n",
        "    method_name='frontdoor.two_stage_regression')\n",
        "print(estimate)"
      ],
      "metadata": {
        "colab": {
          "base_uri": "https://localhost:8080/"
        },
        "id": "GH_VnEwCUSBD",
        "outputId": "32ad0bab-77d8-4e63-e597-00ed1e94b812"
      },
      "execution_count": 13,
      "outputs": [
        {
          "output_type": "stream",
          "name": "stderr",
          "text": [
            "WARNING:dowhy.causal_estimator:First stage model not provided. Defaulting to sklearn.linear_model.LinearRegression.\n",
            "WARNING:dowhy.causal_estimator:Second stage model not provided. Defaulting to backdoor.linear_regression.\n"
          ]
        },
        {
          "output_type": "stream",
          "name": "stdout",
          "text": [
            "*** Causal Estimate ***\n",
            "\n",
            "## Identified estimand\n",
            "Estimand type: EstimandType.NONPARAMETRIC_ATE\n",
            "\n",
            "### Estimand : 1\n",
            "Estimand name: frontdoor\n",
            "Estimand expression:\n",
            " ⎡ d       d       ⎤\n",
            "E⎢────(Y)⋅────([Z])⎥\n",
            " ⎣d[Z]    d[X]     ⎦\n",
            "Estimand assumption 1, Full-mediation: Z intercepts (blocks) all directed paths from X to Y.\n",
            "Estimand assumption 2, First-stage-unconfoundedness: If U→{X} and U→{Z} then P(Z|X,U) = P(Z|X)\n",
            "Estimand assumption 3, Second-stage-unconfoundedness: If U→{Z} and U→Y then P(Y|Z, X, U) = P(Y|Z, X)\n",
            "\n",
            "## Realized estimand\n",
            "(b: Z~X)*(b: Y~Z+X)\n",
            "Target units: ate\n",
            "\n",
            "## Estimate\n",
            "Mean value: -0.4615111065157206\n",
            "\n"
          ]
        }
      ]
    },
    {
      "cell_type": "code",
      "source": [
        "estimate.params"
      ],
      "metadata": {
        "colab": {
          "base_uri": "https://localhost:8080/"
        },
        "id": "Ni9sh5odZqHs",
        "outputId": "1e681c9b-af6f-4b5d-d3aa-427b0fe69571"
      },
      "execution_count": 14,
      "outputs": [
        {
          "output_type": "execute_result",
          "data": {
            "text/plain": [
              "{'estimand_type': <EstimandType.NONPARAMETRIC_ATE: 'nonparametric-ate'>,\n",
              " 'estimator_class': dowhy.causal_estimators.two_stage_regression_estimator.TwoStageRegressionEstimator,\n",
              " 'test_significance': None,\n",
              " 'evaluate_effect_strength': False,\n",
              " 'confidence_intervals': False,\n",
              " 'target_units': 'ate',\n",
              " 'effect_modifiers': []}"
            ]
          },
          "metadata": {},
          "execution_count": 14
        }
      ]
    },
    {
      "cell_type": "code",
      "source": [
        "significance_results = estimate.test_stat_significance()\n",
        "p_value = significance_results[\"p_value\"]\n",
        "print(f\"p-value: {p_value}\")"
      ],
      "metadata": {
        "colab": {
          "base_uri": "https://localhost:8080/"
        },
        "id": "Hb1w4W3hbrFs",
        "outputId": "d4af31f0-6192-4cc7-85c9-e95cef8204fc"
      },
      "execution_count": 15,
      "outputs": [
        {
          "output_type": "stream",
          "name": "stdout",
          "text": [
            "p-value: (0.999, 1)\n"
          ]
        }
      ]
    },
    {
      "cell_type": "code",
      "source": [
        "confidence_interval = estimate.get_confidence_intervals()\n",
        "print(f\"Confidence Intervals:{confidence_interval}\")"
      ],
      "metadata": {
        "colab": {
          "base_uri": "https://localhost:8080/"
        },
        "id": "S4Ygj-NQcxhN",
        "outputId": "23942973-fd21-46d9-add4-e054747c8a86"
      },
      "execution_count": 16,
      "outputs": [
        {
          "output_type": "stream",
          "name": "stdout",
          "text": [
            "Confidence Intervals:(-0.5013539093477959, -0.4204289389232797)\n"
          ]
        }
      ]
    },
    {
      "cell_type": "code",
      "source": [
        "estimate.interpret()"
      ],
      "metadata": {
        "colab": {
          "base_uri": "https://localhost:8080/"
        },
        "id": "X-VCS7Fbdjxc",
        "outputId": "79943bff-bd80-4b0b-c64a-c292c72c8ce8"
      },
      "execution_count": 17,
      "outputs": [
        {
          "output_type": "stream",
          "name": "stdout",
          "text": [
            "Increasing the treatment variable(s) [X] from 0 to 1 causes an increase of -0.4615111065157206 in the expected value of the outcome [['Y']], over the data distribution/population represented by the dataset.\n"
          ]
        }
      ]
    },
    {
      "cell_type": "code",
      "source": [
        "estimate.get_standard_error()"
      ],
      "metadata": {
        "colab": {
          "base_uri": "https://localhost:8080/",
          "height": 37
        },
        "id": "gws92XI2hY_6",
        "outputId": "94b3cfcf-afa0-4608-b8ea-3ec27f36059e"
      },
      "execution_count": 18,
      "outputs": [
        {
          "output_type": "execute_result",
          "data": {
            "text/plain": [
              "0.020879592032508196"
            ],
            "text/latex": "$\\displaystyle 0.0208795920325082$"
          },
          "metadata": {},
          "execution_count": 18
        }
      ]
    },
    {
      "cell_type": "code",
      "source": [
        "print(f\"Control Value: {estimate.control_value}\\n\"\n",
        "      f\"Treatment Value: {estimate.treatment_value}\\n\"\n",
        "      f\"Effect Strength: {estimate.effect_strength}\\n\"\n",
        "      f\"The Conditional Estimates: {estimate.conditional_estimates}\\n\"\n",
        "      )"
      ],
      "metadata": {
        "colab": {
          "base_uri": "https://localhost:8080/"
        },
        "id": "aOQGiojCZu6n",
        "outputId": "5acd1d49-cde6-4a6a-f4b1-ec376433185f"
      },
      "execution_count": 19,
      "outputs": [
        {
          "output_type": "stream",
          "name": "stdout",
          "text": [
            "Control Value: 0\n",
            "Treatment Value: 1\n",
            "Effect Strength: None\n",
            "The Conditional Estimates: None\n",
            "\n"
          ]
        }
      ]
    },
    {
      "cell_type": "code",
      "source": [
        "#  we needed to fit two linear regression models, get their coefficients, and multiply them in order to obtain the final causal effect estimate\n",
        "\n",
        "print(f'Estimate of causal effect (linear regression): {estimate.value}')"
      ],
      "metadata": {
        "colab": {
          "base_uri": "https://localhost:8080/"
        },
        "id": "txIcXxsoYlyd",
        "outputId": "e9674a3a-c6aa-4a40-f578-0946520b95e7"
      },
      "execution_count": 20,
      "outputs": [
        {
          "output_type": "stream",
          "name": "stdout",
          "text": [
            "Estimate of causal effect (linear regression): -0.4615111065157206\n"
          ]
        }
      ]
    },
    {
      "cell_type": "markdown",
      "source": [
        "## Step 4: Run refutation tests 反驳测试 (Where’s my validation set?)"
      ],
      "metadata": {
        "id": "vHhILjUghxX6"
      }
    },
    {
      "cell_type": "markdown",
      "source": [
        "证伪测试的基本思想是修改模型或数据集的某个元素，观察其对结果的影响\n",
        "\n",
        "两种可用的转换类型：\n",
        "\n",
        "1.\t不变转换（Invariant Transformations）：不变转换以一种不应改变估计结果的方式改变数据。如果估计结果发生了显著变化，那么模型就未能通过测试。\n",
        "2.\t归零转换（Nullifying Transformations）：归零转换以一种应使估计效应为零的方式改变数据。如果结果显著偏离零，那么模型就未能通过测试。\n",
        "\n",
        "**随机共同原因检验器（Random Common Cause Refuter）**：这个检验器会向数据集中添加一个新的混淆变量，并对其进行控制。如果原始模型正确地指定了，我们预计这样的添加不会导致模型估计发生显著变化（因此，这个测试属于不变转换类别）。\n",
        "\n",
        "**应用示例**\n",
        "\n",
        "假设我们有一个因果模型，用于估计某种治疗（Treatment）对结果（Outcome）的影响。我们可以进行以下类型的证伪测试：\n",
        "\n",
        "1.\t不变转换：比如对数据进行某种变换（如添加无关变量或重新排列数据），但这些操作不应该影响结果的估计。如果模型是稳健的，估计结果应该不变。\n",
        "2.\t归零转换：比如通过人工构造一个数据集，理论上应使治疗效果为零。如果在这个新的数据集上，模型仍然得出显著的效果，那么说明模型可能存在问题。"
      ],
      "metadata": {
        "id": "COgpB37NxO70"
      }
    },
    {
      "cell_type": "code",
      "source": [
        "refute_subset = model.refute_estimate(\n",
        "    estimand=estimand,\n",
        "    estimate=estimate,\n",
        "    method_name=\"data_subset_refuter\",\n",
        "    subset_fraction=0.4)\n",
        "\n",
        "# This test removes a random subset of the data and re-estimates the causal effect.\n",
        "# In expectation, the new estimate (on the subset) should not significantly differ from the original one."
      ],
      "metadata": {
        "id": "5N4Y1qFMPteB"
      },
      "execution_count": 21,
      "outputs": []
    },
    {
      "cell_type": "code",
      "source": [
        "print(refute_subset)"
      ],
      "metadata": {
        "colab": {
          "base_uri": "https://localhost:8080/"
        },
        "id": "KJGvDt_zPuqF",
        "outputId": "59003337-f662-4584-ca0e-517d992cc927"
      },
      "execution_count": 22,
      "outputs": [
        {
          "output_type": "stream",
          "name": "stdout",
          "text": [
            "Refute: Use a subset of data\n",
            "Estimated effect:-0.4615111065157206\n",
            "New effect:-0.4616030634363773\n",
            "p value:0.98\n",
            "\n"
          ]
        }
      ]
    },
    {
      "cell_type": "markdown",
      "source": [
        "Estimated effect和New effect非常接近，p值很高，这表明这两个估计值之间可能没有真正的差异。\n",
        "\n",
        "这个结果没有伪造我们的假设，也许让我们更有信心我们的模型可能是正确的。"
      ],
      "metadata": {
        "id": "nQux8aP1zk5C"
      }
    },
    {
      "cell_type": "markdown",
      "source": [
        "# Example 2"
      ],
      "metadata": {
        "id": "UatFnAGTz7wj"
      }
    },
    {
      "cell_type": "markdown",
      "source": [
        "### Step 1 – encode the assumptions"
      ],
      "metadata": {
        "id": "lSlYYqfe1Psc"
      }
    },
    {
      "cell_type": "code",
      "source": [
        "graph = graphviz.Digraph(format='png', engine='neato')\n",
        "\n",
        "nodes = ['S', 'Q', 'X', 'Y', 'P']\n",
        "positions = ['2,2.5!', '3,1!', '3,0!', '1, 0!', '1,2!', '1.7,0.9!']\n",
        "\n",
        "edges = ['SQ', 'SY', 'QX', 'QY', 'XP', 'YP', 'XY']\n",
        "\n",
        "[graph.node(n, pos=pos) for n, pos in zip(nodes, positions)]\n",
        "graph.edges(edges)\n",
        "\n",
        "graph.render(f'img/ch_07_full_example')\n",
        "\n",
        "graph"
      ],
      "metadata": {
        "colab": {
          "base_uri": "https://localhost:8080/",
          "height": 320
        },
        "id": "8PXA5Hg9z9F7",
        "outputId": "dd30ed76-ed62-4f8b-b63e-0b55ffc4b4f6"
      },
      "execution_count": 23,
      "outputs": [
        {
          "output_type": "execute_result",
          "data": {
            "image/svg+xml": "<?xml version=\"1.0\" encoding=\"UTF-8\" standalone=\"no\"?>\n<!DOCTYPE svg PUBLIC \"-//W3C//DTD SVG 1.1//EN\"\n \"http://www.w3.org/Graphics/SVG/1.1/DTD/svg11.dtd\">\n<!-- Generated by graphviz version 2.43.0 (0)\n -->\n<!-- Title: %3 Pages: 1 -->\n<svg width=\"206pt\" height=\"224pt\"\n viewBox=\"0.00 0.00 206.00 224.00\" xmlns=\"http://www.w3.org/2000/svg\" xmlns:xlink=\"http://www.w3.org/1999/xlink\">\n<g id=\"graph0\" class=\"graph\" transform=\"scale(1 1) rotate(0) translate(4 220)\">\n<title>%3</title>\n<polygon fill=\"white\" stroke=\"transparent\" points=\"-4,4 -4,-220 202,-220 202,4 -4,4\"/>\n<!-- S -->\n<g id=\"node1\" class=\"node\">\n<title>S</title>\n<ellipse fill=\"none\" stroke=\"black\" cx=\"99\" cy=\"-198\" rx=\"27\" ry=\"18\"/>\n<text text-anchor=\"middle\" x=\"99\" y=\"-194.3\" font-family=\"Times,serif\" font-size=\"14.00\">S</text>\n</g>\n<!-- Q -->\n<g id=\"node2\" class=\"node\">\n<title>Q</title>\n<ellipse fill=\"none\" stroke=\"black\" cx=\"171\" cy=\"-90\" rx=\"27\" ry=\"18\"/>\n<text text-anchor=\"middle\" x=\"171\" y=\"-86.3\" font-family=\"Times,serif\" font-size=\"14.00\">Q</text>\n</g>\n<!-- S&#45;&gt;Q -->\n<g id=\"edge1\" class=\"edge\">\n<title>S&#45;&gt;Q</title>\n<path fill=\"none\" stroke=\"black\" d=\"M110.25,-181.13C122.03,-163.45 140.67,-135.49 154.2,-115.2\"/>\n<polygon fill=\"black\" stroke=\"black\" points=\"157.19,-117.02 159.83,-106.76 151.37,-113.14 157.19,-117.02\"/>\n</g>\n<!-- Y -->\n<g id=\"node4\" class=\"node\">\n<title>Y</title>\n<ellipse fill=\"none\" stroke=\"black\" cx=\"27\" cy=\"-18\" rx=\"27\" ry=\"18\"/>\n<text text-anchor=\"middle\" x=\"27\" y=\"-14.3\" font-family=\"Times,serif\" font-size=\"14.00\">Y</text>\n</g>\n<!-- S&#45;&gt;Y -->\n<g id=\"edge2\" class=\"edge\">\n<title>S&#45;&gt;Y</title>\n<path fill=\"none\" stroke=\"black\" d=\"M91.97,-180.41C79.35,-148.88 52.81,-82.52 37.85,-45.12\"/>\n<polygon fill=\"black\" stroke=\"black\" points=\"40.92,-43.38 33.96,-35.39 34.42,-45.98 40.92,-43.38\"/>\n</g>\n<!-- X -->\n<g id=\"node3\" class=\"node\">\n<title>X</title>\n<ellipse fill=\"none\" stroke=\"black\" cx=\"171\" cy=\"-18\" rx=\"27\" ry=\"18\"/>\n<text text-anchor=\"middle\" x=\"171\" y=\"-14.3\" font-family=\"Times,serif\" font-size=\"14.00\">X</text>\n</g>\n<!-- Q&#45;&gt;X -->\n<g id=\"edge3\" class=\"edge\">\n<title>Q&#45;&gt;X</title>\n<path fill=\"none\" stroke=\"black\" d=\"M171,-71.83C171,-64.13 171,-54.97 171,-46.42\"/>\n<polygon fill=\"black\" stroke=\"black\" points=\"174.5,-46.41 171,-36.41 167.5,-46.41 174.5,-46.41\"/>\n</g>\n<!-- Q&#45;&gt;Y -->\n<g id=\"edge4\" class=\"edge\">\n<title>Q&#45;&gt;Y</title>\n<path fill=\"none\" stroke=\"black\" d=\"M149.13,-79.06C124.78,-66.89 85.24,-47.12 57.77,-33.39\"/>\n<polygon fill=\"black\" stroke=\"black\" points=\"59.11,-30.14 48.6,-28.8 55.98,-36.4 59.11,-30.14\"/>\n</g>\n<!-- X&#45;&gt;Y -->\n<g id=\"edge7\" class=\"edge\">\n<title>X&#45;&gt;Y</title>\n<path fill=\"none\" stroke=\"black\" d=\"M143.91,-18C121.53,-18 89.5,-18 64.63,-18\"/>\n<polygon fill=\"black\" stroke=\"black\" points=\"64.45,-14.5 54.45,-18 64.45,-21.5 64.45,-14.5\"/>\n</g>\n<!-- P -->\n<g id=\"node5\" class=\"node\">\n<title>P</title>\n<ellipse fill=\"none\" stroke=\"black\" cx=\"27\" cy=\"-162\" rx=\"27\" ry=\"18\"/>\n<text text-anchor=\"middle\" x=\"27\" y=\"-158.3\" font-family=\"Times,serif\" font-size=\"14.00\">P</text>\n</g>\n<!-- X&#45;&gt;P -->\n<g id=\"edge5\" class=\"edge\">\n<title>X&#45;&gt;P</title>\n<path fill=\"none\" stroke=\"black\" d=\"M155.86,-33.14C130.54,-58.46 79.46,-109.54 49.78,-139.22\"/>\n<polygon fill=\"black\" stroke=\"black\" points=\"46.97,-137.09 42.37,-146.63 51.91,-142.03 46.97,-137.09\"/>\n</g>\n<!-- Y&#45;&gt;P -->\n<g id=\"edge6\" class=\"edge\">\n<title>Y&#45;&gt;P</title>\n<path fill=\"none\" stroke=\"black\" d=\"M27,-36.24C27,-60.8 27,-104.75 27,-133.65\"/>\n<polygon fill=\"black\" stroke=\"black\" points=\"23.5,-133.91 27,-143.91 30.5,-133.91 23.5,-133.91\"/>\n</g>\n</g>\n</svg>\n",
            "text/plain": [
              "<graphviz.graphs.Digraph at 0x7b4de464e860>"
            ]
          },
          "metadata": {},
          "execution_count": 23
        }
      ]
    },
    {
      "cell_type": "code",
      "source": [
        "SAMPLE_SIZE = 1000\n",
        "\n",
        "S = np.random.random(SAMPLE_SIZE)\n",
        "Q = 0.2*S + 0.67*np.random.random(SAMPLE_SIZE)\n",
        "X = 0.14*Q + 0.4*np.random.random(SAMPLE_SIZE)\n",
        "Y = 0.7*X + 0.11*Q + 0.32*S + 0.24*np.random.random(SAMPLE_SIZE)\n",
        "P = 0.43*X + 0.21*Y + 0.22*np.random.random(SAMPLE_SIZE)\n",
        "\n",
        "# Encode as a pandas df\n",
        "df = pd.DataFrame(np.vstack([S, Q, X, Y, P]).T, columns=['S', 'Q', 'X', 'Y', 'P'])"
      ],
      "metadata": {
        "id": "gAcYGROZz9DY"
      },
      "execution_count": 24,
      "outputs": []
    },
    {
      "cell_type": "code",
      "source": [
        "# Generate the GML graph\n",
        "gml_string = 'graph [directed 1\\n'\n",
        "\n",
        "for node in nodes:\n",
        "    gml_string += f'\\tnode [id \"{node}\" label \"{node}\"]\\n'\n",
        "\n",
        "for edge in edges:\n",
        "    gml_string += f'\\tedge [source \"{edge[0]}\" target \"{edge[1]}\"]\\n'\n",
        "\n",
        "gml_string += ']'"
      ],
      "metadata": {
        "id": "CQTNferpz8-2"
      },
      "execution_count": 26,
      "outputs": []
    },
    {
      "cell_type": "code",
      "source": [
        "print(gml_string)"
      ],
      "metadata": {
        "colab": {
          "base_uri": "https://localhost:8080/"
        },
        "id": "0rVD7-pc0NZT",
        "outputId": "f9669c65-d2f5-45ec-d927-466f987b90bd"
      },
      "execution_count": 27,
      "outputs": [
        {
          "output_type": "stream",
          "name": "stdout",
          "text": [
            "graph [directed 1\n",
            "\tnode [id \"S\" label \"S\"]\n",
            "\tnode [id \"Q\" label \"Q\"]\n",
            "\tnode [id \"X\" label \"X\"]\n",
            "\tnode [id \"Y\" label \"Y\"]\n",
            "\tnode [id \"P\" label \"P\"]\n",
            "\tedge [source \"S\" target \"Q\"]\n",
            "\tedge [source \"S\" target \"Y\"]\n",
            "\tedge [source \"Q\" target \"X\"]\n",
            "\tedge [source \"Q\" target \"Y\"]\n",
            "\tedge [source \"X\" target \"P\"]\n",
            "\tedge [source \"Y\" target \"P\"]\n",
            "\tedge [source \"X\" target \"Y\"]\n",
            "]\n"
          ]
        }
      ]
    },
    {
      "cell_type": "code",
      "source": [
        "# Instantiate the CausalModel\n",
        "model = CausalModel(\n",
        "    data=df,\n",
        "    treatment='X',\n",
        "    outcome='Y',\n",
        "    graph=gml_string\n",
        ")"
      ],
      "metadata": {
        "id": "F_eKA0_q0gBz"
      },
      "execution_count": 28,
      "outputs": []
    },
    {
      "cell_type": "code",
      "source": [
        "model.view_model()"
      ],
      "metadata": {
        "colab": {
          "base_uri": "https://localhost:8080/",
          "height": 523
        },
        "id": "s2m0BGbf0l2G",
        "outputId": "aa1ee5b5-aad6-4b0f-b535-a6803df436d4"
      },
      "execution_count": 29,
      "outputs": [
        {
          "output_type": "display_data",
          "data": {
            "text/plain": [
              "<Figure size 800x600 with 1 Axes>"
            ],
            "image/png": "[encoded data removed]"
          },
          "metadata": {}
        }
      ]
    },
    {
      "cell_type": "markdown",
      "source": [
        "### 2. Identify Effect"
      ],
      "metadata": {
        "id": "u0SHTyBu4zM3"
      }
    },
    {
      "cell_type": "code",
      "source": [
        "# Get the estimand\n",
        "estimand = model.identify_effect()\n",
        "print(estimand)"
      ],
      "metadata": {
        "colab": {
          "base_uri": "https://localhost:8080/"
        },
        "id": "X-akFuvs0nko",
        "outputId": "36f18fd8-2157-4b96-88e8-b04b557ccec3"
      },
      "execution_count": 30,
      "outputs": [
        {
          "output_type": "stream",
          "name": "stdout",
          "text": [
            "Estimand type: EstimandType.NONPARAMETRIC_ATE\n",
            "\n",
            "### Estimand : 1\n",
            "Estimand name: backdoor\n",
            "Estimand expression:\n",
            " d          \n",
            "────(E[Y|Q])\n",
            "d[X]        \n",
            "Estimand assumption 1, Unconfoundedness: If U→{X} and U→Y then P(Y|X,Q,U) = P(Y|X,Q)\n",
            "\n",
            "### Estimand : 2\n",
            "Estimand name: iv\n",
            "No such variable(s) found!\n",
            "\n",
            "### Estimand : 3\n",
            "Estimand name: frontdoor\n",
            "No such variable(s) found!\n",
            "\n"
          ]
        }
      ]
    },
    {
      "cell_type": "code",
      "source": [],
      "metadata": {
        "colab": {
          "base_uri": "https://localhost:8080/"
        },
        "id": "enAsR79L2XG-",
        "outputId": "041224c7-32ba-4b71-f776-dc42df1e2845"
      },
      "execution_count": 34,
      "outputs": [
        {
          "output_type": "stream",
          "name": "stdout",
          "text": [
            "Collecting econml\n",
            "  Downloading econml-0.15.1-cp310-cp310-manylinux_2_17_x86_64.manylinux2014_x86_64.whl.metadata (38 kB)\n",
            "Requirement already satisfied: numpy<2 in /usr/local/lib/python3.10/dist-packages (from econml) (1.26.4)\n",
            "Requirement already satisfied: scipy>1.4.0 in /usr/local/lib/python3.10/dist-packages (from econml) (1.13.1)\n",
            "Requirement already satisfied: scikit-learn<1.6,>=1.0 in /usr/local/lib/python3.10/dist-packages (from econml) (1.3.2)\n",
            "Collecting sparse (from econml)\n",
            "  Downloading sparse-0.15.4-py2.py3-none-any.whl.metadata (4.5 kB)\n",
            "Requirement already satisfied: joblib>=0.13.0 in /usr/local/lib/python3.10/dist-packages (from econml) (1.4.2)\n",
            "Requirement already satisfied: statsmodels>=0.10 in /usr/local/lib/python3.10/dist-packages (from econml) (0.14.2)\n",
            "Requirement already satisfied: pandas>1.0 in /usr/local/lib/python3.10/dist-packages (from econml) (2.1.4)\n",
            "Collecting shap<0.44.0,>=0.38.1 (from econml)\n",
            "  Downloading shap-0.43.0-cp310-cp310-manylinux_2_12_x86_64.manylinux2010_x86_64.manylinux_2_17_x86_64.manylinux2014_x86_64.whl.metadata (24 kB)\n",
            "Requirement already satisfied: lightgbm in /usr/local/lib/python3.10/dist-packages (from econml) (4.4.0)\n",
            "Requirement already satisfied: packaging in /usr/local/lib/python3.10/dist-packages (from econml) (24.1)\n",
            "Requirement already satisfied: python-dateutil>=2.8.2 in /usr/local/lib/python3.10/dist-packages (from pandas>1.0->econml) (2.8.2)\n",
            "Requirement already satisfied: pytz>=2020.1 in /usr/local/lib/python3.10/dist-packages (from pandas>1.0->econml) (2024.1)\n",
            "Requirement already satisfied: tzdata>=2022.1 in /usr/local/lib/python3.10/dist-packages (from pandas>1.0->econml) (2024.1)\n",
            "Requirement already satisfied: threadpoolctl>=2.0.0 in /usr/local/lib/python3.10/dist-packages (from scikit-learn<1.6,>=1.0->econml) (3.5.0)\n",
            "Requirement already satisfied: tqdm>=4.27.0 in /usr/local/lib/python3.10/dist-packages (from shap<0.44.0,>=0.38.1->econml) (4.66.5)\n",
            "Collecting slicer==0.0.7 (from shap<0.44.0,>=0.38.1->econml)\n",
            "  Downloading slicer-0.0.7-py3-none-any.whl.metadata (3.7 kB)\n",
            "Requirement already satisfied: numba in /usr/local/lib/python3.10/dist-packages (from shap<0.44.0,>=0.38.1->econml) (0.60.0)\n",
            "Requirement already satisfied: cloudpickle in /usr/local/lib/python3.10/dist-packages (from shap<0.44.0,>=0.38.1->econml) (2.2.1)\n",
            "Requirement already satisfied: patsy>=0.5.6 in /usr/local/lib/python3.10/dist-packages (from statsmodels>=0.10->econml) (0.5.6)\n",
            "Requirement already satisfied: llvmlite<0.44,>=0.43.0dev0 in /usr/local/lib/python3.10/dist-packages (from numba->shap<0.44.0,>=0.38.1->econml) (0.43.0)\n",
            "Requirement already satisfied: six in /usr/local/lib/python3.10/dist-packages (from patsy>=0.5.6->statsmodels>=0.10->econml) (1.16.0)\n",
            "Downloading econml-0.15.1-cp310-cp310-manylinux_2_17_x86_64.manylinux2014_x86_64.whl (4.5 MB)\n",
            "\u001b[2K   \u001b[90m━━━━━━━━━━━━━━━━━━━━━━━━━━━━━━━━━━━━━━━━\u001b[0m \u001b[32m4.5/4.5 MB\u001b[0m \u001b[31m72.9 MB/s\u001b[0m eta \u001b[36m0:00:00\u001b[0m\n",
            "\u001b[?25hDownloading shap-0.43.0-cp310-cp310-manylinux_2_12_x86_64.manylinux2010_x86_64.manylinux_2_17_x86_64.manylinux2014_x86_64.whl (532 kB)\n",
            "\u001b[2K   \u001b[90m━━━━━━━━━━━━━━━━━━━━━━━━━━━━━━━━━━━━━━━━\u001b[0m \u001b[32m532.9/532.9 kB\u001b[0m \u001b[31m32.7 MB/s\u001b[0m eta \u001b[36m0:00:00\u001b[0m\n",
            "\u001b[?25hDownloading slicer-0.0.7-py3-none-any.whl (14 kB)\n",
            "Downloading sparse-0.15.4-py2.py3-none-any.whl (237 kB)\n",
            "\u001b[2K   \u001b[90m━━━━━━━━━━━━━━━━━━━━━━━━━━━━━━━━━━━━━━━━\u001b[0m \u001b[32m237.3/237.3 kB\u001b[0m \u001b[31m2.7 MB/s\u001b[0m eta \u001b[36m0:00:00\u001b[0m\n",
            "\u001b[?25hInstalling collected packages: slicer, sparse, shap, econml\n",
            "Successfully installed econml-0.15.1 shap-0.43.0 slicer-0.0.7 sparse-0.15.4\n"
          ]
        }
      ]
    },
    {
      "cell_type": "markdown",
      "source": [
        "### 3. Estimate Effect"
      ],
      "metadata": {
        "id": "PtxNYVKp4H_Q"
      }
    },
    {
      "cell_type": "code",
      "source": [
        "estimate = model.estimate_effect(\n",
        "    identified_estimand=estimand,\n",
        "    method_name='backdoor.econml.dml.DML',\n",
        "    method_params={\n",
        "        'init_params': {\n",
        "            'model_y': GradientBoostingRegressor(),\n",
        "            'model_t': GradientBoostingRegressor(),\n",
        "            'model_final': LassoCV(fit_intercept=False),\n",
        "        },\n",
        "        'fit_params': {}}\n",
        ")\n",
        "\n",
        "print(f'Estimate of causal effect (DML): {estimate.value}')"
      ],
      "metadata": {
        "colab": {
          "base_uri": "https://localhost:8080/"
        },
        "id": "lzrbw_Ei10HB",
        "outputId": "4739201e-1dc3-4575-e04a-ca3f30f4dca7"
      },
      "execution_count": 35,
      "outputs": [
        {
          "output_type": "stream",
          "name": "stdout",
          "text": [
            "Estimate of causal effect (DML): 0.7348394732499146\n"
          ]
        }
      ]
    },
    {
      "cell_type": "code",
      "source": [
        "estimate_lr = model.estimate_effect(\n",
        "    identified_estimand=estimand,\n",
        "    method_name='backdoor.linear_regression')\n",
        "\n",
        "print(f'Estimate of causal effect (linear regression): {estimate_lr.value}')"
      ],
      "metadata": {
        "colab": {
          "base_uri": "https://localhost:8080/"
        },
        "id": "JEw_VK9m2kFy",
        "outputId": "6e159af8-b9c8-4f69-a353-25117cd96b19"
      },
      "execution_count": 36,
      "outputs": [
        {
          "output_type": "stream",
          "name": "stdout",
          "text": [
            "Estimate of causal effect (linear regression): 0.7233933946119362\n"
          ]
        }
      ]
    },
    {
      "cell_type": "markdown",
      "source": [
        "### 4.Refutation Test"
      ],
      "metadata": {
        "id": "6PH4FeJe4GYy"
      }
    },
    {
      "cell_type": "code",
      "source": [
        "random_cause = model.refute_estimate(\n",
        "    estimand=estimand,\n",
        "    estimate=estimate,\n",
        "    method_name='random_common_cause'\n",
        ")"
      ],
      "metadata": {
        "id": "XQdgkSSU2mxd"
      },
      "execution_count": 37,
      "outputs": []
    },
    {
      "cell_type": "code",
      "source": [
        "print(random_cause)"
      ],
      "metadata": {
        "colab": {
          "base_uri": "https://localhost:8080/"
        },
        "id": "aCZCD3Dg26UF",
        "outputId": "a0404c00-0f73-4dbe-8940-5cb568e9fd8b"
      },
      "execution_count": 38,
      "outputs": [
        {
          "output_type": "stream",
          "name": "stdout",
          "text": [
            "Refute: Add a random common cause\n",
            "Estimated effect:0.7348394732499146\n",
            "New effect:0.7215718494344027\n",
            "p value:0.54\n",
            "\n"
          ]
        }
      ]
    },
    {
      "cell_type": "markdown",
      "source": [
        "- **Refute: Add a random common cause** ：数据集中添加一个随机生成的共同原因（混淆变量）并控制它，来检查模型的估计是否会发生显著变化。理论上，如果模型是正确的，并且已经考虑了所有的混淆因素，添加这个随机共同原因不应该显著改变估计结果\n",
        "- **Estimated Effect** 和 **New Effect**：两个数据的区别非常小，即添加了随机生成的共同原因，造成的影响很像。即改生成数据对实际模型不产生显著效果\n",
        "- **P-value**：该数值没有<0.05，即无法拒绝原假设。原假设为：**新效应值与原始效应值之间的差异仅是由于随机因素引起的，不存在实际的显著差异**。因此同样再次验证了**Estimated Effect** 和 **New Effect** 两者差值的分析结果\n",
        "\n",
        "因此，结果表明，随机共同原因的添加没有显著影响因果效应的估计值，模型的稳健性得到了支持"
      ],
      "metadata": {
        "id": "A8q-aK885rm_"
      }
    },
    {
      "cell_type": "code",
      "source": [
        "placebo_refuter = model.refute_estimate(\n",
        "    estimand=estimand,\n",
        "    estimate=estimate,\n",
        "    method_name='placebo_treatment_refuter'\n",
        ")"
      ],
      "metadata": {
        "id": "Cugphrwz2884"
      },
      "execution_count": 39,
      "outputs": []
    },
    {
      "cell_type": "code",
      "source": [
        "print(placebo_refuter)"
      ],
      "metadata": {
        "colab": {
          "base_uri": "https://localhost:8080/"
        },
        "id": "6TXKQ6BD3Bdb",
        "outputId": "ee1e768c-5dc5-4731-d2b5-fef19057c9bd"
      },
      "execution_count": 40,
      "outputs": [
        {
          "output_type": "stream",
          "name": "stdout",
          "text": [
            "Refute: Use a Placebo Treatment\n",
            "Estimated effect:0.7348394732499146\n",
            "New effect:0.0\n",
            "p value:1.0\n",
            "\n"
          ]
        }
      ]
    },
    {
      "cell_type": "markdown",
      "source": [
        "- **Refute: Use a Placebo Treatment**：这种方法通过将处理变量（Treatment）替换为一个“安慰剂变量”（Placebo Variable），该变量不应该对结果产生影响。然后，它检查这个替换是否会显著改变因果效应的估计\n",
        "- **New effect:0.0**：这是在使用“安慰剂处理”后得到的新估计效应值。在这种情况下，安慰剂变量的效应估计为0.0。这意味着，当我们用一个不相关的安慰剂变量替代实际的处理变量时，模型正确地反映出没有效应，这表明模型是有效的\n",
        "- **p value:1.0**：p值为1.0，表示新效应值（0.0）与原始效应值（在此情况下也是0.0）之间的差异完全不显著。这进一步确认了当使用安慰剂变量时，模型不会得出虚假的因果效应。\n",
        "\n",
        "原假设（Null Hypothesis）\n",
        "在这个安慰剂检验中，p值对应的原假设是：**安慰剂变量不会导致显著的因果效应估计。**\n",
        "\n",
        "具体来说，原假设假定在将处理变量替换为安慰剂变量后，模型的因果效应估计值应为零，或至少不应显著偏离零。如果p值为1.0，这意味着没有证据表明安慰剂变量会导致显著的因果效应估计，这与预期一致。\n",
        "\n",
        "结论\n",
        "\n",
        "稳健性：这个输出表明，模型通过了安慰剂检验。安慰剂处理后的估计效应为0.0，p值为1.0，表明安慰剂变量未对模型产生任何虚假效应。这增强了对模型的信心，即实际的处理变量确实有影响，而这种影响不是由于模型中潜在的误差或噪声所引起的。\n",
        "\n"
      ],
      "metadata": {
        "id": "vgZLHVdj78j4"
      }
    },
    {
      "cell_type": "markdown",
      "source": [
        "# GCM (graphical causal model)"
      ],
      "metadata": {
        "id": "xvtEFalp7k30"
      }
    },
    {
      "cell_type": "code",
      "source": [
        "import networkx as nx\n",
        "from dowhy import gcm"
      ],
      "metadata": {
        "id": "mh0DECwryyRf"
      },
      "execution_count": 3,
      "outputs": []
    },
    {
      "cell_type": "code",
      "source": [
        "SAMPLE_SIZE = 1000\n",
        "\n",
        "S = np.random.random(SAMPLE_SIZE)\n",
        "Q = 0.2*S + 0.67*np.random.random(SAMPLE_SIZE)\n",
        "X = 0.14*Q + 0.4*np.random.random(SAMPLE_SIZE)\n",
        "Y = 0.7*X + 0.11*Q + 0.32*S + 0.24*np.random.random(SAMPLE_SIZE)\n",
        "P = 0.43*X + 0.21*Y + 0.22*np.random.random(SAMPLE_SIZE)\n",
        "\n",
        "# Encode as a pandas df\n",
        "df = pd.DataFrame(np.vstack([S, Q, X, Y, P]).T, columns=['S', 'Q', 'X', 'Y', 'P'])"
      ],
      "metadata": {
        "id": "FA_9wlDwzQeK"
      },
      "execution_count": 6,
      "outputs": []
    },
    {
      "cell_type": "code",
      "source": [
        "edges = ['SQ', 'SY', 'QX', 'QY', 'XP', 'YP', 'XY']\n",
        "graph_nx = nx.DiGraph([(edge[0], edge[1]) for edge in edges])"
      ],
      "metadata": {
        "id": "hTXIPUOdyyBy"
      },
      "execution_count": 7,
      "outputs": []
    },
    {
      "cell_type": "code",
      "source": [
        "nx.draw(\n",
        "    graph_nx,\n",
        "    with_labels=True,\n",
        "    node_size=900,\n",
        "    font_color='white',\n",
        "    node_color=COLORS[0]\n",
        ")"
      ],
      "metadata": {
        "colab": {
          "base_uri": "https://localhost:8080/",
          "height": 516
        },
        "id": "lUiYfjEBztCU",
        "outputId": "b2f15775-dfee-48f6-adab-6fc328e9b29e"
      },
      "execution_count": 10,
      "outputs": [
        {
          "output_type": "display_data",
          "data": {
            "text/plain": [
              "<Figure size 640x480 with 1 Axes>"
            ],
            "image/png": "[encoded data removed]"
          },
          "metadata": {}
        }
      ]
    },
    {
      "cell_type": "markdown",
      "source": [
        "**gcm.InvertibleStructuralCausalModel**：改模型允许我们在不需要手动指定所有噪声变量的情况下生成反事实样本。这种模型假设存在一个可逆的函数,将外生噪声变量映射到观察到的变量\n",
        "- 允许从观察数据中推断噪声变量。\n",
        "- 能够生成反事实样本,无需手动指定所有噪声变量。\n",
        "- 支持各种因果推断任务,如计算平均处理效应、条件平均处理效应等\n",
        "\n"
      ],
      "metadata": {
        "id": "XURhBIE32usL"
      }
    },
    {
      "cell_type": "code",
      "source": [
        "# This is the invertible SCM, since this is the only model that allows us to generate counterfactuals without manually providing values for all noise variables.\n",
        "causal_model = gcm.InvertibleStructuralCausalModel(graph_nx)"
      ],
      "metadata": {
        "id": "W3jTcDahzyG7"
      },
      "execution_count": 11,
      "outputs": []
    },
    {
      "cell_type": "markdown",
      "source": [
        "1. 对于S变量:\n",
        "   - S被设置为使用经验分布(Empirical Distribution)。\n",
        "   - 原因: S是模型中唯一没有父节点的内生变量。\n",
        "   - 经验分布的作用: 它直接从观察到的数据中估计S的分布,而不假设任何特定的参数分布形式。\n",
        "   - 这种方法适用于我们不知道或不想假设S的具体生成机制的情况。\n",
        "\n",
        "2. 对于其他变量(X, Y, P, Q):\n",
        "\n",
        "   所有这些变量都使用了加性噪声模型(Additive Noise Model, ANM)和线性回归。\n",
        "\n",
        "   - 加性噪声模型:\n",
        "     - 形式: Y = f(X) + ε，其中f是一个确定性函数,ε是独立于X的噪声。\n",
        "     - 这个模型假设因果关系可以被分解为一个确定性部分和一个随机噪声部分。\n",
        "   \n",
        "   - 线性回归:\n",
        "     - 使用`gcm.ml.create_linear_regressor()`创建线性回归器。\n",
        "     - 这表明我们假设变量之间的关系是线性的。\n",
        "     - 例如,对于Y,可能的形式是: Y = β0 + β1X1 + β2X2 + ... + ε\n",
        "\n",
        "   - 这种设置的优点:\n",
        "     1. 简单性: 线性模型易于理解和解释。\n",
        "     2. 计算效率: 线性模型的参数估计通常很快。\n",
        "     3. 适用性: 在许多实际问题中,线性近似常常是一个好的起点。\n",
        "\n",
        "   - 潜在的局限性:\n",
        "     1. 可能无法捕捉复杂的非线性关系。\n",
        "     2. 如果实际关系严重偏离线性,可能导致错误的因果推断。\n",
        "\n",
        "3. 整体考虑:\n",
        "   - 这种设置反映了对模型结构的假设: S是外生的,而其他变量是由它们的父节点以及一些随机噪声决定的。\n",
        "   - 使用相同的机制(ANM + 线性回归)对所有内生变量简化了模型,但也可能是一个强假设。\n",
        "   - 在实际应用中,可能需要根据领域知识或数据特征来调整这些假设。"
      ],
      "metadata": {
        "id": "tqY8TORO3s1h"
      }
    },
    {
      "cell_type": "code",
      "source": [
        "# use gcm.EmpiricalDistribution() for S because it’s the only variable that does not have parents among endogenous variables\n",
        "causal_model.set_causal_mechanism('S', gcm.EmpiricalDistribution())\n",
        "\n",
        "# For all other variables, we set the causal mechanism to an additive causal model and use linear regression to model it.\n",
        "causal_model.set_causal_mechanism('X', gcm.AdditiveNoiseModel(gcm.ml.create_linear_regressor()))\n",
        "causal_model.set_causal_mechanism('Y', gcm.AdditiveNoiseModel(gcm.ml.create_linear_regressor()))\n",
        "causal_model.set_causal_mechanism('P', gcm.AdditiveNoiseModel(gcm.ml.create_linear_regressor()))\n",
        "causal_model.set_causal_mechanism('Q', gcm.AdditiveNoiseModel(gcm.ml.create_linear_regressor()))\n",
        "\n",
        "gcm.fit(causal_model, df)"
      ],
      "metadata": {
        "colab": {
          "base_uri": "https://localhost:8080/"
        },
        "id": "MqvUYbqK0IZP",
        "outputId": "7a3ebc90-3db6-4414-f1cb-02107c11b1cb"
      },
      "execution_count": 12,
      "outputs": [
        {
          "output_type": "stream",
          "name": "stderr",
          "text": [
            "Fitting causal mechanism of node P: 100%|██████████| 5/5 [00:00<00:00, 58.24it/s]\n"
          ]
        }
      ]
    },
    {
      "cell_type": "code",
      "source": [
        "gcm.arrow_strength(causal_model, 'Y')"
      ],
      "metadata": {
        "colab": {
          "base_uri": "https://localhost:8080/"
        },
        "id": "HpGTgGTc0Kbu",
        "outputId": "b9b6eb06-f44f-4089-f6b0-be671e479d40"
      },
      "execution_count": 13,
      "outputs": [
        {
          "output_type": "execute_result",
          "data": {
            "text/plain": [
              "{('Q', 'Y'): 0.0004796578464635075,\n",
              " ('S', 'Y'): 0.00866550633396674,\n",
              " ('X', 'Y'): 0.006952513701625396}"
            ]
          },
          "metadata": {},
          "execution_count": 13
        }
      ]
    },
    {
      "cell_type": "markdown",
      "source": [
        "输出显示了指向Y的各个边的因果强度。从结果可以看出:\n",
        "\n",
        "- S对Y的影响最大 (0.00867)\n",
        "- 其次是X对Y的影响 (0.00695)\n",
        "- Q对Y的影响最小 (0.00048)\n",
        "\n",
        "这表明在影响Y的因素中,S是最重要的,其次是X,而Q的影响相对较小。\n",
        "\n",
        "\n",
        "基于改结果我们可以在后续进行的操作：\n",
        "- 变量重要性：帮助识别哪些变量对 Y 有最直接和强烈的影响。\n",
        "- 干预策略：如果目标是改变 Y，这些结果建议首先考虑改变 S，其次是 X。\n",
        "- 模型简化：在复杂模型中，可以考虑移除 Q → Y 这条边，因为其影响很小。\n",
        "- 进一步研究方向：可能需要更深入地研究 S 和 Y 之间的关系。\n",
        "- 预测和控制：在预测或控制 Y 时，应该更多地关注 S 和 X 的变化。"
      ],
      "metadata": {
        "id": "ePHJwxOg28Sb"
      }
    },
    {
      "cell_type": "code",
      "source": [
        "# 这一步生成了反事实样本。它假设X的值被设置为0.21,然后预测其他变量的值会如何变化。\n",
        "gcm.counterfactual_samples(\n",
        "    causal_model,\n",
        "    {'X': lambda x: .21},\n",
        "    observed_data=pd.DataFrame(data=dict(X=[.5], Y=[.75], S=[.5], Q=[.4], P=[.34])))"
      ],
      "metadata": {
        "colab": {
          "base_uri": "https://localhost:8080/",
          "height": 81
        },
        "id": "3DPyKupH0L5U",
        "outputId": "4d238483-4399-4daf-cc7d-5acd255a8dd7"
      },
      "execution_count": 15,
      "outputs": [
        {
          "output_type": "execute_result",
          "data": {
            "text/plain": [
              "     S    Q     X         Y         P\n",
              "0  0.5  0.4  0.21  0.549934  0.185891"
            ],
            "text/html": [
              "\n",
              "  <div id=\"df-e72a8336-72e5-425a-8fc9-0116d721affd\" class=\"colab-df-container\">\n",
              "    <div>\n",
              "<style scoped>\n",
              "    .dataframe tbody tr th:only-of-type {\n",
              "        vertical-align: middle;\n",
              "    }\n",
              "\n",
              "    .dataframe tbody tr th {\n",
              "        vertical-align: top;\n",
              "    }\n",
              "\n",
              "    .dataframe thead th {\n",
              "        text-align: right;\n",
              "    }\n",
              "</style>\n",
              "<table border=\"1\" class=\"dataframe\">\n",
              "  <thead>\n",
              "    <tr style=\"text-align: right;\">\n",
              "      <th></th>\n",
              "      <th>S</th>\n",
              "      <th>Q</th>\n",
              "      <th>X</th>\n",
              "      <th>Y</th>\n",
              "      <th>P</th>\n",
              "    </tr>\n",
              "  </thead>\n",
              "  <tbody>\n",
              "    <tr>\n",
              "      <th>0</th>\n",
              "      <td>0.5</td>\n",
              "      <td>0.4</td>\n",
              "      <td>0.21</td>\n",
              "      <td>0.549934</td>\n",
              "      <td>0.185891</td>\n",
              "    </tr>\n",
              "  </tbody>\n",
              "</table>\n",
              "</div>\n",
              "    <div class=\"colab-df-buttons\">\n",
              "\n",
              "  <div class=\"colab-df-container\">\n",
              "    <button class=\"colab-df-convert\" onclick=\"convertToInteractive('df-e72a8336-72e5-425a-8fc9-0116d721affd')\"\n",
              "            title=\"Convert this dataframe to an interactive table.\"\n",
              "            style=\"display:none;\">\n",
              "\n",
              "  <svg xmlns=\"http://www.w3.org/2000/svg\" height=\"24px\" viewBox=\"0 -960 960 960\">\n",
              "    <path d=\"M120-120v-720h720v720H120Zm60-500h600v-160H180v160Zm220 220h160v-160H400v160Zm0 220h160v-160H400v160ZM180-400h160v-160H180v160Zm440 0h160v-160H620v160ZM180-180h160v-160H180v160Zm440 0h160v-160H620v160Z\"/>\n",
              "  </svg>\n",
              "    </button>\n",
              "\n",
              "  <style>\n",
              "    .colab-df-container {\n",
              "      display:flex;\n",
              "      gap: 12px;\n",
              "    }\n",
              "\n",
              "    .colab-df-convert {\n",
              "      background-color: #E8F0FE;\n",
              "      border: none;\n",
              "      border-radius: 50%;\n",
              "      cursor: pointer;\n",
              "      display: none;\n",
              "      fill: #1967D2;\n",
              "      height: 32px;\n",
              "      padding: 0 0 0 0;\n",
              "      width: 32px;\n",
              "    }\n",
              "\n",
              "    .colab-df-convert:hover {\n",
              "      background-color: #E2EBFA;\n",
              "      box-shadow: 0px 1px 2px rgba(60, 64, 67, 0.3), 0px 1px 3px 1px rgba(60, 64, 67, 0.15);\n",
              "      fill: #174EA6;\n",
              "    }\n",
              "\n",
              "    .colab-df-buttons div {\n",
              "      margin-bottom: 4px;\n",
              "    }\n",
              "\n",
              "    [theme=dark] .colab-df-convert {\n",
              "      background-color: #3B4455;\n",
              "      fill: #D2E3FC;\n",
              "    }\n",
              "\n",
              "    [theme=dark] .colab-df-convert:hover {\n",
              "      background-color: #434B5C;\n",
              "      box-shadow: 0px 1px 3px 1px rgba(0, 0, 0, 0.15);\n",
              "      filter: drop-shadow(0px 1px 2px rgba(0, 0, 0, 0.3));\n",
              "      fill: #FFFFFF;\n",
              "    }\n",
              "  </style>\n",
              "\n",
              "    <script>\n",
              "      const buttonEl =\n",
              "        document.querySelector('#df-e72a8336-72e5-425a-8fc9-0116d721affd button.colab-df-convert');\n",
              "      buttonEl.style.display =\n",
              "        google.colab.kernel.accessAllowed ? 'block' : 'none';\n",
              "\n",
              "      async function convertToInteractive(key) {\n",
              "        const element = document.querySelector('#df-e72a8336-72e5-425a-8fc9-0116d721affd');\n",
              "        const dataTable =\n",
              "          await google.colab.kernel.invokeFunction('convertToInteractive',\n",
              "                                                    [key], {});\n",
              "        if (!dataTable) return;\n",
              "\n",
              "        const docLinkHtml = 'Like what you see? Visit the ' +\n",
              "          '<a target=\"_blank\" href=https://colab.research.google.com/notebooks/data_table.ipynb>data table notebook</a>'\n",
              "          + ' to learn more about interactive tables.';\n",
              "        element.innerHTML = '';\n",
              "        dataTable['output_type'] = 'display_data';\n",
              "        await google.colab.output.renderOutput(dataTable, element);\n",
              "        const docLink = document.createElement('div');\n",
              "        docLink.innerHTML = docLinkHtml;\n",
              "        element.appendChild(docLink);\n",
              "      }\n",
              "    </script>\n",
              "  </div>\n",
              "\n",
              "\n",
              "    </div>\n",
              "  </div>\n"
            ],
            "application/vnd.google.colaboratory.intrinsic+json": {
              "type": "dataframe",
              "summary": "{\n  \"name\": \"    observed_data=pd\",\n  \"rows\": 1,\n  \"fields\": [\n    {\n      \"column\": \"S\",\n      \"properties\": {\n        \"dtype\": \"number\",\n        \"std\": null,\n        \"min\": 0.5,\n        \"max\": 0.5,\n        \"num_unique_values\": 1,\n        \"samples\": [\n          0.5\n        ],\n        \"semantic_type\": \"\",\n        \"description\": \"\"\n      }\n    },\n    {\n      \"column\": \"Q\",\n      \"properties\": {\n        \"dtype\": \"number\",\n        \"std\": null,\n        \"min\": 0.4,\n        \"max\": 0.4,\n        \"num_unique_values\": 1,\n        \"samples\": [\n          0.4\n        ],\n        \"semantic_type\": \"\",\n        \"description\": \"\"\n      }\n    },\n    {\n      \"column\": \"X\",\n      \"properties\": {\n        \"dtype\": \"number\",\n        \"std\": null,\n        \"min\": 0.21,\n        \"max\": 0.21,\n        \"num_unique_values\": 1,\n        \"samples\": [\n          0.21\n        ],\n        \"semantic_type\": \"\",\n        \"description\": \"\"\n      }\n    },\n    {\n      \"column\": \"Y\",\n      \"properties\": {\n        \"dtype\": \"number\",\n        \"std\": null,\n        \"min\": 0.5499338040282866,\n        \"max\": 0.5499338040282866,\n        \"num_unique_values\": 1,\n        \"samples\": [\n          0.5499338040282866\n        ],\n        \"semantic_type\": \"\",\n        \"description\": \"\"\n      }\n    },\n    {\n      \"column\": \"P\",\n      \"properties\": {\n        \"dtype\": \"number\",\n        \"std\": null,\n        \"min\": 0.18589090261159819,\n        \"max\": 0.18589090261159819,\n        \"num_unique_values\": 1,\n        \"samples\": [\n          0.18589090261159819\n        ],\n        \"semantic_type\": \"\",\n        \"description\": \"\"\n      }\n    }\n  ]\n}"
            }
          },
          "metadata": {},
          "execution_count": 15
        }
      ]
    },
    {
      "cell_type": "markdown",
      "source": [
        "1. 数据来源：\n",
        "   - `observed_data` 中的字典是手动设置的一个观察样本。\n",
        "   - 这不是基于之前生成的数据，而是一个假设的观察点。\n",
        "   - 在实际应用中，这通常会是从真实数据集中选择的一个具体观察样本。\n",
        "\n",
        "2. 反事实设置：\n",
        "   - `{'X': lambda x: .21}` 定义了反事实干预：将 X 的值设置为 0.21。\n",
        "   - 原始观察中 X 的值是 0.5，反事实将其改变为 0.21。\n",
        "\n",
        "3. 生成的结果：\n",
        "\n",
        "- S 和 Q 保持不变（0.5 和 0.4）\n",
        "- X 被设置为 0.21（从 0.5 变化-这是我们做的干预）\n",
        "- Y 变为约 0.55（从 0.75 变化）\n",
        "- P 变为约 0.19（从 0.34 变化）\n",
        "\n",
        "实际意义和操作：\n",
        "\n",
        "1. 因果效应估计：这允许我们估计将 X 从 0.5 改变到 0.21 对 Y 和 P 的影响。\n",
        "\n",
        "2. 政策评估：如果 X 代表一个可控制的变量（如政策强度），这个结果可以帮助预测政策改变的效果。\n",
        "\n",
        "3. 预测：帮助理解在特定情况下改变一个变量会如何影响其他变量。\n",
        "\n",
        "4. 假设检验：可以用来检验我们对系统行为的假设。\n",
        "\n",
        "5. 个性化决策：在医疗、教育等领域，可以用来评估对特定个体采取某种干预的潜在效果。\n",
        "\n",
        "6. 模型验证：通过比较反事实预测与实际观察，可以帮助验证因果模型的准确性。\n",
        "\n",
        "7. 敏感性分析：通过改变干预的强度（例如，将 X 设置为不同的值），可以分析系统对不同程度干预的敏感性。\n",
        "\n",
        "注意：这个例子中只生成了一个反事实样本。在实际应用中，通常会生成多个样本以获得更稳健的估计和置信区间。"
      ],
      "metadata": {
        "id": "26AssxIZ5z-L"
      }
    },
    {
      "cell_type": "markdown",
      "source": [
        "将 X 设置为 0.21（从原始的 0.5 变化）是一个人为设定的干预。这种做法有几个重要的原因和意义：\n",
        "\n",
        "1. 模拟干预：\n",
        "   - 这模拟了我们在现实世界中可能采取的一个行动或政策变化。\n",
        "   - 例如，如果 X 代表某种治疗的剂量，这相当于我们将剂量从 0.5 单位减少到 0.21 单位。\n",
        "\n",
        "2. 反事实推理：\n",
        "   - 这允许我们回答\"如果\"类型的问题：如果我们将 X 改变为 0.21，会发生什么？\n",
        "   - 这是因果推断的核心，允许我们超越纯粹的观察数据，探索潜在的因果关系。\n",
        "\n",
        "3. 估计因果效应：\n",
        "   - 通过比较干预前后的结果，我们可以估计 X 对其他变量（如 Y 和 P）的因果效应。\n",
        "   - 这有助于我们理解系统中的因果机制。\n",
        "\n",
        "4. 政策评估：\n",
        "   - 在决策制定中，这种分析可以帮助预测政策改变的潜在影响。\n",
        "   - 例如，如果 X 代表税率，这可以帮助评估降低税率的潜在经济影响。\n",
        "\n",
        "5. 探索非线性关系：\n",
        "   - 通过选择不同的干预值（如从 0.5 到 0.21），我们可以探索变量间可能存在的非线性关系。\n",
        "   - 这对于理解复杂系统中的动态很重要。\n",
        "\n",
        "6. 验证模型：\n",
        "   - 如果我们有关于实际干预结果的数据，这种模拟可以用来验证我们的因果模型的准确性。\n",
        "\n",
        "7. 敏感性分析：\n",
        "   - 通过尝试不同的干预值，我们可以分析系统对不同程度变化的敏感性。\n",
        "   - 这有助于理解系统的稳定性和弹性。\n",
        "\n",
        "8. 个性化预测：\n",
        "   - 在医疗或教育等领域，这种分析可以用于预测特定干预对个体的潜在影响。\n",
        "\n",
        "9. 伦理考虑：\n",
        "   - 在某些情况下，实际进行干预可能不道德或不可行。反事实分析提供了一种安全的替代方法。\n",
        "\n",
        "10. 假设检验：\n",
        "    - 这允许我们检验关于系统行为的假设，而无需实际改变系统。\n",
        "\n",
        "在这个特定的例子中，选择 0.21 这个值可能是为了展示一个显著的变化（从 0.5 减少到 0.21，大约减少了 58%）。在实际应用中，干预的值通常基于具体的研究问题、领域知识或实际可行的干预范围来选择。"
      ],
      "metadata": {
        "id": "E5mAVWpy3JpM"
      }
    }
  ]
}