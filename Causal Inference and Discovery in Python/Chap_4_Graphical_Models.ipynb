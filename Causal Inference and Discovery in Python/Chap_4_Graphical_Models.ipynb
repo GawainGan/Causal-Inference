{
  "nbformat": 4,
  "nbformat_minor": 0,
  "metadata": {
    "colab": {
      "provenance": [],
      "machine_shape": "hm",
      "gpuType": "A100",
      "collapsed_sections": [
        "yw8iol-13vtb",
        "2eFp2H_n3z25"
      ],
      "authorship_tag": "ABX9TyNKopEMzIV+i+uMdoBrAyyU",
      "include_colab_link": true
    },
    "kernelspec": {
      "name": "python3",
      "display_name": "Python 3"
    },
    "language_info": {
      "name": "python"
    },
    "accelerator": "GPU",
    "widgets": {
      "application/vnd.jupyter.widget-state+json": {
        "a309030ddd594792a11d2c458285afe7": {
          "model_module": "@jupyter-widgets/controls",
          "model_name": "HBoxModel",
          "model_module_version": "1.5.0",
          "state": {
            "_dom_classes": [],
            "_model_module": "@jupyter-widgets/controls",
            "_model_module_version": "1.5.0",
            "_model_name": "HBoxModel",
            "_view_count": null,
            "_view_module": "@jupyter-widgets/controls",
            "_view_module_version": "1.5.0",
            "_view_name": "HBoxView",
            "box_style": "",
            "children": [
              "IPY_MODEL_06ad77c3774d404c8e3643fdb946b977",
              "IPY_MODEL_576d6637a4ee4cdc8a565a0fb1c6389e",
              "IPY_MODEL_d97bfe2c756644ce8de2e325966270d2"
            ],
            "layout": "IPY_MODEL_252977e20f31487e818426f2a229ddb7"
          }
        },
        "06ad77c3774d404c8e3643fdb946b977": {
          "model_module": "@jupyter-widgets/controls",
          "model_name": "HTMLModel",
          "model_module_version": "1.5.0",
          "state": {
            "_dom_classes": [],
            "_model_module": "@jupyter-widgets/controls",
            "_model_module_version": "1.5.0",
            "_model_name": "HTMLModel",
            "_view_count": null,
            "_view_module": "@jupyter-widgets/controls",
            "_view_module_version": "1.5.0",
            "_view_name": "HTMLView",
            "description": "",
            "description_tooltip": null,
            "layout": "IPY_MODEL_9d5a59cad20b457a86cf5315458c5781",
            "placeholder": "​",
            "style": "IPY_MODEL_7f6d8dd193d2462cbfcd99d3eee11138",
            "value": "Depth=0, working on node 2: 100%"
          }
        },
        "576d6637a4ee4cdc8a565a0fb1c6389e": {
          "model_module": "@jupyter-widgets/controls",
          "model_name": "FloatProgressModel",
          "model_module_version": "1.5.0",
          "state": {
            "_dom_classes": [],
            "_model_module": "@jupyter-widgets/controls",
            "_model_module_version": "1.5.0",
            "_model_name": "FloatProgressModel",
            "_view_count": null,
            "_view_module": "@jupyter-widgets/controls",
            "_view_module_version": "1.5.0",
            "_view_name": "ProgressView",
            "bar_style": "success",
            "description": "",
            "description_tooltip": null,
            "layout": "IPY_MODEL_7a4265da34ec4448a1e8f5f28fe913bd",
            "max": 3,
            "min": 0,
            "orientation": "horizontal",
            "style": "IPY_MODEL_01f6b7309e4349c8bda02d52ef63fca7",
            "value": 3
          }
        },
        "d97bfe2c756644ce8de2e325966270d2": {
          "model_module": "@jupyter-widgets/controls",
          "model_name": "HTMLModel",
          "model_module_version": "1.5.0",
          "state": {
            "_dom_classes": [],
            "_model_module": "@jupyter-widgets/controls",
            "_model_module_version": "1.5.0",
            "_model_name": "HTMLModel",
            "_view_count": null,
            "_view_module": "@jupyter-widgets/controls",
            "_view_module_version": "1.5.0",
            "_view_name": "HTMLView",
            "description": "",
            "description_tooltip": null,
            "layout": "IPY_MODEL_282e31b181f24164924d312aeaec8c00",
            "placeholder": "​",
            "style": "IPY_MODEL_a0247d5cff29428186f5d9ed40ff853d",
            "value": " 3/3 [00:00&lt;00:00, 167.20it/s]"
          }
        },
        "252977e20f31487e818426f2a229ddb7": {
          "model_module": "@jupyter-widgets/base",
          "model_name": "LayoutModel",
          "model_module_version": "1.2.0",
          "state": {
            "_model_module": "@jupyter-widgets/base",
            "_model_module_version": "1.2.0",
            "_model_name": "LayoutModel",
            "_view_count": null,
            "_view_module": "@jupyter-widgets/base",
            "_view_module_version": "1.2.0",
            "_view_name": "LayoutView",
            "align_content": null,
            "align_items": null,
            "align_self": null,
            "border": null,
            "bottom": null,
            "display": null,
            "flex": null,
            "flex_flow": null,
            "grid_area": null,
            "grid_auto_columns": null,
            "grid_auto_flow": null,
            "grid_auto_rows": null,
            "grid_column": null,
            "grid_gap": null,
            "grid_row": null,
            "grid_template_areas": null,
            "grid_template_columns": null,
            "grid_template_rows": null,
            "height": null,
            "justify_content": null,
            "justify_items": null,
            "left": null,
            "margin": null,
            "max_height": null,
            "max_width": null,
            "min_height": null,
            "min_width": null,
            "object_fit": null,
            "object_position": null,
            "order": null,
            "overflow": null,
            "overflow_x": null,
            "overflow_y": null,
            "padding": null,
            "right": null,
            "top": null,
            "visibility": null,
            "width": null
          }
        },
        "9d5a59cad20b457a86cf5315458c5781": {
          "model_module": "@jupyter-widgets/base",
          "model_name": "LayoutModel",
          "model_module_version": "1.2.0",
          "state": {
            "_model_module": "@jupyter-widgets/base",
            "_model_module_version": "1.2.0",
            "_model_name": "LayoutModel",
            "_view_count": null,
            "_view_module": "@jupyter-widgets/base",
            "_view_module_version": "1.2.0",
            "_view_name": "LayoutView",
            "align_content": null,
            "align_items": null,
            "align_self": null,
            "border": null,
            "bottom": null,
            "display": null,
            "flex": null,
            "flex_flow": null,
            "grid_area": null,
            "grid_auto_columns": null,
            "grid_auto_flow": null,
            "grid_auto_rows": null,
            "grid_column": null,
            "grid_gap": null,
            "grid_row": null,
            "grid_template_areas": null,
            "grid_template_columns": null,
            "grid_template_rows": null,
            "height": null,
            "justify_content": null,
            "justify_items": null,
            "left": null,
            "margin": null,
            "max_height": null,
            "max_width": null,
            "min_height": null,
            "min_width": null,
            "object_fit": null,
            "object_position": null,
            "order": null,
            "overflow": null,
            "overflow_x": null,
            "overflow_y": null,
            "padding": null,
            "right": null,
            "top": null,
            "visibility": null,
            "width": null
          }
        },
        "7f6d8dd193d2462cbfcd99d3eee11138": {
          "model_module": "@jupyter-widgets/controls",
          "model_name": "DescriptionStyleModel",
          "model_module_version": "1.5.0",
          "state": {
            "_model_module": "@jupyter-widgets/controls",
            "_model_module_version": "1.5.0",
            "_model_name": "DescriptionStyleModel",
            "_view_count": null,
            "_view_module": "@jupyter-widgets/base",
            "_view_module_version": "1.2.0",
            "_view_name": "StyleView",
            "description_width": ""
          }
        },
        "7a4265da34ec4448a1e8f5f28fe913bd": {
          "model_module": "@jupyter-widgets/base",
          "model_name": "LayoutModel",
          "model_module_version": "1.2.0",
          "state": {
            "_model_module": "@jupyter-widgets/base",
            "_model_module_version": "1.2.0",
            "_model_name": "LayoutModel",
            "_view_count": null,
            "_view_module": "@jupyter-widgets/base",
            "_view_module_version": "1.2.0",
            "_view_name": "LayoutView",
            "align_content": null,
            "align_items": null,
            "align_self": null,
            "border": null,
            "bottom": null,
            "display": null,
            "flex": null,
            "flex_flow": null,
            "grid_area": null,
            "grid_auto_columns": null,
            "grid_auto_flow": null,
            "grid_auto_rows": null,
            "grid_column": null,
            "grid_gap": null,
            "grid_row": null,
            "grid_template_areas": null,
            "grid_template_columns": null,
            "grid_template_rows": null,
            "height": null,
            "justify_content": null,
            "justify_items": null,
            "left": null,
            "margin": null,
            "max_height": null,
            "max_width": null,
            "min_height": null,
            "min_width": null,
            "object_fit": null,
            "object_position": null,
            "order": null,
            "overflow": null,
            "overflow_x": null,
            "overflow_y": null,
            "padding": null,
            "right": null,
            "top": null,
            "visibility": null,
            "width": null
          }
        },
        "01f6b7309e4349c8bda02d52ef63fca7": {
          "model_module": "@jupyter-widgets/controls",
          "model_name": "ProgressStyleModel",
          "model_module_version": "1.5.0",
          "state": {
            "_model_module": "@jupyter-widgets/controls",
            "_model_module_version": "1.5.0",
            "_model_name": "ProgressStyleModel",
            "_view_count": null,
            "_view_module": "@jupyter-widgets/base",
            "_view_module_version": "1.2.0",
            "_view_name": "StyleView",
            "bar_color": null,
            "description_width": ""
          }
        },
        "282e31b181f24164924d312aeaec8c00": {
          "model_module": "@jupyter-widgets/base",
          "model_name": "LayoutModel",
          "model_module_version": "1.2.0",
          "state": {
            "_model_module": "@jupyter-widgets/base",
            "_model_module_version": "1.2.0",
            "_model_name": "LayoutModel",
            "_view_count": null,
            "_view_module": "@jupyter-widgets/base",
            "_view_module_version": "1.2.0",
            "_view_name": "LayoutView",
            "align_content": null,
            "align_items": null,
            "align_self": null,
            "border": null,
            "bottom": null,
            "display": null,
            "flex": null,
            "flex_flow": null,
            "grid_area": null,
            "grid_auto_columns": null,
            "grid_auto_flow": null,
            "grid_auto_rows": null,
            "grid_column": null,
            "grid_gap": null,
            "grid_row": null,
            "grid_template_areas": null,
            "grid_template_columns": null,
            "grid_template_rows": null,
            "height": null,
            "justify_content": null,
            "justify_items": null,
            "left": null,
            "margin": null,
            "max_height": null,
            "max_width": null,
            "min_height": null,
            "min_width": null,
            "object_fit": null,
            "object_position": null,
            "order": null,
            "overflow": null,
            "overflow_x": null,
            "overflow_y": null,
            "padding": null,
            "right": null,
            "top": null,
            "visibility": null,
            "width": null
          }
        },
        "a0247d5cff29428186f5d9ed40ff853d": {
          "model_module": "@jupyter-widgets/controls",
          "model_name": "DescriptionStyleModel",
          "model_module_version": "1.5.0",
          "state": {
            "_model_module": "@jupyter-widgets/controls",
            "_model_module_version": "1.5.0",
            "_model_name": "DescriptionStyleModel",
            "_view_count": null,
            "_view_module": "@jupyter-widgets/base",
            "_view_module_version": "1.2.0",
            "_view_name": "StyleView",
            "description_width": ""
          }
        },
        "3c8348b2bacd4786bbb273fc628594f2": {
          "model_module": "@jupyter-widgets/controls",
          "model_name": "HBoxModel",
          "model_module_version": "1.5.0",
          "state": {
            "_dom_classes": [],
            "_model_module": "@jupyter-widgets/controls",
            "_model_module_version": "1.5.0",
            "_model_name": "HBoxModel",
            "_view_count": null,
            "_view_module": "@jupyter-widgets/controls",
            "_view_module_version": "1.5.0",
            "_view_name": "HBoxView",
            "box_style": "",
            "children": [
              "IPY_MODEL_883329538d704366a0485d7b8278c8ed",
              "IPY_MODEL_0ec0396551504b0a8bfcf79bf281d5e0",
              "IPY_MODEL_d77eb06ba5304eb1a084e5b0f7c0f857"
            ],
            "layout": "IPY_MODEL_92ad5b57db614633892a70ff49004d8f"
          }
        },
        "883329538d704366a0485d7b8278c8ed": {
          "model_module": "@jupyter-widgets/controls",
          "model_name": "HTMLModel",
          "model_module_version": "1.5.0",
          "state": {
            "_dom_classes": [],
            "_model_module": "@jupyter-widgets/controls",
            "_model_module_version": "1.5.0",
            "_model_name": "HTMLModel",
            "_view_count": null,
            "_view_module": "@jupyter-widgets/controls",
            "_view_module_version": "1.5.0",
            "_view_name": "HTMLView",
            "description": "",
            "description_tooltip": null,
            "layout": "IPY_MODEL_d675febb844f4c16ab18d9d94c2af07a",
            "placeholder": "​",
            "style": "IPY_MODEL_9f07c014578d4a26899a41485911fb1e",
            "value": "Depth=1, working on node 2: 100%"
          }
        },
        "0ec0396551504b0a8bfcf79bf281d5e0": {
          "model_module": "@jupyter-widgets/controls",
          "model_name": "FloatProgressModel",
          "model_module_version": "1.5.0",
          "state": {
            "_dom_classes": [],
            "_model_module": "@jupyter-widgets/controls",
            "_model_module_version": "1.5.0",
            "_model_name": "FloatProgressModel",
            "_view_count": null,
            "_view_module": "@jupyter-widgets/controls",
            "_view_module_version": "1.5.0",
            "_view_name": "ProgressView",
            "bar_style": "success",
            "description": "",
            "description_tooltip": null,
            "layout": "IPY_MODEL_4411cbefadc04711ad025fdcf26b3cc8",
            "max": 3,
            "min": 0,
            "orientation": "horizontal",
            "style": "IPY_MODEL_ece2f6e64f03421e8688d9a880d2907f",
            "value": 3
          }
        },
        "d77eb06ba5304eb1a084e5b0f7c0f857": {
          "model_module": "@jupyter-widgets/controls",
          "model_name": "HTMLModel",
          "model_module_version": "1.5.0",
          "state": {
            "_dom_classes": [],
            "_model_module": "@jupyter-widgets/controls",
            "_model_module_version": "1.5.0",
            "_model_name": "HTMLModel",
            "_view_count": null,
            "_view_module": "@jupyter-widgets/controls",
            "_view_module_version": "1.5.0",
            "_view_name": "HTMLView",
            "description": "",
            "description_tooltip": null,
            "layout": "IPY_MODEL_1db65b79310f4631921450eefd1cc980",
            "placeholder": "​",
            "style": "IPY_MODEL_12384446e6c546eabe90c727c33ef6ab",
            "value": " 3/3 [00:00&lt;00:00, 743.63it/s]"
          }
        },
        "92ad5b57db614633892a70ff49004d8f": {
          "model_module": "@jupyter-widgets/base",
          "model_name": "LayoutModel",
          "model_module_version": "1.2.0",
          "state": {
            "_model_module": "@jupyter-widgets/base",
            "_model_module_version": "1.2.0",
            "_model_name": "LayoutModel",
            "_view_count": null,
            "_view_module": "@jupyter-widgets/base",
            "_view_module_version": "1.2.0",
            "_view_name": "LayoutView",
            "align_content": null,
            "align_items": null,
            "align_self": null,
            "border": null,
            "bottom": null,
            "display": null,
            "flex": null,
            "flex_flow": null,
            "grid_area": null,
            "grid_auto_columns": null,
            "grid_auto_flow": null,
            "grid_auto_rows": null,
            "grid_column": null,
            "grid_gap": null,
            "grid_row": null,
            "grid_template_areas": null,
            "grid_template_columns": null,
            "grid_template_rows": null,
            "height": null,
            "justify_content": null,
            "justify_items": null,
            "left": null,
            "margin": null,
            "max_height": null,
            "max_width": null,
            "min_height": null,
            "min_width": null,
            "object_fit": null,
            "object_position": null,
            "order": null,
            "overflow": null,
            "overflow_x": null,
            "overflow_y": null,
            "padding": null,
            "right": null,
            "top": null,
            "visibility": null,
            "width": null
          }
        },
        "d675febb844f4c16ab18d9d94c2af07a": {
          "model_module": "@jupyter-widgets/base",
          "model_name": "LayoutModel",
          "model_module_version": "1.2.0",
          "state": {
            "_model_module": "@jupyter-widgets/base",
            "_model_module_version": "1.2.0",
            "_model_name": "LayoutModel",
            "_view_count": null,
            "_view_module": "@jupyter-widgets/base",
            "_view_module_version": "1.2.0",
            "_view_name": "LayoutView",
            "align_content": null,
            "align_items": null,
            "align_self": null,
            "border": null,
            "bottom": null,
            "display": null,
            "flex": null,
            "flex_flow": null,
            "grid_area": null,
            "grid_auto_columns": null,
            "grid_auto_flow": null,
            "grid_auto_rows": null,
            "grid_column": null,
            "grid_gap": null,
            "grid_row": null,
            "grid_template_areas": null,
            "grid_template_columns": null,
            "grid_template_rows": null,
            "height": null,
            "justify_content": null,
            "justify_items": null,
            "left": null,
            "margin": null,
            "max_height": null,
            "max_width": null,
            "min_height": null,
            "min_width": null,
            "object_fit": null,
            "object_position": null,
            "order": null,
            "overflow": null,
            "overflow_x": null,
            "overflow_y": null,
            "padding": null,
            "right": null,
            "top": null,
            "visibility": null,
            "width": null
          }
        },
        "9f07c014578d4a26899a41485911fb1e": {
          "model_module": "@jupyter-widgets/controls",
          "model_name": "DescriptionStyleModel",
          "model_module_version": "1.5.0",
          "state": {
            "_model_module": "@jupyter-widgets/controls",
            "_model_module_version": "1.5.0",
            "_model_name": "DescriptionStyleModel",
            "_view_count": null,
            "_view_module": "@jupyter-widgets/base",
            "_view_module_version": "1.2.0",
            "_view_name": "StyleView",
            "description_width": ""
          }
        },
        "4411cbefadc04711ad025fdcf26b3cc8": {
          "model_module": "@jupyter-widgets/base",
          "model_name": "LayoutModel",
          "model_module_version": "1.2.0",
          "state": {
            "_model_module": "@jupyter-widgets/base",
            "_model_module_version": "1.2.0",
            "_model_name": "LayoutModel",
            "_view_count": null,
            "_view_module": "@jupyter-widgets/base",
            "_view_module_version": "1.2.0",
            "_view_name": "LayoutView",
            "align_content": null,
            "align_items": null,
            "align_self": null,
            "border": null,
            "bottom": null,
            "display": null,
            "flex": null,
            "flex_flow": null,
            "grid_area": null,
            "grid_auto_columns": null,
            "grid_auto_flow": null,
            "grid_auto_rows": null,
            "grid_column": null,
            "grid_gap": null,
            "grid_row": null,
            "grid_template_areas": null,
            "grid_template_columns": null,
            "grid_template_rows": null,
            "height": null,
            "justify_content": null,
            "justify_items": null,
            "left": null,
            "margin": null,
            "max_height": null,
            "max_width": null,
            "min_height": null,
            "min_width": null,
            "object_fit": null,
            "object_position": null,
            "order": null,
            "overflow": null,
            "overflow_x": null,
            "overflow_y": null,
            "padding": null,
            "right": null,
            "top": null,
            "visibility": null,
            "width": null
          }
        },
        "ece2f6e64f03421e8688d9a880d2907f": {
          "model_module": "@jupyter-widgets/controls",
          "model_name": "ProgressStyleModel",
          "model_module_version": "1.5.0",
          "state": {
            "_model_module": "@jupyter-widgets/controls",
            "_model_module_version": "1.5.0",
            "_model_name": "ProgressStyleModel",
            "_view_count": null,
            "_view_module": "@jupyter-widgets/base",
            "_view_module_version": "1.2.0",
            "_view_name": "StyleView",
            "bar_color": null,
            "description_width": ""
          }
        },
        "1db65b79310f4631921450eefd1cc980": {
          "model_module": "@jupyter-widgets/base",
          "model_name": "LayoutModel",
          "model_module_version": "1.2.0",
          "state": {
            "_model_module": "@jupyter-widgets/base",
            "_model_module_version": "1.2.0",
            "_model_name": "LayoutModel",
            "_view_count": null,
            "_view_module": "@jupyter-widgets/base",
            "_view_module_version": "1.2.0",
            "_view_name": "LayoutView",
            "align_content": null,
            "align_items": null,
            "align_self": null,
            "border": null,
            "bottom": null,
            "display": null,
            "flex": null,
            "flex_flow": null,
            "grid_area": null,
            "grid_auto_columns": null,
            "grid_auto_flow": null,
            "grid_auto_rows": null,
            "grid_column": null,
            "grid_gap": null,
            "grid_row": null,
            "grid_template_areas": null,
            "grid_template_columns": null,
            "grid_template_rows": null,
            "height": null,
            "justify_content": null,
            "justify_items": null,
            "left": null,
            "margin": null,
            "max_height": null,
            "max_width": null,
            "min_height": null,
            "min_width": null,
            "object_fit": null,
            "object_position": null,
            "order": null,
            "overflow": null,
            "overflow_x": null,
            "overflow_y": null,
            "padding": null,
            "right": null,
            "top": null,
            "visibility": null,
            "width": null
          }
        },
        "12384446e6c546eabe90c727c33ef6ab": {
          "model_module": "@jupyter-widgets/controls",
          "model_name": "DescriptionStyleModel",
          "model_module_version": "1.5.0",
          "state": {
            "_model_module": "@jupyter-widgets/controls",
            "_model_module_version": "1.5.0",
            "_model_name": "DescriptionStyleModel",
            "_view_count": null,
            "_view_module": "@jupyter-widgets/base",
            "_view_module_version": "1.2.0",
            "_view_name": "StyleView",
            "description_width": ""
          }
        }
      }
    }
  },
  "cells": [
    {
      "cell_type": "markdown",
      "metadata": {
        "id": "view-in-github",
        "colab_type": "text"
      },
      "source": [
        "<a href=\"https://colab.research.google.com/github/GawainGan/Causal-Inference/blob/main/Causal%20Inference%20and%20Discovery%20in%20Python/Chap_4_Graphical_Models.ipynb\" target=\"_parent\"><img src=\"https://colab.research.google.com/assets/colab-badge.svg\" alt=\"Open In Colab\"/></a>"
      ]
    },
    {
      "cell_type": "code",
      "execution_count": 1,
      "metadata": {
        "id": "ni4sxKVXgyQj"
      },
      "outputs": [],
      "source": [
        "import numpy as np\n",
        "from scipy import stats\n",
        "\n",
        "import matplotlib.pyplot as plt\n",
        "plt.style.use('fivethirtyeight')\n",
        "\n",
        "import graphviz\n",
        "import networkx as nx\n",
        "import pydot"
      ]
    },
    {
      "cell_type": "markdown",
      "source": [
        "# 1. Graph in praphviz"
      ],
      "metadata": {
        "id": "yw8iol-13vtb"
      }
    },
    {
      "cell_type": "code",
      "source": [
        "nodes = ['A', 'B', 'C', 'D']"
      ],
      "metadata": {
        "id": "-Y8eZGaC3N1d"
      },
      "execution_count": 2,
      "outputs": []
    },
    {
      "cell_type": "code",
      "source": [
        "# Define graphs\n",
        "graphs = {\n",
        "\n",
        "    'DAG': {\n",
        "        'graph': graphviz.Digraph(format='png'),\n",
        "        'edges': ['AB', 'BC', 'AD', 'DC']\n",
        "    },\n",
        "\n",
        "    'DCG': {\n",
        "        'graph': graphviz.Digraph(format='png'),\n",
        "        'edges': ['AB', 'AD', 'BB', 'BC', 'DC', 'CA']\n",
        "    },\n",
        "\n",
        "    'Undirected': {\n",
        "        'graph': graphviz.Graph(format='png'),\n",
        "        'edges': ['AB', 'BC', 'AD', 'DC']\n",
        "    },\n",
        "\n",
        "    'Fully connected': {\n",
        "        'graph': graphviz.Graph(format='png'),\n",
        "        'edges': ['AB', 'AC', 'AD', 'BC', 'BD', 'CD']\n",
        "    },\n",
        "\n",
        "    'Partially connected': {\n",
        "        'graph': graphviz.Graph(format='png'),\n",
        "        'edges': ['AB', 'AC', 'BC']\n",
        "    }\n",
        "}\n",
        "\n",
        "\n",
        "# Iterate over graphs and render\n",
        "for name, graph in graphs.items():\n",
        "\n",
        "    [graph['graph'].node(n) for n in nodes]\n",
        "    graph['graph'].edges(graph['edges'])\n",
        "\n",
        "    graph['graph'].render(f'img/ch_04_graph_{name}')"
      ],
      "metadata": {
        "id": "cH1qiDdC3Oqn"
      },
      "execution_count": 3,
      "outputs": []
    },
    {
      "cell_type": "code",
      "source": [
        "graph = graphviz.Digraph(format='png')\n",
        "\n",
        "nodes = ['0', '1']\n",
        "\n",
        "edges = ['01']\n",
        "\n",
        "[graph.node(n) for n in nodes]\n",
        "graph.edges(edges)\n",
        "\n",
        "graph.render(f'directed_graph_1')\n",
        "\n",
        "graph"
      ],
      "metadata": {
        "colab": {
          "base_uri": "https://localhost:8080/",
          "height": 176
        },
        "id": "Z6ENTPbz3VyX",
        "outputId": "d0606922-57ce-40aa-8a81-4fe2f9f9ece6"
      },
      "execution_count": 4,
      "outputs": [
        {
          "output_type": "execute_result",
          "data": {
            "image/svg+xml": "<?xml version=\"1.0\" encoding=\"UTF-8\" standalone=\"no\"?>\n<!DOCTYPE svg PUBLIC \"-//W3C//DTD SVG 1.1//EN\"\n \"http://www.w3.org/Graphics/SVG/1.1/DTD/svg11.dtd\">\n<!-- Generated by graphviz version 2.43.0 (0)\n -->\n<!-- Title: %3 Pages: 1 -->\n<svg width=\"62pt\" height=\"116pt\"\n viewBox=\"0.00 0.00 62.00 116.00\" xmlns=\"http://www.w3.org/2000/svg\" xmlns:xlink=\"http://www.w3.org/1999/xlink\">\n<g id=\"graph0\" class=\"graph\" transform=\"scale(1 1) rotate(0) translate(4 112)\">\n<title>%3</title>\n<polygon fill=\"white\" stroke=\"transparent\" points=\"-4,4 -4,-112 58,-112 58,4 -4,4\"/>\n<!-- 0 -->\n<g id=\"node1\" class=\"node\">\n<title>0</title>\n<ellipse fill=\"none\" stroke=\"black\" cx=\"27\" cy=\"-90\" rx=\"27\" ry=\"18\"/>\n<text text-anchor=\"middle\" x=\"27\" y=\"-86.3\" font-family=\"Times,serif\" font-size=\"14.00\">0</text>\n</g>\n<!-- 1 -->\n<g id=\"node2\" class=\"node\">\n<title>1</title>\n<ellipse fill=\"none\" stroke=\"black\" cx=\"27\" cy=\"-18\" rx=\"27\" ry=\"18\"/>\n<text text-anchor=\"middle\" x=\"27\" y=\"-14.3\" font-family=\"Times,serif\" font-size=\"14.00\">1</text>\n</g>\n<!-- 0&#45;&gt;1 -->\n<g id=\"edge1\" class=\"edge\">\n<title>0&#45;&gt;1</title>\n<path fill=\"none\" stroke=\"black\" d=\"M27,-71.7C27,-63.98 27,-54.71 27,-46.11\"/>\n<polygon fill=\"black\" stroke=\"black\" points=\"30.5,-46.1 27,-36.1 23.5,-46.1 30.5,-46.1\"/>\n</g>\n</g>\n</svg>\n",
            "text/plain": [
              "<graphviz.graphs.Digraph at 0x78c972d3bca0>"
            ]
          },
          "metadata": {},
          "execution_count": 4
        }
      ]
    },
    {
      "cell_type": "code",
      "source": [
        "graph = graphviz.Digraph(format='png')\n",
        "\n",
        "nodes = ['0', '1', '2']\n",
        "\n",
        "edges = ['01', '21', '20']\n",
        "\n",
        "[graph.node(n) for n in nodes]\n",
        "graph.edges(edges)\n",
        "\n",
        "graph.render(f'directed_graph_2')\n",
        "\n",
        "graph"
      ],
      "metadata": {
        "colab": {
          "base_uri": "https://localhost:8080/",
          "height": 272
        },
        "id": "RFtXHRfj3V84",
        "outputId": "0cc814f6-34c3-436b-853d-d85b99ce2ef9"
      },
      "execution_count": 5,
      "outputs": [
        {
          "output_type": "execute_result",
          "data": {
            "image/svg+xml": "<?xml version=\"1.0\" encoding=\"UTF-8\" standalone=\"no\"?>\n<!DOCTYPE svg PUBLIC \"-//W3C//DTD SVG 1.1//EN\"\n \"http://www.w3.org/Graphics/SVG/1.1/DTD/svg11.dtd\">\n<!-- Generated by graphviz version 2.43.0 (0)\n -->\n<!-- Title: %3 Pages: 1 -->\n<svg width=\"89pt\" height=\"188pt\"\n viewBox=\"0.00 0.00 89.00 188.00\" xmlns=\"http://www.w3.org/2000/svg\" xmlns:xlink=\"http://www.w3.org/1999/xlink\">\n<g id=\"graph0\" class=\"graph\" transform=\"scale(1 1) rotate(0) translate(4 184)\">\n<title>%3</title>\n<polygon fill=\"white\" stroke=\"transparent\" points=\"-4,4 -4,-184 85,-184 85,4 -4,4\"/>\n<!-- 0 -->\n<g id=\"node1\" class=\"node\">\n<title>0</title>\n<ellipse fill=\"none\" stroke=\"black\" cx=\"27\" cy=\"-90\" rx=\"27\" ry=\"18\"/>\n<text text-anchor=\"middle\" x=\"27\" y=\"-86.3\" font-family=\"Times,serif\" font-size=\"14.00\">0</text>\n</g>\n<!-- 1 -->\n<g id=\"node2\" class=\"node\">\n<title>1</title>\n<ellipse fill=\"none\" stroke=\"black\" cx=\"54\" cy=\"-18\" rx=\"27\" ry=\"18\"/>\n<text text-anchor=\"middle\" x=\"54\" y=\"-14.3\" font-family=\"Times,serif\" font-size=\"14.00\">1</text>\n</g>\n<!-- 0&#45;&gt;1 -->\n<g id=\"edge1\" class=\"edge\">\n<title>0&#45;&gt;1</title>\n<path fill=\"none\" stroke=\"black\" d=\"M33.4,-72.41C36.51,-64.34 40.33,-54.43 43.83,-45.35\"/>\n<polygon fill=\"black\" stroke=\"black\" points=\"47.13,-46.55 47.46,-35.96 40.6,-44.03 47.13,-46.55\"/>\n</g>\n<!-- 2 -->\n<g id=\"node3\" class=\"node\">\n<title>2</title>\n<ellipse fill=\"none\" stroke=\"black\" cx=\"54\" cy=\"-162\" rx=\"27\" ry=\"18\"/>\n<text text-anchor=\"middle\" x=\"54\" y=\"-158.3\" font-family=\"Times,serif\" font-size=\"14.00\">2</text>\n</g>\n<!-- 2&#45;&gt;0 -->\n<g id=\"edge3\" class=\"edge\">\n<title>2&#45;&gt;0</title>\n<path fill=\"none\" stroke=\"black\" d=\"M47.6,-144.41C44.49,-136.34 40.67,-126.43 37.17,-117.35\"/>\n<polygon fill=\"black\" stroke=\"black\" points=\"40.4,-116.03 33.54,-107.96 33.87,-118.55 40.4,-116.03\"/>\n</g>\n<!-- 2&#45;&gt;1 -->\n<g id=\"edge2\" class=\"edge\">\n<title>2&#45;&gt;1</title>\n<path fill=\"none\" stroke=\"black\" d=\"M57.65,-143.91C59.68,-133.57 61.98,-120.09 63,-108 64.34,-92.06 64.34,-87.94 63,-72 62.28,-63.5 60.93,-54.31 59.49,-46.01\"/>\n<polygon fill=\"black\" stroke=\"black\" points=\"62.91,-45.29 57.65,-36.09 56.03,-46.56 62.91,-45.29\"/>\n</g>\n</g>\n</svg>\n",
            "text/plain": [
              "<graphviz.graphs.Digraph at 0x78c972d3b4c0>"
            ]
          },
          "metadata": {},
          "execution_count": 5
        }
      ]
    },
    {
      "cell_type": "code",
      "source": [
        "graph = graphviz.Digraph(format='png')\n",
        "\n",
        "nodes = ['0', '1', '2', '3']\n",
        "\n",
        "edges = ['02', '13', '32', '30']\n",
        "\n",
        "[graph.node(n) for n in nodes]\n",
        "graph.edges(edges)\n",
        "\n",
        "graph.render(f'directed_graph_3')\n",
        "\n",
        "graph"
      ],
      "metadata": {
        "colab": {
          "base_uri": "https://localhost:8080/",
          "height": 368
        },
        "id": "JJ9wj3Rw3pRC",
        "outputId": "b1751ef2-a025-4b98-a251-d1e16a226638"
      },
      "execution_count": 6,
      "outputs": [
        {
          "output_type": "execute_result",
          "data": {
            "image/svg+xml": "<?xml version=\"1.0\" encoding=\"UTF-8\" standalone=\"no\"?>\n<!DOCTYPE svg PUBLIC \"-//W3C//DTD SVG 1.1//EN\"\n \"http://www.w3.org/Graphics/SVG/1.1/DTD/svg11.dtd\">\n<!-- Generated by graphviz version 2.43.0 (0)\n -->\n<!-- Title: %3 Pages: 1 -->\n<svg width=\"89pt\" height=\"260pt\"\n viewBox=\"0.00 0.00 89.00 260.00\" xmlns=\"http://www.w3.org/2000/svg\" xmlns:xlink=\"http://www.w3.org/1999/xlink\">\n<g id=\"graph0\" class=\"graph\" transform=\"scale(1 1) rotate(0) translate(4 256)\">\n<title>%3</title>\n<polygon fill=\"white\" stroke=\"transparent\" points=\"-4,4 -4,-256 85,-256 85,4 -4,4\"/>\n<!-- 0 -->\n<g id=\"node1\" class=\"node\">\n<title>0</title>\n<ellipse fill=\"none\" stroke=\"black\" cx=\"27\" cy=\"-90\" rx=\"27\" ry=\"18\"/>\n<text text-anchor=\"middle\" x=\"27\" y=\"-86.3\" font-family=\"Times,serif\" font-size=\"14.00\">0</text>\n</g>\n<!-- 2 -->\n<g id=\"node3\" class=\"node\">\n<title>2</title>\n<ellipse fill=\"none\" stroke=\"black\" cx=\"54\" cy=\"-18\" rx=\"27\" ry=\"18\"/>\n<text text-anchor=\"middle\" x=\"54\" y=\"-14.3\" font-family=\"Times,serif\" font-size=\"14.00\">2</text>\n</g>\n<!-- 0&#45;&gt;2 -->\n<g id=\"edge1\" class=\"edge\">\n<title>0&#45;&gt;2</title>\n<path fill=\"none\" stroke=\"black\" d=\"M33.4,-72.41C36.51,-64.34 40.33,-54.43 43.83,-45.35\"/>\n<polygon fill=\"black\" stroke=\"black\" points=\"47.13,-46.55 47.46,-35.96 40.6,-44.03 47.13,-46.55\"/>\n</g>\n<!-- 1 -->\n<g id=\"node2\" class=\"node\">\n<title>1</title>\n<ellipse fill=\"none\" stroke=\"black\" cx=\"54\" cy=\"-234\" rx=\"27\" ry=\"18\"/>\n<text text-anchor=\"middle\" x=\"54\" y=\"-230.3\" font-family=\"Times,serif\" font-size=\"14.00\">1</text>\n</g>\n<!-- 3 -->\n<g id=\"node4\" class=\"node\">\n<title>3</title>\n<ellipse fill=\"none\" stroke=\"black\" cx=\"54\" cy=\"-162\" rx=\"27\" ry=\"18\"/>\n<text text-anchor=\"middle\" x=\"54\" y=\"-158.3\" font-family=\"Times,serif\" font-size=\"14.00\">3</text>\n</g>\n<!-- 1&#45;&gt;3 -->\n<g id=\"edge2\" class=\"edge\">\n<title>1&#45;&gt;3</title>\n<path fill=\"none\" stroke=\"black\" d=\"M54,-215.7C54,-207.98 54,-198.71 54,-190.11\"/>\n<polygon fill=\"black\" stroke=\"black\" points=\"57.5,-190.1 54,-180.1 50.5,-190.1 57.5,-190.1\"/>\n</g>\n<!-- 3&#45;&gt;0 -->\n<g id=\"edge4\" class=\"edge\">\n<title>3&#45;&gt;0</title>\n<path fill=\"none\" stroke=\"black\" d=\"M47.6,-144.41C44.49,-136.34 40.67,-126.43 37.17,-117.35\"/>\n<polygon fill=\"black\" stroke=\"black\" points=\"40.4,-116.03 33.54,-107.96 33.87,-118.55 40.4,-116.03\"/>\n</g>\n<!-- 3&#45;&gt;2 -->\n<g id=\"edge3\" class=\"edge\">\n<title>3&#45;&gt;2</title>\n<path fill=\"none\" stroke=\"black\" d=\"M57.65,-143.91C59.68,-133.57 61.98,-120.09 63,-108 64.34,-92.06 64.34,-87.94 63,-72 62.28,-63.5 60.93,-54.31 59.49,-46.01\"/>\n<polygon fill=\"black\" stroke=\"black\" points=\"62.91,-45.29 57.65,-36.09 56.03,-46.56 62.91,-45.29\"/>\n</g>\n</g>\n</svg>\n",
            "text/plain": [
              "<graphviz.graphs.Digraph at 0x78c972d3aec0>"
            ]
          },
          "metadata": {},
          "execution_count": 6
        }
      ]
    },
    {
      "cell_type": "markdown",
      "source": [
        "# 2. Graph in networkx"
      ],
      "metadata": {
        "id": "2eFp2H_n3z25"
      }
    },
    {
      "cell_type": "code",
      "source": [
        "import networkx as nx"
      ],
      "metadata": {
        "id": "O02fl_ZU32iD"
      },
      "execution_count": 7,
      "outputs": []
    },
    {
      "cell_type": "code",
      "source": [
        "# Define the graph\n",
        "sample_gml = \"\"\"graph [\n",
        "directed 1\n",
        "\n",
        "node [\n",
        "    id 0\n",
        "    label \"0\"\n",
        "    ]\n",
        "\n",
        "node [\n",
        "    id 1\n",
        "    label \"1\"\n",
        "    ]\n",
        "\n",
        "node [\n",
        "    id 2\n",
        "    label \"2\"\n",
        "    ]\n",
        "\n",
        "\n",
        "edge [\n",
        "    source 0\n",
        "    target 1\n",
        "    ]\n",
        "\n",
        "edge [\n",
        "    source 2\n",
        "    target 1\n",
        "    ]\n",
        "]\n",
        "\n",
        "    \"\"\""
      ],
      "metadata": {
        "id": "jb00dc5w3-LA"
      },
      "execution_count": 8,
      "outputs": []
    },
    {
      "cell_type": "code",
      "source": [
        "# Get the graph\n",
        "graph = nx.parse_gml(sample_gml)\n",
        "\n",
        "# Plot\n",
        "nx.draw(\n",
        "    G=graph,\n",
        "    with_labels=True,\n",
        "    node_size=2500,\n",
        "    font_color='white'\n",
        ")"
      ],
      "metadata": {
        "colab": {
          "base_uri": "https://localhost:8080/",
          "height": 516
        },
        "id": "Um3wYeUY3-_W",
        "outputId": "c198bdef-e620-4764-e2a0-ac94f5435434"
      },
      "execution_count": 9,
      "outputs": [
        {
          "output_type": "display_data",
          "data": {
            "text/plain": [
              "<Figure size 640x480 with 1 Axes>"
            ],
            "image/png": "[encoded data removed]"
          },
          "metadata": {}
        }
      ]
    },
    {
      "cell_type": "code",
      "source": [
        "# Define the adjacency matrix\n",
        "adj_matrix = np.array([\n",
        "    [0, 1, 0],\n",
        "    [0, 0, 0],\n",
        "    [0, 1, 0]\n",
        "])\n",
        "\n",
        "# Convert adjacency matrix to a NetworkX graph\n",
        "graph = nx.from_numpy_array(adj_matrix, create_using=nx.DiGraph)\n",
        "\n",
        "# Plot\n",
        "plt.figure(figsize=(8, 6))\n",
        "nx.draw(\n",
        "    G=graph,\n",
        "    with_labels=True,\n",
        "    node_size=2500,\n",
        "    node_color='skyblue',\n",
        "    font_color='white',\n",
        "    arrows=True\n",
        ")\n",
        "plt.show()"
      ],
      "metadata": {
        "colab": {
          "base_uri": "https://localhost:8080/",
          "height": 636
        },
        "id": "4pZijM1T5afi",
        "outputId": "0939b80b-8d3d-4e11-c739-25a9ceb968fc"
      },
      "execution_count": 10,
      "outputs": [
        {
          "output_type": "display_data",
          "data": {
            "text/plain": [
              "<Figure size 800x600 with 1 Axes>"
            ],
            "image/png": "[encoded data removed]"
          },
          "metadata": {}
        }
      ]
    },
    {
      "cell_type": "code",
      "source": [
        "# Define the matrix\n",
        "adj_matrix = np.array([\n",
        "    [0, 1, 0, 1, 0, 1],\n",
        "    [0, 0, 0, 0, 0, 0],\n",
        "    [0, 0, 0, 0, 1, 0],\n",
        "    [0, 0, 1, 0, 0, 0],\n",
        "    [0, 0, 0, 0, 0, 1],\n",
        "    [0, 0, 0, 0, 0, 0],\n",
        "])\n",
        "\n",
        "# Get the graph\n",
        "graph = nx.from_numpy_array(adj_matrix, create_using=nx.DiGraph)\n",
        "\n",
        "# Plot\n",
        "nx.draw(\n",
        "    G=graph,\n",
        "    with_labels=True,\n",
        "    node_size=2000,\n",
        "    node_color='skyblue',\n",
        "    font_color='white',\n",
        "    pos=nx.planar_layout(graph)\n",
        ")"
      ],
      "metadata": {
        "colab": {
          "base_uri": "https://localhost:8080/",
          "height": 516
        },
        "id": "EdlV_HAr6sLw",
        "outputId": "9721ec07-47ab-4505-d48a-99bb1b29529d"
      },
      "execution_count": 11,
      "outputs": [
        {
          "output_type": "display_data",
          "data": {
            "text/plain": [
              "<Figure size 640x480 with 1 Axes>"
            ],
            "image/png": "[encoded data removed]"
          },
          "metadata": {}
        }
      ]
    },
    {
      "cell_type": "markdown",
      "source": [
        "# FCI Method"
      ],
      "metadata": {
        "id": "ByC0e_zGxwfL"
      }
    },
    {
      "cell_type": "code",
      "source": [
        "pip install causal-learn"
      ],
      "metadata": {
        "colab": {
          "base_uri": "https://localhost:8080/"
        },
        "id": "wt_0zjEHxv0T",
        "outputId": "df193ef8-b013-4f2a-9830-219ab6ca3237"
      },
      "execution_count": 12,
      "outputs": [
        {
          "output_type": "stream",
          "name": "stdout",
          "text": [
            "Collecting causal-learn\n",
            "  Downloading causal_learn-0.1.3.8-py3-none-any.whl (174 kB)\n",
            "\u001b[2K     \u001b[90m━━━━━━━━━━━━━━━━━━━━━━━━━━━━━━━━━━━━━━━━\u001b[0m \u001b[32m174.5/174.5 kB\u001b[0m \u001b[31m1.3 MB/s\u001b[0m eta \u001b[36m0:00:00\u001b[0m\n",
            "\u001b[?25hRequirement already satisfied: numpy in /usr/local/lib/python3.10/dist-packages (from causal-learn) (1.25.2)\n",
            "Requirement already satisfied: scipy in /usr/local/lib/python3.10/dist-packages (from causal-learn) (1.11.4)\n",
            "Requirement already satisfied: scikit-learn in /usr/local/lib/python3.10/dist-packages (from causal-learn) (1.2.2)\n",
            "Requirement already satisfied: graphviz in /usr/local/lib/python3.10/dist-packages (from causal-learn) (0.20.3)\n",
            "Requirement already satisfied: statsmodels in /usr/local/lib/python3.10/dist-packages (from causal-learn) (0.14.2)\n",
            "Requirement already satisfied: pandas in /usr/local/lib/python3.10/dist-packages (from causal-learn) (2.0.3)\n",
            "Requirement already satisfied: matplotlib in /usr/local/lib/python3.10/dist-packages (from causal-learn) (3.7.1)\n",
            "Requirement already satisfied: networkx in /usr/local/lib/python3.10/dist-packages (from causal-learn) (3.3)\n",
            "Requirement already satisfied: pydot in /usr/local/lib/python3.10/dist-packages (from causal-learn) (1.4.2)\n",
            "Requirement already satisfied: tqdm in /usr/local/lib/python3.10/dist-packages (from causal-learn) (4.66.4)\n",
            "Requirement already satisfied: contourpy>=1.0.1 in /usr/local/lib/python3.10/dist-packages (from matplotlib->causal-learn) (1.2.1)\n",
            "Requirement already satisfied: cycler>=0.10 in /usr/local/lib/python3.10/dist-packages (from matplotlib->causal-learn) (0.12.1)\n",
            "Requirement already satisfied: fonttools>=4.22.0 in /usr/local/lib/python3.10/dist-packages (from matplotlib->causal-learn) (4.53.1)\n",
            "Requirement already satisfied: kiwisolver>=1.0.1 in /usr/local/lib/python3.10/dist-packages (from matplotlib->causal-learn) (1.4.5)\n",
            "Requirement already satisfied: packaging>=20.0 in /usr/local/lib/python3.10/dist-packages (from matplotlib->causal-learn) (24.1)\n",
            "Requirement already satisfied: pillow>=6.2.0 in /usr/local/lib/python3.10/dist-packages (from matplotlib->causal-learn) (9.4.0)\n",
            "Requirement already satisfied: pyparsing>=2.3.1 in /usr/local/lib/python3.10/dist-packages (from matplotlib->causal-learn) (3.1.2)\n",
            "Requirement already satisfied: python-dateutil>=2.7 in /usr/local/lib/python3.10/dist-packages (from matplotlib->causal-learn) (2.8.2)\n",
            "Requirement already satisfied: pytz>=2020.1 in /usr/local/lib/python3.10/dist-packages (from pandas->causal-learn) (2023.4)\n",
            "Requirement already satisfied: tzdata>=2022.1 in /usr/local/lib/python3.10/dist-packages (from pandas->causal-learn) (2024.1)\n",
            "Requirement already satisfied: joblib>=1.1.1 in /usr/local/lib/python3.10/dist-packages (from scikit-learn->causal-learn) (1.4.2)\n",
            "Requirement already satisfied: threadpoolctl>=2.0.0 in /usr/local/lib/python3.10/dist-packages (from scikit-learn->causal-learn) (3.5.0)\n",
            "Requirement already satisfied: patsy>=0.5.6 in /usr/local/lib/python3.10/dist-packages (from statsmodels->causal-learn) (0.5.6)\n",
            "Requirement already satisfied: six in /usr/local/lib/python3.10/dist-packages (from patsy>=0.5.6->statsmodels->causal-learn) (1.16.0)\n",
            "Installing collected packages: causal-learn\n",
            "Successfully installed causal-learn-0.1.3.8\n"
          ]
        }
      ]
    },
    {
      "cell_type": "markdown",
      "source": [
        "## Using FCI"
      ],
      "metadata": {
        "id": "d8IXUi0xU8XI"
      }
    },
    {
      "cell_type": "code",
      "source": [
        "import numpy as np\n",
        "import pandas as pd\n",
        "from causallearn.search.ConstraintBased.FCI import fci\n",
        "from causallearn.utils.GraphUtils import GraphUtils\n",
        "from causallearn.graph.GraphNode import GraphNode"
      ],
      "metadata": {
        "id": "qQze5QRMx-fH"
      },
      "execution_count": 13,
      "outputs": []
    },
    {
      "cell_type": "code",
      "source": [
        "# 设置随机种子\n",
        "np.random.seed(42)\n",
        "\n",
        "# 模拟数据\n",
        "N = 1000  # 样本数\n",
        "demand = np.random.normal(size=N)\n",
        "price = 0.5 * demand + np.random.normal(size=N)\n",
        "supply = 0.3 * price + np.random.normal(size=N)\n",
        "demand += 0.2 * supply + np.random.normal(size=N)\n",
        "\n",
        "# 创建数据框\n",
        "data = pd.DataFrame({'Demand': demand, 'Price': price, 'Supply': supply})\n",
        "\n",
        "# 转换为numpy数组\n",
        "data_np = data.to_numpy()\n",
        "\n",
        "# 使用FCI算法\n",
        "nodes = [GraphNode(\"Demand\"), GraphNode(\"Price\"), GraphNode(\"Supply\")]\n",
        "fci_output = fci(data_np, alpha=0.05, nodes=nodes)\n",
        "\n",
        "graph = fci_output[0]\n",
        "\n",
        "# 打印结果\n",
        "print(\"Adjacency Matrix:\")\n",
        "print(graph)\n",
        "\n"
      ],
      "metadata": {
        "colab": {
          "base_uri": "https://localhost:8080/",
          "height": 210,
          "referenced_widgets": [
            "a309030ddd594792a11d2c458285afe7",
            "06ad77c3774d404c8e3643fdb946b977",
            "576d6637a4ee4cdc8a565a0fb1c6389e",
            "d97bfe2c756644ce8de2e325966270d2",
            "252977e20f31487e818426f2a229ddb7",
            "9d5a59cad20b457a86cf5315458c5781",
            "7f6d8dd193d2462cbfcd99d3eee11138",
            "7a4265da34ec4448a1e8f5f28fe913bd",
            "01f6b7309e4349c8bda02d52ef63fca7",
            "282e31b181f24164924d312aeaec8c00",
            "a0247d5cff29428186f5d9ed40ff853d"
          ]
        },
        "id": "CITBGaM2x29L",
        "outputId": "1fa2e334-d768-4fd4-cde9-aa5bfc8341d8"
      },
      "execution_count": 53,
      "outputs": [
        {
          "output_type": "display_data",
          "data": {
            "text/plain": [
              "  0%|          | 0/3 [00:00<?, ?it/s]"
            ],
            "application/vnd.jupyter.widget-view+json": {
              "version_major": 2,
              "version_minor": 0,
              "model_id": "a309030ddd594792a11d2c458285afe7"
            }
          },
          "metadata": {}
        },
        {
          "output_type": "stream",
          "name": "stdout",
          "text": [
            "Adjacency Matrix:\n",
            "Graph Nodes:\n",
            "X1;X2;X3\n",
            "\n",
            "Graph Edges:\n",
            "1. X1 o-o X2\n",
            "2. X1 o-o X3\n",
            "3. X2 o-o X3\n",
            "\n"
          ]
        }
      ]
    },
    {
      "cell_type": "code",
      "source": [
        "# visualization\n",
        "from causallearn.utils.GraphUtils import GraphUtils\n",
        "import matplotlib.image as mpimg\n",
        "import matplotlib.pyplot as plt\n",
        "import io"
      ],
      "metadata": {
        "id": "wG1ruvTZy4A_"
      },
      "execution_count": 15,
      "outputs": []
    },
    {
      "cell_type": "code",
      "source": [
        "pyd = GraphUtils.to_pydot(graph)\n",
        "tmp_png = pyd.create_png('png')\n",
        "fp = io.BytesIO(tmp_png)\n",
        "img = mpimg.imread(fp, format='png')\n",
        "plt.axis('off')\n",
        "plt.imshow(img)\n",
        "plt.show()"
      ],
      "metadata": {
        "colab": {
          "base_uri": "https://localhost:8080/",
          "height": 425
        },
        "id": "uOVKRdyyy7yf",
        "outputId": "0ecea730-3078-4a2b-be81-1b2904711f2d"
      },
      "execution_count": 17,
      "outputs": [
        {
          "output_type": "display_data",
          "data": {
            "text/plain": [
              "<Figure size 640x480 with 1 Axes>"
            ],
            "image/png": "[encoded data removed]"
          },
          "metadata": {}
        }
      ]
    },
    {
      "cell_type": "markdown",
      "source": [
        "## PC"
      ],
      "metadata": {
        "id": "M-Y2pp13VCp3"
      }
    },
    {
      "cell_type": "code",
      "source": [
        "from causallearn.search.ConstraintBased.PC import pc\n",
        "\n",
        "# 使用PC算法\n",
        "pc_output = pc(data_np, alpha=0.05, nodes=nodes)\n",
        "\n",
        "plt.figure(figsize=(6, 4))\n",
        "pc_output.draw_pydot_graph()\n",
        "plt.axis('off')\n",
        "plt.show()"
      ],
      "metadata": {
        "colab": {
          "base_uri": "https://localhost:8080/",
          "height": 1000,
          "referenced_widgets": [
            "3c8348b2bacd4786bbb273fc628594f2",
            "883329538d704366a0485d7b8278c8ed",
            "0ec0396551504b0a8bfcf79bf281d5e0",
            "d77eb06ba5304eb1a084e5b0f7c0f857",
            "92ad5b57db614633892a70ff49004d8f",
            "d675febb844f4c16ab18d9d94c2af07a",
            "9f07c014578d4a26899a41485911fb1e",
            "4411cbefadc04711ad025fdcf26b3cc8",
            "ece2f6e64f03421e8688d9a880d2907f",
            "1db65b79310f4631921450eefd1cc980",
            "12384446e6c546eabe90c727c33ef6ab"
          ]
        },
        "id": "BczukPHi0koN",
        "outputId": "2bfc5cb6-713d-4ace-af68-8bdeb1e4df9a"
      },
      "execution_count": 20,
      "outputs": [
        {
          "output_type": "display_data",
          "data": {
            "text/plain": [
              "  0%|          | 0/3 [00:00<?, ?it/s]"
            ],
            "application/vnd.jupyter.widget-view+json": {
              "version_major": 2,
              "version_minor": 0,
              "model_id": "3c8348b2bacd4786bbb273fc628594f2"
            }
          },
          "metadata": {}
        },
        {
          "output_type": "display_data",
          "data": {
            "text/plain": [
              "<Figure size 600x400 with 1 Axes>"
            ],
            "image/png": "[encoded data removed]"
          },
          "metadata": {}
        },
        {
          "output_type": "display_data",
          "data": {
            "text/plain": [
              "<Figure size 2000x1200 with 1 Axes>"
            ],
            "image/png": "[encoded data removed]"
          },
          "metadata": {}
        }
      ]
    },
    {
      "cell_type": "markdown",
      "source": [
        "# Example on DoWhy\n",
        "\n",
        "Reference: https://www.pywhy.org/dowhy/v0.9.1/example_notebooks/dowhy_simple_example.html"
      ],
      "metadata": {
        "id": "QRbcL_uMefYd"
      }
    },
    {
      "cell_type": "code",
      "source": [
        "pip install dowhy"
      ],
      "metadata": {
        "colab": {
          "base_uri": "https://localhost:8080/"
        },
        "id": "uL_xeWCPeiTN",
        "outputId": "ce230734-c57a-49cc-858c-077abcf61c23"
      },
      "execution_count": 25,
      "outputs": [
        {
          "output_type": "stream",
          "name": "stdout",
          "text": [
            "Collecting dowhy\n",
            "  Downloading dowhy-0.11.1-py3-none-any.whl (383 kB)\n",
            "\u001b[2K     \u001b[90m━━━━━━━━━━━━━━━━━━━━━━━━━━━━━━━━━━━━━━━━\u001b[0m \u001b[32m383.4/383.4 kB\u001b[0m \u001b[31m2.2 MB/s\u001b[0m eta \u001b[36m0:00:00\u001b[0m\n",
            "\u001b[?25hRequirement already satisfied: causal-learn>=0.1.3.0 in /usr/local/lib/python3.10/dist-packages (from dowhy) (0.1.3.8)\n",
            "Requirement already satisfied: cvxpy<2.0.0,>=1.2.2 in /usr/local/lib/python3.10/dist-packages (from dowhy) (1.3.4)\n",
            "Requirement already satisfied: cython>=0.29.32 in /usr/local/lib/python3.10/dist-packages (from dowhy) (3.0.10)\n",
            "Requirement already satisfied: joblib>=1.1.0 in /usr/local/lib/python3.10/dist-packages (from dowhy) (1.4.2)\n",
            "Requirement already satisfied: networkx>=2.8.5 in /usr/local/lib/python3.10/dist-packages (from dowhy) (3.3)\n",
            "Requirement already satisfied: numpy>=1.20 in /usr/local/lib/python3.10/dist-packages (from dowhy) (1.25.2)\n",
            "Requirement already satisfied: pandas>=1.4.3 in /usr/local/lib/python3.10/dist-packages (from dowhy) (2.0.3)\n",
            "Requirement already satisfied: scikit-learn>1.0 in /usr/local/lib/python3.10/dist-packages (from dowhy) (1.2.2)\n",
            "Requirement already satisfied: scipy>=1.4.1 in /usr/local/lib/python3.10/dist-packages (from dowhy) (1.11.4)\n",
            "Requirement already satisfied: statsmodels>=0.13.5 in /usr/local/lib/python3.10/dist-packages (from dowhy) (0.14.2)\n",
            "Requirement already satisfied: sympy>=1.10.1 in /usr/local/lib/python3.10/dist-packages (from dowhy) (1.13.0)\n",
            "Requirement already satisfied: tqdm>=4.64.0 in /usr/local/lib/python3.10/dist-packages (from dowhy) (4.66.4)\n",
            "Requirement already satisfied: graphviz in /usr/local/lib/python3.10/dist-packages (from causal-learn>=0.1.3.0->dowhy) (0.20.3)\n",
            "Requirement already satisfied: matplotlib in /usr/local/lib/python3.10/dist-packages (from causal-learn>=0.1.3.0->dowhy) (3.7.1)\n",
            "Requirement already satisfied: pydot in /usr/local/lib/python3.10/dist-packages (from causal-learn>=0.1.3.0->dowhy) (1.4.2)\n",
            "Requirement already satisfied: osqp>=0.4.1 in /usr/local/lib/python3.10/dist-packages (from cvxpy<2.0.0,>=1.2.2->dowhy) (0.6.2.post8)\n",
            "Requirement already satisfied: ecos>=2 in /usr/local/lib/python3.10/dist-packages (from cvxpy<2.0.0,>=1.2.2->dowhy) (2.0.14)\n",
            "Requirement already satisfied: scs>=1.1.6 in /usr/local/lib/python3.10/dist-packages (from cvxpy<2.0.0,>=1.2.2->dowhy) (3.2.6)\n",
            "Requirement already satisfied: setuptools>65.5.1 in /usr/local/lib/python3.10/dist-packages (from cvxpy<2.0.0,>=1.2.2->dowhy) (67.7.2)\n",
            "Requirement already satisfied: python-dateutil>=2.8.2 in /usr/local/lib/python3.10/dist-packages (from pandas>=1.4.3->dowhy) (2.8.2)\n",
            "Requirement already satisfied: pytz>=2020.1 in /usr/local/lib/python3.10/dist-packages (from pandas>=1.4.3->dowhy) (2023.4)\n",
            "Requirement already satisfied: tzdata>=2022.1 in /usr/local/lib/python3.10/dist-packages (from pandas>=1.4.3->dowhy) (2024.1)\n",
            "Requirement already satisfied: threadpoolctl>=2.0.0 in /usr/local/lib/python3.10/dist-packages (from scikit-learn>1.0->dowhy) (3.5.0)\n",
            "Requirement already satisfied: patsy>=0.5.6 in /usr/local/lib/python3.10/dist-packages (from statsmodels>=0.13.5->dowhy) (0.5.6)\n",
            "Requirement already satisfied: packaging>=21.3 in /usr/local/lib/python3.10/dist-packages (from statsmodels>=0.13.5->dowhy) (24.1)\n",
            "Requirement already satisfied: mpmath<1.4,>=1.1.0 in /usr/local/lib/python3.10/dist-packages (from sympy>=1.10.1->dowhy) (1.3.0)\n",
            "Requirement already satisfied: qdldl in /usr/local/lib/python3.10/dist-packages (from osqp>=0.4.1->cvxpy<2.0.0,>=1.2.2->dowhy) (0.1.7.post4)\n",
            "Requirement already satisfied: six in /usr/local/lib/python3.10/dist-packages (from patsy>=0.5.6->statsmodels>=0.13.5->dowhy) (1.16.0)\n",
            "Requirement already satisfied: contourpy>=1.0.1 in /usr/local/lib/python3.10/dist-packages (from matplotlib->causal-learn>=0.1.3.0->dowhy) (1.2.1)\n",
            "Requirement already satisfied: cycler>=0.10 in /usr/local/lib/python3.10/dist-packages (from matplotlib->causal-learn>=0.1.3.0->dowhy) (0.12.1)\n",
            "Requirement already satisfied: fonttools>=4.22.0 in /usr/local/lib/python3.10/dist-packages (from matplotlib->causal-learn>=0.1.3.0->dowhy) (4.53.1)\n",
            "Requirement already satisfied: kiwisolver>=1.0.1 in /usr/local/lib/python3.10/dist-packages (from matplotlib->causal-learn>=0.1.3.0->dowhy) (1.4.5)\n",
            "Requirement already satisfied: pillow>=6.2.0 in /usr/local/lib/python3.10/dist-packages (from matplotlib->causal-learn>=0.1.3.0->dowhy) (9.4.0)\n",
            "Requirement already satisfied: pyparsing>=2.3.1 in /usr/local/lib/python3.10/dist-packages (from matplotlib->causal-learn>=0.1.3.0->dowhy) (3.1.2)\n",
            "Installing collected packages: dowhy\n",
            "Successfully installed dowhy-0.11.1\n"
          ]
        }
      ]
    },
    {
      "cell_type": "code",
      "source": [
        "import numpy as np\n",
        "import pandas as pd\n",
        "from dowhy import CausalModel\n",
        "from sklearn.preprocessing import KBinsDiscretizer\n",
        "import matplotlib.pyplot as plt\n",
        "\n",
        "# 设置随机种子\n",
        "np.random.seed(42)\n",
        "\n",
        "# 模拟数据\n",
        "N = 1000  # 样本数\n",
        "demand = np.random.normal(size=N)\n",
        "price = 0.5 * demand + np.random.normal(size=N)\n",
        "supply = 0.3 * price + np.random.normal(size=N)\n",
        "demand += 0.2 * supply + np.random.normal(size=N)\n",
        "\n",
        "# 创建数据框\n",
        "data = pd.DataFrame({'Demand': demand, 'Price': price, 'Supply': supply})\n",
        "\n",
        "# 对连续变量进行离散化处理\n",
        "discretizer = KBinsDiscretizer(n_bins=5, encode='ordinal', strategy='uniform')\n",
        "data_discretized = pd.DataFrame(discretizer.fit_transform(data), columns=data.columns)\n"
      ],
      "metadata": {
        "id": "7pTXgfP9aS5k"
      },
      "execution_count": 27,
      "outputs": []
    },
    {
      "cell_type": "code",
      "source": [
        "# 使用dowhy进行因果推断\n",
        "# 定义因果模型\n",
        "model = CausalModel(\n",
        "    data=data_discretized,\n",
        "    treatment='Demand',\n",
        "    outcome='Supply',\n",
        "    common_causes=['Price']\n",
        ")"
      ],
      "metadata": {
        "colab": {
          "base_uri": "https://localhost:8080/"
        },
        "id": "w6XaH1Zqeq5d",
        "outputId": "60122b9f-1243-44e8-f5eb-daf3341e1161"
      },
      "execution_count": 28,
      "outputs": [
        {
          "output_type": "stream",
          "name": "stderr",
          "text": [
            "WARNING:dowhy.causal_model:Causal Graph not provided. DoWhy will construct a graph based on data inputs.\n"
          ]
        }
      ]
    },
    {
      "cell_type": "code",
      "source": [
        "# 绘制因果图，并调整绘图窗口大小\n",
        "model.view_model(layout=\"dot\", size=(6,4))\n",
        "plt.show();"
      ],
      "metadata": {
        "colab": {
          "base_uri": "https://localhost:8080/",
          "height": 436
        },
        "id": "TH0hcA3uewRe",
        "outputId": "deb4a5d8-425c-46fe-89e8-5dcf3ec31696"
      },
      "execution_count": 36,
      "outputs": [
        {
          "output_type": "display_data",
          "data": {
            "text/plain": [
              "<Figure size 600x400 with 1 Axes>"
            ],
            "image/png": "[encoded data removed]"
          },
          "metadata": {}
        }
      ]
    },
    {
      "cell_type": "code",
      "source": [
        "# 识别因果效应\n",
        "identified_estimand = model.identify_effect()\n",
        "\n",
        "# 显示因果效应的估计值\n",
        "print(identified_estimand)"
      ],
      "metadata": {
        "colab": {
          "base_uri": "https://localhost:8080/"
        },
        "id": "MGYjbhN6ibGI",
        "outputId": "4a6e7969-83ee-4263-b097-ba3bf7e6a83a"
      },
      "execution_count": 62,
      "outputs": [
        {
          "output_type": "stream",
          "name": "stdout",
          "text": [
            "Estimand type: EstimandType.NONPARAMETRIC_ATE\n",
            "\n",
            "### Estimand : 1\n",
            "Estimand name: backdoor\n",
            "Estimand expression:\n",
            "    d                     \n",
            "─────────(E[Supply|Price])\n",
            "d[Demand]                 \n",
            "Estimand assumption 1, Unconfoundedness: If U→{Demand} and U→Supply then P(Supply|Demand,Price,U) = P(Supply|Demand,Price)\n",
            "\n",
            "### Estimand : 2\n",
            "Estimand name: iv\n",
            "No such variable(s) found!\n",
            "\n",
            "### Estimand : 3\n",
            "Estimand name: frontdoor\n",
            "No such variable(s) found!\n",
            "\n"
          ]
        }
      ]
    },
    {
      "cell_type": "markdown",
      "source": [
        "- `Estimand type: EstimandType.NONPARAMETRIC_ATE`: 表示估计量的类型是非参数化的平均处理效应（Average Treatment Effect, ATE）。非参数化意味着没有假设特定的函数形式来描述变量之间的关系。\n",
        "\n",
        "- `### Estimand : 1\n",
        "Estimand name: backdoor\n",
        "Estimand expression:\n",
        "......               \n",
        "If U→{Demand} and U→Supply then P(Supply|Demand,Price,U) = P(Supply|Demand,Price)` : 这个部分表示通过后门准则（backdoor criterion）识别的因果效应。具体来说，这个估计量表达式表示计算处理变量（Demand）对结果变量（Supply）的平均因果效应，同时控制了共同原因（Price）\n",
        "\n",
        "\n",
        "- `### Estimand : 2`: 这个部分表示尝试识别工具变量（Instrumental Variables, IV）来估计因果效应。IV 是一种在某些情况下用于估计因果效应的方法，但是在这个模型中，没有找到合适的工具变量。\n",
        "\n",
        "- `### Estimand : 3`: 这个部分表示尝试通过前门准则（frontdoor criterion）来识别因果效应。前门准则是一种在特定情况下用于估计因果效应的方法，但是在这个模型中，没有找到合适的变量来应用前门准则。\n",
        "\n",
        "- **后门准则假设**: 假设1（Unconfoundedness）：如果存在未观测的混淆变量 U 影响了 Demand 和 Supply，则在给定 Demand、Price 和 U 的情况下，Supply 的条件分布不再依赖于 U。这意味着，给定 Demand 和 Price，我们可以忽略 U 的影响。\n",
        "- **工具变量（IV） 和 前门准则（frontdoor criterion）**在这个具体的例子中没有找到合适的变量，因此无法使用这些方法来估计因果效应。"
      ],
      "metadata": {
        "id": "IitF9cHRjpwz"
      }
    },
    {
      "cell_type": "code",
      "source": [
        "# 估计因果效应\n",
        "# estimate = model.estimate_effect(identified_estimand,\n",
        "#                                  method_name=\"backdoor.propensity_score_matching\") # 倾向评分方法（propensity_score_matching）只适用于二值处理变量（binary treatments），而我们的 Demand 变量是连续的\n",
        "\n",
        "# 估计因果效应，使用线性回归\n",
        "estimate = model.estimate_effect(identified_estimand,\n",
        "                                 method_name=\"backdoor.linear_regression\")\n",
        "\n",
        "# 显示因果效应的估计值\n",
        "print(estimate)"
      ],
      "metadata": {
        "colab": {
          "base_uri": "https://localhost:8080/"
        },
        "id": "uiDNbpauivFH",
        "outputId": "da3d20ed-bd5f-447f-e15b-9c0917422c44"
      },
      "execution_count": 64,
      "outputs": [
        {
          "output_type": "stream",
          "name": "stdout",
          "text": [
            "*** Causal Estimate ***\n",
            "\n",
            "## Identified estimand\n",
            "Estimand type: EstimandType.NONPARAMETRIC_ATE\n",
            "\n",
            "### Estimand : 1\n",
            "Estimand name: backdoor\n",
            "Estimand expression:\n",
            "    d                     \n",
            "─────────(E[Supply|Price])\n",
            "d[Demand]                 \n",
            "Estimand assumption 1, Unconfoundedness: If U→{Demand} and U→Supply then P(Supply|Demand,Price,U) = P(Supply|Demand,Price)\n",
            "\n",
            "## Realized estimand\n",
            "b: Supply~Demand+Price\n",
            "Target units: ate\n",
            "\n",
            "## Estimate\n",
            "Mean value: 0.13995533544809025\n",
            "\n"
          ]
        }
      ]
    },
    {
      "cell_type": "markdown",
      "source": [
        "后门准则的应用步骤\n",
        "\n",
        "\t1.\t识别共同原因：在因果图中，找到所有影响处理变量和结果变量的共同原因。\n",
        "\t2.\t控制共同原因：通过控制这些共同原因，使得处理变量和结果变量之间的路径中断，从而消除共同原因的影响。\n",
        "\t3.\t估计因果效应：在控制了共同原因后，估计处理变量对结果变量的因果效应。\n",
        "\n",
        "在我们的示例中，我们要估计 Demand（需求）对 Supply（供应）的因果效应。Price（价格）被识别为共同原因，因为它同时影响 Demand 和 Supply。\n",
        "\n",
        "具体步骤\n",
        "\n",
        "1.\t构建因果图：\n",
        "\t- Price 影响 Demand 和 Supply。\n",
        "\t- Demand 直接影响 Supply。\n",
        "  - 因果图如下所示：\n",
        "  ```\n",
        "  Price → Demand → Supply\n",
        "              ↘       ↗\n",
        "                Supply\n",
        "  ```\n",
        "2. **识别共同原因**：\n",
        "   - `Price` 是影响 `Demand` 和 `Supply` 的共同原因。\n",
        "\n",
        "3. **控制共同原因**：\n",
        "   - 在估计 `Demand` 对 `Supply` 的因果效应时，我们需要控制 `Price`，以消除其对因果效应的混淆影响。\n",
        "\n",
        "4. **因果效应估计表达式**：\n",
        "   - 后门准则给出的表达式为：\n",
        "\n",
        "  $\\frac{d}{d[Demand]}(E[Supply | Price])$\n",
        "\n",
        "   这意味着我们需要估计在控制 `Price` 的情况下，`Demand` 对 `Supply` 的期望值的变化。\n",
        "\n",
        "\n",
        "而返回的结果告诉我们：在模型中，我门需要假设在控制 Price 的情况下，如果有潜在的混淆变量 U 同时影响 Demand 和 Supply，那么在给定 Demand 和 Price 的条件下，Supply 的分布不再依赖于 U。**这是一个关键假设，称为“不混淆假设”（Unconfoundedness）**"
      ],
      "metadata": {
        "id": "VEMk7Hd2lTf3"
      }
    },
    {
      "cell_type": "code",
      "source": [
        "# 进行假设检验\n",
        "refute_results = model.refute_estimate(identified_estimand, estimate, method_name=\"placebo_treatment_refuter\")\n",
        "print(refute_results)"
      ],
      "metadata": {
        "colab": {
          "base_uri": "https://localhost:8080/"
        },
        "id": "Ug5oLGMOjBus",
        "outputId": "e5a2424b-c713-445f-8111-51be3a98f3da"
      },
      "execution_count": 67,
      "outputs": [
        {
          "output_type": "stream",
          "name": "stdout",
          "text": [
            "Refute: Use a Placebo Treatment\n",
            "Estimated effect:0.13995533544809025\n",
            "New effect:0.0\n",
            "p value:1.0\n",
            "\n"
          ]
        }
      ]
    },
    {
      "cell_type": "markdown",
      "source": [
        "**原假设**：\n",
        "原假设是指虚假的处理变量对 Supply 没有影响。p 值为 1.0 表示我们没有足够的证据拒绝原假设，这支持了我们的因果效应估计的稳健性。\n",
        "\n",
        "**假设检验和安慰剂处理**：\n",
        "- 使用安慰剂处理变量进行假设检验，以验证因果效应估计的稳健性。结果显示新效应为 0.0，p 值为 1.0。\n",
        "- 虚假的处理变量并不是指混淆变量  U ，而是一个与实际处理无关的变量，用于测试因果效应估计的稳健性。\n",
        "- 高 p 值（1.0）表示没有观察到显著的因果效应，支持了原假设，即虚假的处理变量对结果变量没有影响。\n",
        "\n",
        "**因果效应估计**：\n",
        "- 我们估计 Demand 对 Supply 的因果效应，同时控制 Price。\n",
        "- 估计的因果效应为 0.14，表示 Demand 变化一个单位时，Supply 预期变化约 0.14 个单位。"
      ],
      "metadata": {
        "id": "JSmuUL6SoXBM"
      }
    }
  ]
}