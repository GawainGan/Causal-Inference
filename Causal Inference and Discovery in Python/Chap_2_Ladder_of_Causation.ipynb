{
  "nbformat": 4,
  "nbformat_minor": 0,
  "metadata": {
    "colab": {
      "provenance": [],
      "authorship_tag": "ABX9TyOOHQ9yS5WtzmWzA7bI/Wre",
      "include_colab_link": true
    },
    "kernelspec": {
      "name": "python3",
      "display_name": "Python 3"
    },
    "language_info": {
      "name": "python"
    }
  },
  "cells": [
    {
      "cell_type": "markdown",
      "metadata": {
        "id": "view-in-github",
        "colab_type": "text"
      },
      "source": [
        "<a href=\"https://colab.research.google.com/github/GawainGan/Causal-Inference/blob/main/Causal%20Inference%20and%20Discovery%20in%20Python/Chap_2_Ladder_of_Causation.ipynb\" target=\"_parent\"><img src=\"https://colab.research.google.com/assets/colab-badge.svg\" alt=\"Open In Colab\"/></a>"
      ]
    },
    {
      "cell_type": "code",
      "execution_count": 1,
      "metadata": {
        "id": "fAauFdLinvlr"
      },
      "outputs": [],
      "source": [
        "import numpy as np\n",
        "from scipy import stats"
      ]
    },
    {
      "cell_type": "markdown",
      "source": [
        "# Ladder One: Assoication"
      ],
      "metadata": {
        "id": "CpuP64AUDOXr"
      }
    },
    {
      "cell_type": "code",
      "source": [
        "class BookSCM:\n",
        "  \"\"\"\n",
        "  这段代码定义了一个名为 BookSCM 的类，\n",
        "    它是一个结构因果模型（Structural Causal Model, SCM），\n",
        "    用于模拟两本书A和B的购买行为的相关决策过程。\n",
        "  代码中包含了随机性的处理、样本生成、以及基于生成的数据计算条件概率\n",
        "  \"\"\"\n",
        "  def __init__(self, random_seed=None):\n",
        "    self.random_seed = random_seed # 控制随机数\n",
        "    self.u_0 = stats.uniform() # 创建一个均匀分布对象，用于生成代表变量A的决策过程的随机数\n",
        "    self.u_1 = stats.norm() # 创建一个正态分布对象，用于生成影响变量B的决策过程的随机数\n",
        "\n",
        "  def sample(self, sample_size=100):\n",
        "    \"\"\"Samples from the SCM\"\"\"\n",
        "    if self.random_seed:\n",
        "      np.random.seed(self.random_seed)\n",
        "      u_0 = self.u_0.rvs(sample_size)\n",
        "      u_1 = self.u_1.rvs(sample_size)\n",
        "      a = u_0 > .61\n",
        "      b = (a + .5 * u_1) > .2\n",
        "      return a, b"
      ],
      "metadata": {
        "id": "L1cRIZOT_juL"
      },
      "execution_count": null,
      "outputs": []
    },
    {
      "cell_type": "code",
      "source": [
        "scm = BookSCM(random_seed=45)"
      ],
      "metadata": {
        "id": "0w68lqMvAgjF"
      },
      "execution_count": null,
      "outputs": []
    },
    {
      "cell_type": "code",
      "source": [
        "buy_book_a, buy_book_b = scm.sample(100) #  生成100个样本点，然后分别获取购买书A和书B的布尔数组\n",
        "\n",
        "buy_book_a.shape, buy_book_b.shape"
      ],
      "metadata": {
        "colab": {
          "base_uri": "https://localhost:8080/"
        },
        "id": "flNDzauOAjHw",
        "outputId": "710c7488-5ea2-4fe6-a4cc-78386569ebbe"
      },
      "execution_count": null,
      "outputs": [
        {
          "output_type": "execute_result",
          "data": {
            "text/plain": [
              "((100,), (100,))"
            ]
          },
          "metadata": {},
          "execution_count": 4
        }
      ]
    },
    {
      "cell_type": "code",
      "source": [
        "# buy_book_a[buy_book_b].sum() 计算在购买书B的情况下，也购买书A的样本数量。\n",
        "# buy_book_a[buy_book_b].shape[0] 计算购买书B的总样本数。\n",
        "\n",
        "# 计算条件概率\n",
        "proba_book_a_given_book_b = buy_book_a[buy_book_b].sum() / buy_book_a[buy_book_b].shape[0]\n",
        "\n",
        "print(f'Probability of buying book A given B: {proba_book_a_given_book_b:0.3f}')"
      ],
      "metadata": {
        "colab": {
          "base_uri": "https://localhost:8080/"
        },
        "id": "vKAOXQYiAkXI",
        "outputId": "93c97192-8f72-4226-a927-1644551e3aeb"
      },
      "execution_count": null,
      "outputs": [
        {
          "output_type": "stream",
          "name": "stdout",
          "text": [
            "Probability of buying book A given B: 0.638\n"
          ]
        }
      ]
    },
    {
      "cell_type": "markdown",
      "source": [
        "正如我们所看到的，鉴于我们购买了B书，购买A书的概率为63.8%。这表明两个变量之间存在正关系（如果它们之间没有关联，我们预计结果为50%）。这些结果告诉我们，我们可以仅使用观测数据做出有意义的预测。这种能力是大多数当代（监督）机器学习模型的本质。"
      ],
      "metadata": {
        "id": "4YsjHg1WCmIr"
      }
    },
    {
      "cell_type": "markdown",
      "source": [
        "# Ladder Two: Intervention"
      ],
      "metadata": {
        "id": "CqUrC1bYDRwD"
      }
    },
    {
      "cell_type": "code",
      "source": [
        "SAMPLE_SIZE = 100\n",
        "np.random.seed(45)"
      ],
      "metadata": {
        "id": "94YkFSl8AmcU"
      },
      "execution_count": null,
      "outputs": []
    },
    {
      "cell_type": "code",
      "source": [
        "u_0 = np.random.randn(SAMPLE_SIZE)\n",
        "u_1 = np.random.randn(SAMPLE_SIZE)\n",
        "a = u_0\n",
        "b = 5 * a + u_1\n",
        "r, p = stats.pearsonr(a, b)\n",
        "print(f'Mean of B before any intervention: {b.mean():.3f}')\n",
        "print(f'Variance of B before any intervention: {b.var():.3f}')\n",
        "print(f'Correlation between A and B:\\nr = {r:.3f}; p ={p:.3f}\\n')"
      ],
      "metadata": {
        "colab": {
          "base_uri": "https://localhost:8080/"
        },
        "id": "jwJcSlBIM8O8",
        "outputId": "dcff6590-a6b8-4db7-999f-0391d5b6e23a"
      },
      "execution_count": null,
      "outputs": [
        {
          "output_type": "stream",
          "name": "stdout",
          "text": [
            "Mean of B before any intervention: -0.620\n",
            "Variance of B before any intervention: 22.667\n",
            "Correlation between A and B:\n",
            "r = 0.978; p =0.000\n",
            "\n"
          ]
        }
      ]
    },
    {
      "cell_type": "code",
      "source": [
        "# plot a abd b\n",
        "import matplotlib.pyplot as plt\n",
        "plt.scatter(a, b)\n",
        "plt.xlabel('A')\n",
        "plt.ylabel('B')\n",
        "plt.show()"
      ],
      "metadata": {
        "colab": {
          "base_uri": "https://localhost:8080/",
          "height": 449
        },
        "id": "llop_PStfcJi",
        "outputId": "08647457-c2e1-4189-b374-eb9193eae051"
      },
      "execution_count": null,
      "outputs": [
        {
          "output_type": "display_data",
          "data": {
            "text/plain": [
              "<Figure size 640x480 with 1 Axes>"
            ],
            "image/png": "[encoded data removed]"
          },
          "metadata": {}
        }
      ]
    },
    {
      "cell_type": "code",
      "source": [
        "# intervene on A by fixing its value at 1.5:\n",
        "a = np.array([1.5] * SAMPLE_SIZE)\n",
        "b = 5 * a + u_1\n",
        "\n",
        "plt.scatter(a, b)\n",
        "plt.xlabel('A')\n",
        "plt.ylabel('B')\n",
        "plt.show()"
      ],
      "metadata": {
        "colab": {
          "base_uri": "https://localhost:8080/",
          "height": 449
        },
        "id": "Yl4qIbngfhLZ",
        "outputId": "d9161448-8010-4882-997c-57b433dcadf1"
      },
      "execution_count": null,
      "outputs": [
        {
          "output_type": "display_data",
          "data": {
            "text/plain": [
              "<Figure size 640x480 with 1 Axes>"
            ],
            "image/png": "[encoded data removed]"
          },
          "metadata": {}
        }
      ]
    },
    {
      "cell_type": "code",
      "source": [
        "print(f'Mean of B after the intervention on A: {b.mean():.3f}')\n",
        "print(f'Variance of B after the intervention on A:{b.var():.3f}\\n')"
      ],
      "metadata": {
        "colab": {
          "base_uri": "https://localhost:8080/"
        },
        "id": "JnZCKioTfuFB",
        "outputId": "b61566ee-32eb-45fc-9005-07c4fd928996"
      },
      "execution_count": null,
      "outputs": [
        {
          "output_type": "stream",
          "name": "stdout",
          "text": [
            "Mean of B after the intervention on A: 7.575\n",
            "Variance of B after the intervention on A:1.003\n",
            "\n"
          ]
        }
      ]
    },
    {
      "cell_type": "markdown",
      "source": [
        "平均值和方差都发生了变化。B的新均值比前一个要大得多。这是因为我们对A(1.5)的干预价值比我们对A（以0为中心）的原始分布所期望的要大得多。与此同时，方差缩小了。这是因为A的数值变成了一个（固定的）常数，而唯一存留变异性的B值是来自其随机的前向值(stochastic parent)U1。"
      ],
      "metadata": {
        "id": "egVoryB0f1an"
      }
    },
    {
      "cell_type": "code",
      "source": [
        "# intervened on B instead\n",
        "a = u_0\n",
        "b = np.random.randn(SAMPLE_SIZE)\n",
        "r, p = stats.pearsonr(a, b)\n",
        "print(f'Mean of B after the intervention on B: {b.mean():.3f}')\n",
        "print(f'Variance of B after the intervention on B: {b.var():.3f}')\n",
        "print(f'Correlation between A and B after intervening on B:\\nr ={r:.3f}; p = {p:.3f}\\n')"
      ],
      "metadata": {
        "colab": {
          "base_uri": "https://localhost:8080/"
        },
        "id": "lb1qLC43fxKK",
        "outputId": "4e22366d-333b-443f-e01e-8fecb5f8cd9e"
      },
      "execution_count": null,
      "outputs": [
        {
          "output_type": "stream",
          "name": "stdout",
          "text": [
            "Mean of B after the intervention on B: 0.186\n",
            "Variance of B after the intervention on B: 0.995\n",
            "Correlation between A and B after intervening on B:\n",
            "r =-0.023; p = 0.821\n",
            "\n"
          ]
        }
      ]
    },
    {
      "cell_type": "code",
      "source": [
        "plt.scatter(a, b)\n",
        "plt.xlabel('A')\n",
        "plt.ylabel('B')\n",
        "plt.show()"
      ],
      "metadata": {
        "colab": {
          "base_uri": "https://localhost:8080/",
          "height": 449
        },
        "id": "eBB740bBge5h",
        "outputId": "14ad921c-6937-46d0-a9f4-507cbeb7f81f"
      },
      "execution_count": null,
      "outputs": [
        {
          "output_type": "display_data",
          "data": {
            "text/plain": [
              "<Figure size 640x480 with 1 Axes>"
            ],
            "image/png": "[encoded data removed]"
          },
          "metadata": {}
        }
      ]
    },
    {
      "cell_type": "markdown",
      "source": [
        "Note that the correlation between A and B dropped to almost zero ( r=−.023 ), and the corresponding p -value indicates a lack of significance ( p=.821 ). This indicates that after the intervention, A and B became (linearly) independent. This result suggests that there is no causal link from B to A . At the same time, previous results demonstrated that intervening on A changes B , indicating that there is a causal link from A to B"
      ],
      "metadata": {
        "id": "As2zBs9Jhunv"
      }
    },
    {
      "cell_type": "markdown",
      "source": [
        "# Ladder Three: Counterfactuals"
      ],
      "metadata": {
        "id": "UbhKBFk7JeoZ"
      }
    },
    {
      "cell_type": "code",
      "source": [
        "class CounterfactualSCM:\n",
        "  # adbuction 溯因\n",
        "  def abduct(self, t, y):\n",
        "    \"\"\"\n",
        "    Compute the value of exogenous variables `U`, given thenvalue for treatment `T` and the actual outcome whicich is t and y\n",
        "\n",
        "    Take the example of the coffee:\n",
        "    U: the value revalue person's coffee-sensitivity\n",
        "    T: the treatment of drinking coffe. 1 is drink, 0 is not drink\n",
        "    y: the actual outcome of drinking coffee. 1 is uncomfortable, 0 is comfortable\n",
        "    \"\"\"\n",
        "    return (t + y - 1)/(2*t - 1)\n",
        "  # 修改 do-factor\n",
        "  def modify(self, t):\n",
        "    \"\"\"\n",
        "    modify the def by assign the `t` to `T`\n",
        "    The `t` is the treatment at the counterfactual of interest (or the treatment we did not apply to)\n",
        "\n",
        "    Here t can be 0 if the original treament is 1, and vice versa\n",
        "    \"\"\"\n",
        "    return lambda u: t * u + (t - 1) * (u - 1)\n",
        "  # 预测\n",
        "  def predict(self, u, t):\n",
        "    return self.modify(t)(u)"
      ],
      "metadata": {
        "id": "BxIc_sYWgiTU"
      },
      "execution_count": 3,
      "outputs": []
    },
    {
      "cell_type": "code",
      "source": [
        "coffee = CounterfactualSCM()\n",
        "t = 1\n",
        "y = 1\n",
        "# which means `person drink the coffee` & `people fell uncomfortable`"
      ],
      "metadata": {
        "id": "o7ZZv0Pjnoq5"
      },
      "execution_count": 4,
      "outputs": []
    },
    {
      "cell_type": "code",
      "source": [
        "u = coffee.abduct(t=t, y=y)\n",
        "# get the result for the first step of abduction, 1 means that the person is coffee-sensitive\n",
        "u"
      ],
      "metadata": {
        "colab": {
          "base_uri": "https://localhost:8080/"
        },
        "id": "1iw1gtzWp_Oc",
        "outputId": "d0eaafc5-dc70-4ffc-889b-e7f26ea91949"
      },
      "execution_count": 5,
      "outputs": [
        {
          "output_type": "execute_result",
          "data": {
            "text/plain": [
              "1.0"
            ]
          },
          "metadata": {},
          "execution_count": 5
        }
      ]
    },
    {
      "cell_type": "code",
      "source": [
        "# apply the counterfactual prediction\n",
        "coffee.predict(u=u, t=0)\n",
        "# here u is the result from the abduction, which is 1\n",
        "# and t = 0 which we apply the counterfactual treatment\n",
        "# and get the result of y for the counterfactual treatment"
      ],
      "metadata": {
        "colab": {
          "base_uri": "https://localhost:8080/"
        },
        "id": "_Hhn4nymqAFy",
        "outputId": "3b989bc0-f2ad-48ed-f119-b798da5f3072"
      },
      "execution_count": 6,
      "outputs": [
        {
          "output_type": "execute_result",
          "data": {
            "text/plain": [
              "0.0"
            ]
          },
          "metadata": {},
          "execution_count": 6
        }
      ]
    },
    {
      "cell_type": "code",
      "source": [],
      "metadata": {
        "id": "3dOSyyP3qn2c"
      },
      "execution_count": null,
      "outputs": []
    }
  ]
}